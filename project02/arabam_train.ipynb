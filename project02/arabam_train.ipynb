{
 "cells": [
  {
   "cell_type": "markdown",
   "id": "8d0d3df2",
   "metadata": {},
   "source": [
    "# Cleaning & Editing"
   ]
  },
  {
   "cell_type": "code",
   "execution_count": 1,
   "id": "c4c15d61",
   "metadata": {},
   "outputs": [],
   "source": [
    "import numpy as np\n",
    "import pandas as pd\n",
    "from pandas import Series, DataFrame\n",
    "import matplotlib.pyplot as plt\n",
    "import seaborn as sns\n",
    "import warnings\n",
    "warnings.filterwarnings(\"ignore\")"
   ]
  },
  {
   "cell_type": "code",
   "execution_count": 2,
   "id": "e3c2d4af",
   "metadata": {
    "scrolled": true
   },
   "outputs": [],
   "source": [
    "train = pd.read_csv('train_arabam.csv').drop(columns='Unnamed: 0')"
   ]
  },
  {
   "cell_type": "code",
   "execution_count": 3,
   "id": "66cd23aa",
   "metadata": {
    "scrolled": true
   },
   "outputs": [
    {
     "data": {
      "text/html": [
       "<div>\n",
       "<style scoped>\n",
       "    .dataframe tbody tr th:only-of-type {\n",
       "        vertical-align: middle;\n",
       "    }\n",
       "\n",
       "    .dataframe tbody tr th {\n",
       "        vertical-align: top;\n",
       "    }\n",
       "\n",
       "    .dataframe thead th {\n",
       "        text-align: right;\n",
       "    }\n",
       "</style>\n",
       "<table border=\"1\" class=\"dataframe\">\n",
       "  <thead>\n",
       "    <tr style=\"text-align: right;\">\n",
       "      <th></th>\n",
       "      <th>price_try</th>\n",
       "      <th>make</th>\n",
       "      <th>series</th>\n",
       "      <th>model</th>\n",
       "      <th>year</th>\n",
       "      <th>km</th>\n",
       "      <th>transmission</th>\n",
       "      <th>fuel</th>\n",
       "      <th>body_type</th>\n",
       "      <th>warranty</th>\n",
       "      <th>...</th>\n",
       "      <th>cylinder_number</th>\n",
       "      <th>torque_nm</th>\n",
       "      <th>engine_capacity_cc</th>\n",
       "      <th>engine_power_hp</th>\n",
       "      <th>max_power_rpm</th>\n",
       "      <th>min_power_rpm</th>\n",
       "      <th>acceleration_0to100_sec</th>\n",
       "      <th>max_speed_kmh</th>\n",
       "      <th>average_fuel_consumption_lt</th>\n",
       "      <th>painted_changed</th>\n",
       "    </tr>\n",
       "  </thead>\n",
       "  <tbody>\n",
       "    <tr>\n",
       "      <th>0</th>\n",
       "      <td>364950</td>\n",
       "      <td>Peugeot</td>\n",
       "      <td>307</td>\n",
       "      <td>1.6 Premium</td>\n",
       "      <td>2003</td>\n",
       "      <td>149000</td>\n",
       "      <td>Düz</td>\n",
       "      <td>LPG &amp; Benzin</td>\n",
       "      <td>Hatchback/5</td>\n",
       "      <td>Garantisi Yok</td>\n",
       "      <td>...</td>\n",
       "      <td>4.0</td>\n",
       "      <td>147.0</td>\n",
       "      <td>1587</td>\n",
       "      <td>110</td>\n",
       "      <td>NaN</td>\n",
       "      <td>NaN</td>\n",
       "      <td>11,6</td>\n",
       "      <td>190.0</td>\n",
       "      <td>7,2</td>\n",
       "      <td>Belirtilmemiş</td>\n",
       "    </tr>\n",
       "    <tr>\n",
       "      <th>1</th>\n",
       "      <td>769950</td>\n",
       "      <td>BMW</td>\n",
       "      <td>5 Serisi</td>\n",
       "      <td>520d Premium</td>\n",
       "      <td>2008</td>\n",
       "      <td>369000</td>\n",
       "      <td>Otomatik</td>\n",
       "      <td>Dizel</td>\n",
       "      <td>Sedan</td>\n",
       "      <td>Garantisi Yok</td>\n",
       "      <td>...</td>\n",
       "      <td>4.0</td>\n",
       "      <td>350.0</td>\n",
       "      <td>1995</td>\n",
       "      <td>177</td>\n",
       "      <td>4000.0</td>\n",
       "      <td>1750.0</td>\n",
       "      <td>8,4</td>\n",
       "      <td>226.0</td>\n",
       "      <td>6,1</td>\n",
       "      <td>Tamamı orjinal</td>\n",
       "    </tr>\n",
       "    <tr>\n",
       "      <th>2</th>\n",
       "      <td>635000</td>\n",
       "      <td>Ford</td>\n",
       "      <td>Focus</td>\n",
       "      <td>1.6 TDCi Trend X</td>\n",
       "      <td>2012</td>\n",
       "      <td>210000</td>\n",
       "      <td>Düz</td>\n",
       "      <td>Dizel</td>\n",
       "      <td>Sedan</td>\n",
       "      <td>Garantisi Yok</td>\n",
       "      <td>...</td>\n",
       "      <td>4.0</td>\n",
       "      <td>230.0</td>\n",
       "      <td>1560</td>\n",
       "      <td>95</td>\n",
       "      <td>3600.0</td>\n",
       "      <td>2000.0</td>\n",
       "      <td>12,5</td>\n",
       "      <td>180.0</td>\n",
       "      <td>4,2</td>\n",
       "      <td>Tamamı orjinal</td>\n",
       "    </tr>\n",
       "    <tr>\n",
       "      <th>3</th>\n",
       "      <td>1760000</td>\n",
       "      <td>Mercedes - Benz</td>\n",
       "      <td>A</td>\n",
       "      <td>A 180 Progressive</td>\n",
       "      <td>2020</td>\n",
       "      <td>38000</td>\n",
       "      <td>Yarı Otomatik</td>\n",
       "      <td>Benzin</td>\n",
       "      <td>Sedan</td>\n",
       "      <td>NaN</td>\n",
       "      <td>...</td>\n",
       "      <td>4.0</td>\n",
       "      <td>200.0</td>\n",
       "      <td>1332</td>\n",
       "      <td>136</td>\n",
       "      <td>5500.0</td>\n",
       "      <td>1460.0</td>\n",
       "      <td>9,3</td>\n",
       "      <td>216.0</td>\n",
       "      <td>5,3</td>\n",
       "      <td>Tamamı orjinal</td>\n",
       "    </tr>\n",
       "    <tr>\n",
       "      <th>4</th>\n",
       "      <td>850000</td>\n",
       "      <td>Renault</td>\n",
       "      <td>Megane</td>\n",
       "      <td>1.2 TCe Joy</td>\n",
       "      <td>2021</td>\n",
       "      <td>30000</td>\n",
       "      <td>Düz</td>\n",
       "      <td>Benzin</td>\n",
       "      <td>Sedan</td>\n",
       "      <td>NaN</td>\n",
       "      <td>...</td>\n",
       "      <td>4.0</td>\n",
       "      <td>205.0</td>\n",
       "      <td>1198</td>\n",
       "      <td>130</td>\n",
       "      <td>5500.0</td>\n",
       "      <td>2000.0</td>\n",
       "      <td>10,3</td>\n",
       "      <td>200.0</td>\n",
       "      <td>5,4</td>\n",
       "      <td>Belirtilmemiş</td>\n",
       "    </tr>\n",
       "    <tr>\n",
       "      <th>...</th>\n",
       "      <td>...</td>\n",
       "      <td>...</td>\n",
       "      <td>...</td>\n",
       "      <td>...</td>\n",
       "      <td>...</td>\n",
       "      <td>...</td>\n",
       "      <td>...</td>\n",
       "      <td>...</td>\n",
       "      <td>...</td>\n",
       "      <td>...</td>\n",
       "      <td>...</td>\n",
       "      <td>...</td>\n",
       "      <td>...</td>\n",
       "      <td>...</td>\n",
       "      <td>...</td>\n",
       "      <td>...</td>\n",
       "      <td>...</td>\n",
       "      <td>...</td>\n",
       "      <td>...</td>\n",
       "      <td>...</td>\n",
       "      <td>...</td>\n",
       "    </tr>\n",
       "    <tr>\n",
       "      <th>1495</th>\n",
       "      <td>635000</td>\n",
       "      <td>Seat</td>\n",
       "      <td>Ibiza</td>\n",
       "      <td>1.4 Style</td>\n",
       "      <td>2012</td>\n",
       "      <td>137000</td>\n",
       "      <td>Düz</td>\n",
       "      <td>Benzin</td>\n",
       "      <td>Hatchback/5</td>\n",
       "      <td>-</td>\n",
       "      <td>...</td>\n",
       "      <td>4.0</td>\n",
       "      <td>132.0</td>\n",
       "      <td>1390</td>\n",
       "      <td>85</td>\n",
       "      <td>5000.0</td>\n",
       "      <td>3800.0</td>\n",
       "      <td>11,8</td>\n",
       "      <td>177.0</td>\n",
       "      <td>5,9</td>\n",
       "      <td>3 boyalı</td>\n",
       "    </tr>\n",
       "    <tr>\n",
       "      <th>1496</th>\n",
       "      <td>275000</td>\n",
       "      <td>Fiat</td>\n",
       "      <td>Palio</td>\n",
       "      <td>1.6 HL</td>\n",
       "      <td>1999</td>\n",
       "      <td>256000</td>\n",
       "      <td>Düz</td>\n",
       "      <td>LPG &amp; Benzin</td>\n",
       "      <td>Hatchback/5</td>\n",
       "      <td>NaN</td>\n",
       "      <td>...</td>\n",
       "      <td>4.0</td>\n",
       "      <td>140.0</td>\n",
       "      <td>1581</td>\n",
       "      <td>100</td>\n",
       "      <td>5750.0</td>\n",
       "      <td>4000.0</td>\n",
       "      <td>10,3</td>\n",
       "      <td>186.0</td>\n",
       "      <td>8,3</td>\n",
       "      <td>12 boyalı</td>\n",
       "    </tr>\n",
       "    <tr>\n",
       "      <th>1497</th>\n",
       "      <td>662000</td>\n",
       "      <td>Renault</td>\n",
       "      <td>Clio</td>\n",
       "      <td>0.9 TCe Joy</td>\n",
       "      <td>2020</td>\n",
       "      <td>42000</td>\n",
       "      <td>Düz</td>\n",
       "      <td>Benzin</td>\n",
       "      <td>Hatchback/5</td>\n",
       "      <td>NaN</td>\n",
       "      <td>...</td>\n",
       "      <td>3.0</td>\n",
       "      <td>140.0</td>\n",
       "      <td>898</td>\n",
       "      <td>90</td>\n",
       "      <td>5000.0</td>\n",
       "      <td>2500.0</td>\n",
       "      <td>12,9</td>\n",
       "      <td>178.0</td>\n",
       "      <td>5</td>\n",
       "      <td>Tamamı orjinal</td>\n",
       "    </tr>\n",
       "    <tr>\n",
       "      <th>1498</th>\n",
       "      <td>610000</td>\n",
       "      <td>Ford</td>\n",
       "      <td>Focus</td>\n",
       "      <td>1.6 Ghia</td>\n",
       "      <td>2006</td>\n",
       "      <td>200000</td>\n",
       "      <td>Düz</td>\n",
       "      <td>LPG &amp; Benzin</td>\n",
       "      <td>Sedan</td>\n",
       "      <td>NaN</td>\n",
       "      <td>...</td>\n",
       "      <td>4.0</td>\n",
       "      <td>155.0</td>\n",
       "      <td>1596</td>\n",
       "      <td>115</td>\n",
       "      <td>6000.0</td>\n",
       "      <td>4150.0</td>\n",
       "      <td>10,8</td>\n",
       "      <td>190.0</td>\n",
       "      <td>6,4</td>\n",
       "      <td>Tamamı orjinal</td>\n",
       "    </tr>\n",
       "    <tr>\n",
       "      <th>1499</th>\n",
       "      <td>629000</td>\n",
       "      <td>Volkswagen</td>\n",
       "      <td>Polo</td>\n",
       "      <td>1.4 TDi Trendline</td>\n",
       "      <td>2015</td>\n",
       "      <td>162000</td>\n",
       "      <td>Düz</td>\n",
       "      <td>Dizel</td>\n",
       "      <td>Hatchback/5</td>\n",
       "      <td>NaN</td>\n",
       "      <td>...</td>\n",
       "      <td>3.0</td>\n",
       "      <td>210.0</td>\n",
       "      <td>1422</td>\n",
       "      <td>75</td>\n",
       "      <td>3750.0</td>\n",
       "      <td>1500.0</td>\n",
       "      <td>12,9</td>\n",
       "      <td>173.0</td>\n",
       "      <td>3,6</td>\n",
       "      <td>1 boyalı</td>\n",
       "    </tr>\n",
       "  </tbody>\n",
       "</table>\n",
       "<p>1500 rows × 22 columns</p>\n",
       "</div>"
      ],
      "text/plain": [
       "     price_try             make    series              model  year      km  \\\n",
       "0       364950          Peugeot       307        1.6 Premium  2003  149000   \n",
       "1       769950              BMW  5 Serisi       520d Premium  2008  369000   \n",
       "2       635000             Ford     Focus   1.6 TDCi Trend X  2012  210000   \n",
       "3      1760000  Mercedes - Benz         A  A 180 Progressive  2020   38000   \n",
       "4       850000          Renault    Megane        1.2 TCe Joy  2021   30000   \n",
       "...        ...              ...       ...                ...   ...     ...   \n",
       "1495    635000             Seat     Ibiza          1.4 Style  2012  137000   \n",
       "1496    275000             Fiat     Palio             1.6 HL  1999  256000   \n",
       "1497    662000          Renault      Clio        0.9 TCe Joy  2020   42000   \n",
       "1498    610000             Ford     Focus           1.6 Ghia  2006  200000   \n",
       "1499    629000       Volkswagen      Polo  1.4 TDi Trendline  2015  162000   \n",
       "\n",
       "       transmission          fuel    body_type       warranty  ...  \\\n",
       "0               Düz  LPG & Benzin  Hatchback/5  Garantisi Yok  ...   \n",
       "1          Otomatik         Dizel        Sedan  Garantisi Yok  ...   \n",
       "2               Düz         Dizel        Sedan  Garantisi Yok  ...   \n",
       "3     Yarı Otomatik        Benzin        Sedan            NaN  ...   \n",
       "4               Düz        Benzin        Sedan            NaN  ...   \n",
       "...             ...           ...          ...            ...  ...   \n",
       "1495            Düz        Benzin  Hatchback/5              -  ...   \n",
       "1496            Düz  LPG & Benzin  Hatchback/5            NaN  ...   \n",
       "1497            Düz        Benzin  Hatchback/5            NaN  ...   \n",
       "1498            Düz  LPG & Benzin        Sedan            NaN  ...   \n",
       "1499            Düz         Dizel  Hatchback/5            NaN  ...   \n",
       "\n",
       "     cylinder_number torque_nm  engine_capacity_cc  engine_power_hp  \\\n",
       "0                4.0     147.0                1587              110   \n",
       "1                4.0     350.0                1995              177   \n",
       "2                4.0     230.0                1560               95   \n",
       "3                4.0     200.0                1332              136   \n",
       "4                4.0     205.0                1198              130   \n",
       "...              ...       ...                 ...              ...   \n",
       "1495             4.0     132.0                1390               85   \n",
       "1496             4.0     140.0                1581              100   \n",
       "1497             3.0     140.0                 898               90   \n",
       "1498             4.0     155.0                1596              115   \n",
       "1499             3.0     210.0                1422               75   \n",
       "\n",
       "     max_power_rpm min_power_rpm  acceleration_0to100_sec  max_speed_kmh  \\\n",
       "0              NaN           NaN                     11,6          190.0   \n",
       "1           4000.0        1750.0                      8,4          226.0   \n",
       "2           3600.0        2000.0                     12,5          180.0   \n",
       "3           5500.0        1460.0                      9,3          216.0   \n",
       "4           5500.0        2000.0                     10,3          200.0   \n",
       "...            ...           ...                      ...            ...   \n",
       "1495        5000.0        3800.0                     11,8          177.0   \n",
       "1496        5750.0        4000.0                     10,3          186.0   \n",
       "1497        5000.0        2500.0                     12,9          178.0   \n",
       "1498        6000.0        4150.0                     10,8          190.0   \n",
       "1499        3750.0        1500.0                     12,9          173.0   \n",
       "\n",
       "     average_fuel_consumption_lt  painted_changed  \n",
       "0                            7,2    Belirtilmemiş  \n",
       "1                            6,1   Tamamı orjinal  \n",
       "2                            4,2   Tamamı orjinal  \n",
       "3                            5,3   Tamamı orjinal  \n",
       "4                            5,4    Belirtilmemiş  \n",
       "...                          ...              ...  \n",
       "1495                         5,9         3 boyalı  \n",
       "1496                         8,3        12 boyalı  \n",
       "1497                           5   Tamamı orjinal  \n",
       "1498                         6,4   Tamamı orjinal  \n",
       "1499                         3,6         1 boyalı  \n",
       "\n",
       "[1500 rows x 22 columns]"
      ]
     },
     "execution_count": 3,
     "metadata": {},
     "output_type": "execute_result"
    }
   ],
   "source": [
    "train"
   ]
  },
  {
   "cell_type": "code",
   "execution_count": 4,
   "id": "e351af50",
   "metadata": {
    "scrolled": true
   },
   "outputs": [
    {
     "name": "stdout",
     "output_type": "stream",
     "text": [
      "<class 'pandas.core.frame.DataFrame'>\n",
      "RangeIndex: 1500 entries, 0 to 1499\n",
      "Data columns (total 22 columns):\n",
      " #   Column                       Non-Null Count  Dtype  \n",
      "---  ------                       --------------  -----  \n",
      " 0   price_try                    1500 non-null   object \n",
      " 1   make                         1500 non-null   object \n",
      " 2   series                       1500 non-null   object \n",
      " 3   model                        1500 non-null   object \n",
      " 4   year                         1500 non-null   object \n",
      " 5   km                           1500 non-null   int64  \n",
      " 6   transmission                 1500 non-null   object \n",
      " 7   fuel                         1500 non-null   object \n",
      " 8   body_type                    1500 non-null   object \n",
      " 9   warranty                     1046 non-null   object \n",
      " 10  from_                        1500 non-null   object \n",
      " 11  wheel_drive                  1485 non-null   object \n",
      " 12  cylinder_number              1452 non-null   float64\n",
      " 13  torque_nm                    1417 non-null   float64\n",
      " 14  engine_capacity_cc           1483 non-null   object \n",
      " 15  engine_power_hp              1476 non-null   object \n",
      " 16  max_power_rpm                1239 non-null   float64\n",
      " 17  min_power_rpm                1238 non-null   float64\n",
      " 18  acceleration_0to100_sec      1384 non-null   object \n",
      " 19  max_speed_kmh                1399 non-null   float64\n",
      " 20  average_fuel_consumption_lt  1343 non-null   object \n",
      " 21  painted_changed              1500 non-null   object \n",
      "dtypes: float64(5), int64(1), object(16)\n",
      "memory usage: 257.9+ KB\n"
     ]
    }
   ],
   "source": [
    "train.info()"
   ]
  },
  {
   "cell_type": "code",
   "execution_count": 5,
   "id": "1d0950a5",
   "metadata": {},
   "outputs": [
    {
     "data": {
      "text/html": [
       "<div>\n",
       "<style scoped>\n",
       "    .dataframe tbody tr th:only-of-type {\n",
       "        vertical-align: middle;\n",
       "    }\n",
       "\n",
       "    .dataframe tbody tr th {\n",
       "        vertical-align: top;\n",
       "    }\n",
       "\n",
       "    .dataframe thead th {\n",
       "        text-align: right;\n",
       "    }\n",
       "</style>\n",
       "<table border=\"1\" class=\"dataframe\">\n",
       "  <thead>\n",
       "    <tr style=\"text-align: right;\">\n",
       "      <th></th>\n",
       "      <th>km</th>\n",
       "      <th>cylinder_number</th>\n",
       "      <th>torque_nm</th>\n",
       "      <th>max_power_rpm</th>\n",
       "      <th>min_power_rpm</th>\n",
       "      <th>max_speed_kmh</th>\n",
       "    </tr>\n",
       "  </thead>\n",
       "  <tbody>\n",
       "    <tr>\n",
       "      <th>km</th>\n",
       "      <td>1.000000</td>\n",
       "      <td>0.196653</td>\n",
       "      <td>0.038697</td>\n",
       "      <td>-0.175886</td>\n",
       "      <td>-0.028017</td>\n",
       "      <td>-0.024003</td>\n",
       "    </tr>\n",
       "    <tr>\n",
       "      <th>cylinder_number</th>\n",
       "      <td>0.196653</td>\n",
       "      <td>1.000000</td>\n",
       "      <td>0.343964</td>\n",
       "      <td>-0.056815</td>\n",
       "      <td>0.022903</td>\n",
       "      <td>0.281674</td>\n",
       "    </tr>\n",
       "    <tr>\n",
       "      <th>torque_nm</th>\n",
       "      <td>0.038697</td>\n",
       "      <td>0.343964</td>\n",
       "      <td>1.000000</td>\n",
       "      <td>-0.550216</td>\n",
       "      <td>-0.506992</td>\n",
       "      <td>0.694015</td>\n",
       "    </tr>\n",
       "    <tr>\n",
       "      <th>max_power_rpm</th>\n",
       "      <td>-0.175886</td>\n",
       "      <td>-0.056815</td>\n",
       "      <td>-0.550216</td>\n",
       "      <td>1.000000</td>\n",
       "      <td>0.815319</td>\n",
       "      <td>0.018590</td>\n",
       "    </tr>\n",
       "    <tr>\n",
       "      <th>min_power_rpm</th>\n",
       "      <td>-0.028017</td>\n",
       "      <td>0.022903</td>\n",
       "      <td>-0.506992</td>\n",
       "      <td>0.815319</td>\n",
       "      <td>1.000000</td>\n",
       "      <td>-0.046457</td>\n",
       "    </tr>\n",
       "    <tr>\n",
       "      <th>max_speed_kmh</th>\n",
       "      <td>-0.024003</td>\n",
       "      <td>0.281674</td>\n",
       "      <td>0.694015</td>\n",
       "      <td>0.018590</td>\n",
       "      <td>-0.046457</td>\n",
       "      <td>1.000000</td>\n",
       "    </tr>\n",
       "  </tbody>\n",
       "</table>\n",
       "</div>"
      ],
      "text/plain": [
       "                       km  cylinder_number  torque_nm  max_power_rpm  \\\n",
       "km               1.000000         0.196653   0.038697      -0.175886   \n",
       "cylinder_number  0.196653         1.000000   0.343964      -0.056815   \n",
       "torque_nm        0.038697         0.343964   1.000000      -0.550216   \n",
       "max_power_rpm   -0.175886        -0.056815  -0.550216       1.000000   \n",
       "min_power_rpm   -0.028017         0.022903  -0.506992       0.815319   \n",
       "max_speed_kmh   -0.024003         0.281674   0.694015       0.018590   \n",
       "\n",
       "                 min_power_rpm  max_speed_kmh  \n",
       "km                   -0.028017      -0.024003  \n",
       "cylinder_number       0.022903       0.281674  \n",
       "torque_nm            -0.506992       0.694015  \n",
       "max_power_rpm         0.815319       0.018590  \n",
       "min_power_rpm         1.000000      -0.046457  \n",
       "max_speed_kmh        -0.046457       1.000000  "
      ]
     },
     "execution_count": 5,
     "metadata": {},
     "output_type": "execute_result"
    }
   ],
   "source": [
    "train.corr()"
   ]
  },
  {
   "cell_type": "code",
   "execution_count": 6,
   "id": "edac2e43",
   "metadata": {},
   "outputs": [
    {
     "data": {
      "image/png": "[encoded data removed]",
      "text/plain": [
       "<Figure size 800x600 with 2 Axes>"
      ]
     },
     "metadata": {},
     "output_type": "display_data"
    }
   ],
   "source": [
    "plt.figure(figsize=[8,6])\n",
    "sns.heatmap(train.corr(), cmap=\"seismic\", annot=True, vmin=-1, vmax=1);"
   ]
  },
  {
   "cell_type": "markdown",
   "id": "816b90d7",
   "metadata": {},
   "source": [
    "# -------------------------------------------------------------------------------------------\n",
    "# -------------------------------------------------------------------------------------------"
   ]
  },
  {
   "cell_type": "code",
   "execution_count": 7,
   "id": "329005a8",
   "metadata": {},
   "outputs": [
    {
     "data": {
      "text/plain": [
       "array(['1587', '1995', '1560', '1332', '1198', '1248', '1398', '1461',\n",
       "       '1199', '1598', '1422', '1597', '1364', '1499', '1595', '1493',\n",
       "       '1395', '1596', '1388', '1496', '999', '1582', '1401 - 1600 cm3',\n",
       "       '1390', '1468', '1229', '1590', '1329', '1498', '1149', '2599',\n",
       "       '1950', '1339', '1581', '1801 - 2000 cm3', '1368', '898', '2993',\n",
       "       '1968', '1197', '1399', '1275', '2143', '1896', '3982', '1206',\n",
       "       '1389', '1599', '2494', '2720', '1324', '1289', '1240', '1987',\n",
       "       '1242', '998', '1396', '1500', '1201 - 1400 cm3', '1998', '1400',\n",
       "       '1997', '1796', '1372', '1798', nan, '1490', '5001 - 5500 cm3',\n",
       "       '2979', '3518', '1397', '1360', '1991', '1296', '1591', '1592',\n",
       "       '1318', '1781', '2967', '1984', '4966', '2001 - 2500 cm3', '-',\n",
       "       '1497', '2501 - 3000 cm3', '1086', '4266', '1580', '2457', '1193',\n",
       "       '3430', '6748', '1108', '1589', '2068', '1489', '1495', '1341',\n",
       "       '1996', '1298', '1588', '1365', '1834', '1300', '2685', '1297',\n",
       "       '1601 - 1800 cm3', '1948', '1405', '2997', '3222', '1956', '1565',\n",
       "       '1859'], dtype=object)"
      ]
     },
     "execution_count": 7,
     "metadata": {},
     "output_type": "execute_result"
    }
   ],
   "source": [
    "train['engine_capacity_cc'].unique()"
   ]
  },
  {
   "cell_type": "code",
   "execution_count": 8,
   "id": "bcb42778",
   "metadata": {},
   "outputs": [],
   "source": [
    "train['engine_capacity_cc'] = train['engine_capacity_cc'].str.extract('(\\d+)')"
   ]
  },
  {
   "cell_type": "code",
   "execution_count": 9,
   "id": "f323ba5c",
   "metadata": {
    "scrolled": true
   },
   "outputs": [
    {
     "data": {
      "text/html": [
       "<div>\n",
       "<style scoped>\n",
       "    .dataframe tbody tr th:only-of-type {\n",
       "        vertical-align: middle;\n",
       "    }\n",
       "\n",
       "    .dataframe tbody tr th {\n",
       "        vertical-align: top;\n",
       "    }\n",
       "\n",
       "    .dataframe thead th {\n",
       "        text-align: right;\n",
       "    }\n",
       "</style>\n",
       "<table border=\"1\" class=\"dataframe\">\n",
       "  <thead>\n",
       "    <tr style=\"text-align: right;\">\n",
       "      <th></th>\n",
       "      <th>price_try</th>\n",
       "      <th>make</th>\n",
       "      <th>series</th>\n",
       "      <th>model</th>\n",
       "      <th>year</th>\n",
       "      <th>km</th>\n",
       "      <th>transmission</th>\n",
       "      <th>fuel</th>\n",
       "      <th>body_type</th>\n",
       "      <th>warranty</th>\n",
       "      <th>...</th>\n",
       "      <th>cylinder_number</th>\n",
       "      <th>torque_nm</th>\n",
       "      <th>engine_capacity_cc</th>\n",
       "      <th>engine_power_hp</th>\n",
       "      <th>max_power_rpm</th>\n",
       "      <th>min_power_rpm</th>\n",
       "      <th>acceleration_0to100_sec</th>\n",
       "      <th>max_speed_kmh</th>\n",
       "      <th>average_fuel_consumption_lt</th>\n",
       "      <th>painted_changed</th>\n",
       "    </tr>\n",
       "  </thead>\n",
       "  <tbody>\n",
       "    <tr>\n",
       "      <th>300</th>\n",
       "      <td>540000</td>\n",
       "      <td>Opel</td>\n",
       "      <td>Corsa</td>\n",
       "      <td>1.2 Twinport Enjoy</td>\n",
       "      <td>2014</td>\n",
       "      <td>150000</td>\n",
       "      <td>Düz</td>\n",
       "      <td>LPG &amp; Benzin</td>\n",
       "      <td>Hatchback/5</td>\n",
       "      <td>NaN</td>\n",
       "      <td>...</td>\n",
       "      <td>NaN</td>\n",
       "      <td>NaN</td>\n",
       "      <td>NaN</td>\n",
       "      <td>NaN</td>\n",
       "      <td>NaN</td>\n",
       "      <td>NaN</td>\n",
       "      <td>NaN</td>\n",
       "      <td>NaN</td>\n",
       "      <td>NaN</td>\n",
       "      <td>Belirtilmemiş</td>\n",
       "    </tr>\n",
       "    <tr>\n",
       "      <th>642</th>\n",
       "      <td>1226008</td>\n",
       "      <td>Opel</td>\n",
       "      <td>Corsa-e</td>\n",
       "      <td>Ultimate</td>\n",
       "      <td>2023</td>\n",
       "      <td>7008</td>\n",
       "      <td>Otomatik</td>\n",
       "      <td>Elektrik</td>\n",
       "      <td>Hatchback/5</td>\n",
       "      <td>Garantisi Var</td>\n",
       "      <td>...</td>\n",
       "      <td>NaN</td>\n",
       "      <td>260.0</td>\n",
       "      <td>NaN</td>\n",
       "      <td>136</td>\n",
       "      <td>NaN</td>\n",
       "      <td>NaN</td>\n",
       "      <td>8,1</td>\n",
       "      <td>150.0</td>\n",
       "      <td>NaN</td>\n",
       "      <td>Tamamı orjinal</td>\n",
       "    </tr>\n",
       "    <tr>\n",
       "      <th>760</th>\n",
       "      <td>375000</td>\n",
       "      <td>Renault</td>\n",
       "      <td>Clio</td>\n",
       "      <td>1.4 RNA</td>\n",
       "      <td>2002</td>\n",
       "      <td>244000</td>\n",
       "      <td>Düz</td>\n",
       "      <td>LPG &amp; Benzin</td>\n",
       "      <td>Sedan</td>\n",
       "      <td>-</td>\n",
       "      <td>...</td>\n",
       "      <td>NaN</td>\n",
       "      <td>NaN</td>\n",
       "      <td>NaN</td>\n",
       "      <td>-</td>\n",
       "      <td>NaN</td>\n",
       "      <td>NaN</td>\n",
       "      <td>NaN</td>\n",
       "      <td>NaN</td>\n",
       "      <td>NaN</td>\n",
       "      <td>Belirtilmemiş</td>\n",
       "    </tr>\n",
       "    <tr>\n",
       "      <th>763</th>\n",
       "      <td>470000</td>\n",
       "      <td>Renault</td>\n",
       "      <td>Megane</td>\n",
       "      <td>1.4 Authentique</td>\n",
       "      <td>2007</td>\n",
       "      <td>182000</td>\n",
       "      <td>Düz</td>\n",
       "      <td>LPG &amp; Benzin</td>\n",
       "      <td>Sedan</td>\n",
       "      <td>-</td>\n",
       "      <td>...</td>\n",
       "      <td>NaN</td>\n",
       "      <td>NaN</td>\n",
       "      <td>NaN</td>\n",
       "      <td>-</td>\n",
       "      <td>NaN</td>\n",
       "      <td>NaN</td>\n",
       "      <td>NaN</td>\n",
       "      <td>NaN</td>\n",
       "      <td>NaN</td>\n",
       "      <td>2 değişen, 3 boyalı</td>\n",
       "    </tr>\n",
       "    <tr>\n",
       "      <th>787</th>\n",
       "      <td>750000</td>\n",
       "      <td>Volkswagen</td>\n",
       "      <td>Jetta</td>\n",
       "      <td>1.4 TSi Highline</td>\n",
       "      <td>2012</td>\n",
       "      <td>214000</td>\n",
       "      <td>Düz</td>\n",
       "      <td>Benzin</td>\n",
       "      <td>Sedan</td>\n",
       "      <td>NaN</td>\n",
       "      <td>...</td>\n",
       "      <td>NaN</td>\n",
       "      <td>NaN</td>\n",
       "      <td>NaN</td>\n",
       "      <td>NaN</td>\n",
       "      <td>NaN</td>\n",
       "      <td>NaN</td>\n",
       "      <td>NaN</td>\n",
       "      <td>NaN</td>\n",
       "      <td>NaN</td>\n",
       "      <td>Belirtilmemiş</td>\n",
       "    </tr>\n",
       "    <tr>\n",
       "      <th>872</th>\n",
       "      <td>110000</td>\n",
       "      <td>Skoda</td>\n",
       "      <td>Forman</td>\n",
       "      <td>135 L</td>\n",
       "      <td>1993</td>\n",
       "      <td>500000</td>\n",
       "      <td>Düz</td>\n",
       "      <td>LPG &amp; Benzin</td>\n",
       "      <td>Cabrio</td>\n",
       "      <td>NaN</td>\n",
       "      <td>...</td>\n",
       "      <td>NaN</td>\n",
       "      <td>NaN</td>\n",
       "      <td>NaN</td>\n",
       "      <td>NaN</td>\n",
       "      <td>NaN</td>\n",
       "      <td>NaN</td>\n",
       "      <td>NaN</td>\n",
       "      <td>NaN</td>\n",
       "      <td>NaN</td>\n",
       "      <td>Belirtilmemiş</td>\n",
       "    </tr>\n",
       "    <tr>\n",
       "      <th>873</th>\n",
       "      <td>175000</td>\n",
       "      <td>Tofaş</td>\n",
       "      <td>Şahin</td>\n",
       "      <td>1.6</td>\n",
       "      <td>1996</td>\n",
       "      <td>55</td>\n",
       "      <td>Düz</td>\n",
       "      <td>LPG &amp; Benzin</td>\n",
       "      <td>Sedan</td>\n",
       "      <td>NaN</td>\n",
       "      <td>...</td>\n",
       "      <td>NaN</td>\n",
       "      <td>NaN</td>\n",
       "      <td>NaN</td>\n",
       "      <td>NaN</td>\n",
       "      <td>NaN</td>\n",
       "      <td>NaN</td>\n",
       "      <td>NaN</td>\n",
       "      <td>NaN</td>\n",
       "      <td>NaN</td>\n",
       "      <td>Belirtilmemiş</td>\n",
       "    </tr>\n",
       "    <tr>\n",
       "      <th>883</th>\n",
       "      <td>428000</td>\n",
       "      <td>Ford</td>\n",
       "      <td>Fusion</td>\n",
       "      <td>1.4 TDCi Comfort</td>\n",
       "      <td>2006</td>\n",
       "      <td>159500</td>\n",
       "      <td>Düz</td>\n",
       "      <td>Dizel</td>\n",
       "      <td>Hatchback/5</td>\n",
       "      <td>NaN</td>\n",
       "      <td>...</td>\n",
       "      <td>NaN</td>\n",
       "      <td>NaN</td>\n",
       "      <td>NaN</td>\n",
       "      <td>NaN</td>\n",
       "      <td>NaN</td>\n",
       "      <td>NaN</td>\n",
       "      <td>NaN</td>\n",
       "      <td>NaN</td>\n",
       "      <td>NaN</td>\n",
       "      <td>10 boyalı</td>\n",
       "    </tr>\n",
       "    <tr>\n",
       "      <th>894</th>\n",
       "      <td>650000</td>\n",
       "      <td>Volkswagen</td>\n",
       "      <td>Polo</td>\n",
       "      <td>1.2 Trendline</td>\n",
       "      <td>2012</td>\n",
       "      <td>120000</td>\n",
       "      <td>Düz</td>\n",
       "      <td>Benzin</td>\n",
       "      <td>Hatchback/3</td>\n",
       "      <td>NaN</td>\n",
       "      <td>...</td>\n",
       "      <td>NaN</td>\n",
       "      <td>NaN</td>\n",
       "      <td>NaN</td>\n",
       "      <td>NaN</td>\n",
       "      <td>NaN</td>\n",
       "      <td>NaN</td>\n",
       "      <td>NaN</td>\n",
       "      <td>NaN</td>\n",
       "      <td>NaN</td>\n",
       "      <td>1 boyalı</td>\n",
       "    </tr>\n",
       "    <tr>\n",
       "      <th>931</th>\n",
       "      <td>880000</td>\n",
       "      <td>Volvo</td>\n",
       "      <td>S80</td>\n",
       "      <td>2.4 D5 VIP</td>\n",
       "      <td>2008</td>\n",
       "      <td>340000</td>\n",
       "      <td>Otomatik</td>\n",
       "      <td>Dizel</td>\n",
       "      <td>Sedan</td>\n",
       "      <td>NaN</td>\n",
       "      <td>...</td>\n",
       "      <td>NaN</td>\n",
       "      <td>NaN</td>\n",
       "      <td>NaN</td>\n",
       "      <td>NaN</td>\n",
       "      <td>NaN</td>\n",
       "      <td>NaN</td>\n",
       "      <td>NaN</td>\n",
       "      <td>NaN</td>\n",
       "      <td>NaN</td>\n",
       "      <td>4 değişen, 2 boyalı</td>\n",
       "    </tr>\n",
       "    <tr>\n",
       "      <th>971</th>\n",
       "      <td>500000</td>\n",
       "      <td>Kia</td>\n",
       "      <td>Cerato</td>\n",
       "      <td>1.6 EX Advance</td>\n",
       "      <td>2007</td>\n",
       "      <td>241000</td>\n",
       "      <td>Düz</td>\n",
       "      <td>Dizel</td>\n",
       "      <td>Sedan</td>\n",
       "      <td>NaN</td>\n",
       "      <td>...</td>\n",
       "      <td>NaN</td>\n",
       "      <td>NaN</td>\n",
       "      <td>NaN</td>\n",
       "      <td>NaN</td>\n",
       "      <td>NaN</td>\n",
       "      <td>NaN</td>\n",
       "      <td>NaN</td>\n",
       "      <td>NaN</td>\n",
       "      <td>NaN</td>\n",
       "      <td>Belirtilmemiş</td>\n",
       "    </tr>\n",
       "    <tr>\n",
       "      <th>1018</th>\n",
       "      <td>350000</td>\n",
       "      <td>Renault</td>\n",
       "      <td>Clio</td>\n",
       "      <td>1.4 RNA</td>\n",
       "      <td>2001</td>\n",
       "      <td>190000</td>\n",
       "      <td>Düz</td>\n",
       "      <td>LPG &amp; Benzin</td>\n",
       "      <td>Sedan</td>\n",
       "      <td>NaN</td>\n",
       "      <td>...</td>\n",
       "      <td>NaN</td>\n",
       "      <td>NaN</td>\n",
       "      <td>NaN</td>\n",
       "      <td>NaN</td>\n",
       "      <td>NaN</td>\n",
       "      <td>NaN</td>\n",
       "      <td>NaN</td>\n",
       "      <td>NaN</td>\n",
       "      <td>NaN</td>\n",
       "      <td>Belirtilmemiş</td>\n",
       "    </tr>\n",
       "    <tr>\n",
       "      <th>1035</th>\n",
       "      <td>260000</td>\n",
       "      <td>Peugeot</td>\n",
       "      <td>206</td>\n",
       "      <td>1.4 X-Line</td>\n",
       "      <td>2004</td>\n",
       "      <td>300000</td>\n",
       "      <td>Düz</td>\n",
       "      <td>LPG &amp; Benzin</td>\n",
       "      <td>Cabrio</td>\n",
       "      <td>NaN</td>\n",
       "      <td>...</td>\n",
       "      <td>NaN</td>\n",
       "      <td>NaN</td>\n",
       "      <td>NaN</td>\n",
       "      <td>NaN</td>\n",
       "      <td>NaN</td>\n",
       "      <td>NaN</td>\n",
       "      <td>NaN</td>\n",
       "      <td>NaN</td>\n",
       "      <td>NaN</td>\n",
       "      <td>3 değişen, 10 boyalı</td>\n",
       "    </tr>\n",
       "    <tr>\n",
       "      <th>1073</th>\n",
       "      <td>360000</td>\n",
       "      <td>Peugeot</td>\n",
       "      <td>406</td>\n",
       "      <td>2.0 HDi ST</td>\n",
       "      <td>2006</td>\n",
       "      <td>3110</td>\n",
       "      <td>Düz</td>\n",
       "      <td>Dizel</td>\n",
       "      <td>Sedan</td>\n",
       "      <td>NaN</td>\n",
       "      <td>...</td>\n",
       "      <td>NaN</td>\n",
       "      <td>NaN</td>\n",
       "      <td>NaN</td>\n",
       "      <td>NaN</td>\n",
       "      <td>NaN</td>\n",
       "      <td>NaN</td>\n",
       "      <td>NaN</td>\n",
       "      <td>NaN</td>\n",
       "      <td>NaN</td>\n",
       "      <td>1 değişen, 1 boyalı</td>\n",
       "    </tr>\n",
       "    <tr>\n",
       "      <th>1177</th>\n",
       "      <td>485000</td>\n",
       "      <td>Fiat</td>\n",
       "      <td>Punto</td>\n",
       "      <td>Grande 1.4 Fire Active</td>\n",
       "      <td>2009</td>\n",
       "      <td>189517</td>\n",
       "      <td>Düz</td>\n",
       "      <td>LPG &amp; Benzin</td>\n",
       "      <td>Hatchback/5</td>\n",
       "      <td>NaN</td>\n",
       "      <td>...</td>\n",
       "      <td>NaN</td>\n",
       "      <td>NaN</td>\n",
       "      <td>NaN</td>\n",
       "      <td>NaN</td>\n",
       "      <td>NaN</td>\n",
       "      <td>NaN</td>\n",
       "      <td>NaN</td>\n",
       "      <td>NaN</td>\n",
       "      <td>NaN</td>\n",
       "      <td>Tamamı orjinal</td>\n",
       "    </tr>\n",
       "    <tr>\n",
       "      <th>1267</th>\n",
       "      <td>250000</td>\n",
       "      <td>Renault</td>\n",
       "      <td>R 19</td>\n",
       "      <td>1.6 Europa RT</td>\n",
       "      <td>1996</td>\n",
       "      <td>245000</td>\n",
       "      <td>Düz</td>\n",
       "      <td>LPG &amp; Benzin</td>\n",
       "      <td>Hatchback/5</td>\n",
       "      <td>NaN</td>\n",
       "      <td>...</td>\n",
       "      <td>NaN</td>\n",
       "      <td>NaN</td>\n",
       "      <td>NaN</td>\n",
       "      <td>NaN</td>\n",
       "      <td>NaN</td>\n",
       "      <td>NaN</td>\n",
       "      <td>NaN</td>\n",
       "      <td>NaN</td>\n",
       "      <td>NaN</td>\n",
       "      <td>Belirtilmemiş</td>\n",
       "    </tr>\n",
       "    <tr>\n",
       "      <th>1324</th>\n",
       "      <td>990000</td>\n",
       "      <td>Honda</td>\n",
       "      <td>Civic</td>\n",
       "      <td>1.6 i-VTEC Eco Executive</td>\n",
       "      <td>2017</td>\n",
       "      <td>110000</td>\n",
       "      <td>Otomatik</td>\n",
       "      <td>LPG &amp; Benzin</td>\n",
       "      <td>Hatchback/5</td>\n",
       "      <td>NaN</td>\n",
       "      <td>...</td>\n",
       "      <td>NaN</td>\n",
       "      <td>NaN</td>\n",
       "      <td>NaN</td>\n",
       "      <td>NaN</td>\n",
       "      <td>NaN</td>\n",
       "      <td>NaN</td>\n",
       "      <td>NaN</td>\n",
       "      <td>NaN</td>\n",
       "      <td>NaN</td>\n",
       "      <td>1 değişen, 1 boyalı</td>\n",
       "    </tr>\n",
       "    <tr>\n",
       "      <th>1335</th>\n",
       "      <td>450000</td>\n",
       "      <td>Toyota</td>\n",
       "      <td>Corolla</td>\n",
       "      <td>1.6 XEi</td>\n",
       "      <td>1995</td>\n",
       "      <td>208000</td>\n",
       "      <td>Düz</td>\n",
       "      <td>LPG &amp; Benzin</td>\n",
       "      <td>Sedan</td>\n",
       "      <td>NaN</td>\n",
       "      <td>...</td>\n",
       "      <td>NaN</td>\n",
       "      <td>NaN</td>\n",
       "      <td>NaN</td>\n",
       "      <td>NaN</td>\n",
       "      <td>NaN</td>\n",
       "      <td>NaN</td>\n",
       "      <td>NaN</td>\n",
       "      <td>NaN</td>\n",
       "      <td>NaN</td>\n",
       "      <td>5 boyalı</td>\n",
       "    </tr>\n",
       "    <tr>\n",
       "      <th>1358</th>\n",
       "      <td>440000</td>\n",
       "      <td>Fiat</td>\n",
       "      <td>500 Ailesi</td>\n",
       "      <td>500 1.3 Mjet Lounge</td>\n",
       "      <td>2012</td>\n",
       "      <td>243000</td>\n",
       "      <td>Düz</td>\n",
       "      <td>Dizel</td>\n",
       "      <td>Cabrio</td>\n",
       "      <td>NaN</td>\n",
       "      <td>...</td>\n",
       "      <td>NaN</td>\n",
       "      <td>NaN</td>\n",
       "      <td>NaN</td>\n",
       "      <td>NaN</td>\n",
       "      <td>NaN</td>\n",
       "      <td>NaN</td>\n",
       "      <td>NaN</td>\n",
       "      <td>NaN</td>\n",
       "      <td>NaN</td>\n",
       "      <td>2 değişen, 2 boyalı</td>\n",
       "    </tr>\n",
       "    <tr>\n",
       "      <th>1374</th>\n",
       "      <td>580000</td>\n",
       "      <td>Ford</td>\n",
       "      <td>Focus</td>\n",
       "      <td>1.6 TDCi Titanium</td>\n",
       "      <td>2011</td>\n",
       "      <td>185500</td>\n",
       "      <td>Düz</td>\n",
       "      <td>Benzin</td>\n",
       "      <td>Hatchback/5</td>\n",
       "      <td>NaN</td>\n",
       "      <td>...</td>\n",
       "      <td>NaN</td>\n",
       "      <td>NaN</td>\n",
       "      <td>NaN</td>\n",
       "      <td>NaN</td>\n",
       "      <td>NaN</td>\n",
       "      <td>NaN</td>\n",
       "      <td>NaN</td>\n",
       "      <td>NaN</td>\n",
       "      <td>NaN</td>\n",
       "      <td>12 boyalı</td>\n",
       "    </tr>\n",
       "    <tr>\n",
       "      <th>1391</th>\n",
       "      <td>865484</td>\n",
       "      <td>Porsche</td>\n",
       "      <td>Taycan</td>\n",
       "      <td>4S Performance Plus</td>\n",
       "      <td>2021</td>\n",
       "      <td>358646</td>\n",
       "      <td>Otomatik</td>\n",
       "      <td>Elektrik</td>\n",
       "      <td>Coupe</td>\n",
       "      <td>Garantisi Yok</td>\n",
       "      <td>...</td>\n",
       "      <td>NaN</td>\n",
       "      <td>650.0</td>\n",
       "      <td>NaN</td>\n",
       "      <td>571</td>\n",
       "      <td>NaN</td>\n",
       "      <td>NaN</td>\n",
       "      <td>4</td>\n",
       "      <td>250.0</td>\n",
       "      <td>NaN</td>\n",
       "      <td>Belirtilmemiş</td>\n",
       "    </tr>\n",
       "  </tbody>\n",
       "</table>\n",
       "<p>21 rows × 22 columns</p>\n",
       "</div>"
      ],
      "text/plain": [
       "     price_try        make      series                     model  year  \\\n",
       "300     540000        Opel       Corsa        1.2 Twinport Enjoy  2014   \n",
       "642    1226008        Opel     Corsa-e                  Ultimate  2023   \n",
       "760     375000     Renault        Clio                   1.4 RNA  2002   \n",
       "763     470000     Renault      Megane           1.4 Authentique  2007   \n",
       "787     750000  Volkswagen       Jetta          1.4 TSi Highline  2012   \n",
       "872     110000       Skoda      Forman                     135 L  1993   \n",
       "873     175000       Tofaş       Şahin                       1.6  1996   \n",
       "883     428000        Ford      Fusion          1.4 TDCi Comfort  2006   \n",
       "894     650000  Volkswagen        Polo             1.2 Trendline  2012   \n",
       "931     880000       Volvo         S80                2.4 D5 VIP  2008   \n",
       "971     500000         Kia      Cerato            1.6 EX Advance  2007   \n",
       "1018    350000     Renault        Clio                   1.4 RNA  2001   \n",
       "1035    260000     Peugeot         206                1.4 X-Line  2004   \n",
       "1073    360000     Peugeot         406                2.0 HDi ST  2006   \n",
       "1177    485000        Fiat       Punto    Grande 1.4 Fire Active  2009   \n",
       "1267    250000     Renault        R 19             1.6 Europa RT  1996   \n",
       "1324    990000       Honda       Civic  1.6 i-VTEC Eco Executive  2017   \n",
       "1335    450000      Toyota     Corolla                   1.6 XEi  1995   \n",
       "1358    440000        Fiat  500 Ailesi       500 1.3 Mjet Lounge  2012   \n",
       "1374    580000        Ford       Focus         1.6 TDCi Titanium  2011   \n",
       "1391    865484     Porsche      Taycan       4S Performance Plus  2021   \n",
       "\n",
       "          km transmission          fuel    body_type       warranty  ...  \\\n",
       "300   150000          Düz  LPG & Benzin  Hatchback/5            NaN  ...   \n",
       "642     7008     Otomatik      Elektrik  Hatchback/5  Garantisi Var  ...   \n",
       "760   244000          Düz  LPG & Benzin        Sedan              -  ...   \n",
       "763   182000          Düz  LPG & Benzin        Sedan              -  ...   \n",
       "787   214000          Düz        Benzin        Sedan            NaN  ...   \n",
       "872   500000          Düz  LPG & Benzin       Cabrio            NaN  ...   \n",
       "873       55          Düz  LPG & Benzin        Sedan            NaN  ...   \n",
       "883   159500          Düz         Dizel  Hatchback/5            NaN  ...   \n",
       "894   120000          Düz        Benzin  Hatchback/3            NaN  ...   \n",
       "931   340000     Otomatik         Dizel        Sedan            NaN  ...   \n",
       "971   241000          Düz         Dizel        Sedan            NaN  ...   \n",
       "1018  190000          Düz  LPG & Benzin        Sedan            NaN  ...   \n",
       "1035  300000          Düz  LPG & Benzin       Cabrio            NaN  ...   \n",
       "1073    3110          Düz         Dizel        Sedan            NaN  ...   \n",
       "1177  189517          Düz  LPG & Benzin  Hatchback/5            NaN  ...   \n",
       "1267  245000          Düz  LPG & Benzin  Hatchback/5            NaN  ...   \n",
       "1324  110000     Otomatik  LPG & Benzin  Hatchback/5            NaN  ...   \n",
       "1335  208000          Düz  LPG & Benzin        Sedan            NaN  ...   \n",
       "1358  243000          Düz         Dizel       Cabrio            NaN  ...   \n",
       "1374  185500          Düz        Benzin  Hatchback/5            NaN  ...   \n",
       "1391  358646     Otomatik      Elektrik        Coupe  Garantisi Yok  ...   \n",
       "\n",
       "     cylinder_number torque_nm  engine_capacity_cc  engine_power_hp  \\\n",
       "300              NaN       NaN                 NaN              NaN   \n",
       "642              NaN     260.0                 NaN              136   \n",
       "760              NaN       NaN                 NaN                -   \n",
       "763              NaN       NaN                 NaN                -   \n",
       "787              NaN       NaN                 NaN              NaN   \n",
       "872              NaN       NaN                 NaN              NaN   \n",
       "873              NaN       NaN                 NaN              NaN   \n",
       "883              NaN       NaN                 NaN              NaN   \n",
       "894              NaN       NaN                 NaN              NaN   \n",
       "931              NaN       NaN                 NaN              NaN   \n",
       "971              NaN       NaN                 NaN              NaN   \n",
       "1018             NaN       NaN                 NaN              NaN   \n",
       "1035             NaN       NaN                 NaN              NaN   \n",
       "1073             NaN       NaN                 NaN              NaN   \n",
       "1177             NaN       NaN                 NaN              NaN   \n",
       "1267             NaN       NaN                 NaN              NaN   \n",
       "1324             NaN       NaN                 NaN              NaN   \n",
       "1335             NaN       NaN                 NaN              NaN   \n",
       "1358             NaN       NaN                 NaN              NaN   \n",
       "1374             NaN       NaN                 NaN              NaN   \n",
       "1391             NaN     650.0                 NaN              571   \n",
       "\n",
       "     max_power_rpm min_power_rpm  acceleration_0to100_sec  max_speed_kmh  \\\n",
       "300            NaN           NaN                      NaN            NaN   \n",
       "642            NaN           NaN                      8,1          150.0   \n",
       "760            NaN           NaN                      NaN            NaN   \n",
       "763            NaN           NaN                      NaN            NaN   \n",
       "787            NaN           NaN                      NaN            NaN   \n",
       "872            NaN           NaN                      NaN            NaN   \n",
       "873            NaN           NaN                      NaN            NaN   \n",
       "883            NaN           NaN                      NaN            NaN   \n",
       "894            NaN           NaN                      NaN            NaN   \n",
       "931            NaN           NaN                      NaN            NaN   \n",
       "971            NaN           NaN                      NaN            NaN   \n",
       "1018           NaN           NaN                      NaN            NaN   \n",
       "1035           NaN           NaN                      NaN            NaN   \n",
       "1073           NaN           NaN                      NaN            NaN   \n",
       "1177           NaN           NaN                      NaN            NaN   \n",
       "1267           NaN           NaN                      NaN            NaN   \n",
       "1324           NaN           NaN                      NaN            NaN   \n",
       "1335           NaN           NaN                      NaN            NaN   \n",
       "1358           NaN           NaN                      NaN            NaN   \n",
       "1374           NaN           NaN                      NaN            NaN   \n",
       "1391           NaN           NaN                        4          250.0   \n",
       "\n",
       "     average_fuel_consumption_lt       painted_changed  \n",
       "300                          NaN         Belirtilmemiş  \n",
       "642                          NaN        Tamamı orjinal  \n",
       "760                          NaN         Belirtilmemiş  \n",
       "763                          NaN   2 değişen, 3 boyalı  \n",
       "787                          NaN         Belirtilmemiş  \n",
       "872                          NaN         Belirtilmemiş  \n",
       "873                          NaN         Belirtilmemiş  \n",
       "883                          NaN             10 boyalı  \n",
       "894                          NaN              1 boyalı  \n",
       "931                          NaN   4 değişen, 2 boyalı  \n",
       "971                          NaN         Belirtilmemiş  \n",
       "1018                         NaN         Belirtilmemiş  \n",
       "1035                         NaN  3 değişen, 10 boyalı  \n",
       "1073                         NaN   1 değişen, 1 boyalı  \n",
       "1177                         NaN        Tamamı orjinal  \n",
       "1267                         NaN         Belirtilmemiş  \n",
       "1324                         NaN   1 değişen, 1 boyalı  \n",
       "1335                         NaN              5 boyalı  \n",
       "1358                         NaN   2 değişen, 2 boyalı  \n",
       "1374                         NaN             12 boyalı  \n",
       "1391                         NaN         Belirtilmemiş  \n",
       "\n",
       "[21 rows x 22 columns]"
      ]
     },
     "execution_count": 9,
     "metadata": {},
     "output_type": "execute_result"
    }
   ],
   "source": [
    "train[train['engine_capacity_cc'].isna()]"
   ]
  },
  {
   "cell_type": "code",
   "execution_count": 10,
   "id": "0efbf844",
   "metadata": {},
   "outputs": [],
   "source": [
    "engine_capacity_dict = {\n",
    "    '1.2 Twinport Enjoy': '1200',\n",
    "    'Ultimate': '1520',\n",
    "    '1.4 Authentique': '1400',\n",
    "    '1.4 TSi Highline': '1400',\n",
    "    '135 L': '1300',\n",
    "    '1.6': '1600',\n",
    "    '1.4 TDCi Comfort': '1400',\n",
    "    '1.2 Trendline': '1200',\n",
    "    '2.4 D5 VIP': '2400',\n",
    "    '1.6 EX Advance': '1600',\n",
    "    '1.4 RNA': '1400',\n",
    "    '1.4 X-Line': '1400',\n",
    "    '2.0 HDi ST': '2000',\n",
    "    'Grande 1.4 Fire Active': '1400',\n",
    "    '1.6 Europa RT': '1600',\n",
    "    '1.6 i-VTEC Eco Executive': '1600',\n",
    "    '1.6 XEi': '1600',\n",
    "    '500 1.3 Mjet Lounge': '1300',\n",
    "    '1.6 TDCi Titanium': '1600',\n",
    "    '4S Performance Plus': '1520'\n",
    "}\n",
    "\n",
    "train['engine_capacity_cc'] = train['engine_capacity_cc'].fillna(train['model'].map(engine_capacity_dict))"
   ]
  },
  {
   "cell_type": "code",
   "execution_count": 11,
   "id": "273f8e95",
   "metadata": {},
   "outputs": [
    {
     "data": {
      "text/plain": [
       "'1200'"
      ]
     },
     "execution_count": 11,
     "metadata": {},
     "output_type": "execute_result"
    }
   ],
   "source": [
    "train['engine_capacity_cc'][300]"
   ]
  },
  {
   "cell_type": "code",
   "execution_count": 12,
   "id": "4457dad8",
   "metadata": {},
   "outputs": [],
   "source": [
    "train['engine_capacity_cc'] = train['engine_capacity_cc'].astype(int)"
   ]
  },
  {
   "cell_type": "code",
   "execution_count": 13,
   "id": "48b81498",
   "metadata": {},
   "outputs": [
    {
     "data": {
      "text/plain": [
       "0"
      ]
     },
     "execution_count": 13,
     "metadata": {},
     "output_type": "execute_result"
    }
   ],
   "source": [
    "train['engine_capacity_cc'].isna().sum()"
   ]
  },
  {
   "cell_type": "code",
   "execution_count": 14,
   "id": "f6d7bf71",
   "metadata": {},
   "outputs": [
    {
     "data": {
      "text/plain": [
       "array([1587, 1995, 1560, 1332, 1198, 1248, 1398, 1461, 1199, 1598, 1422,\n",
       "       1597, 1364, 1499, 1595, 1493, 1395, 1596, 1388, 1496,  999, 1582,\n",
       "       1401, 1390, 1468, 1229, 1590, 1329, 1498, 1149, 2599, 1950, 1339,\n",
       "       1581, 1801, 1368,  898, 2993, 1968, 1197, 1399, 1275, 2143, 1896,\n",
       "       3982, 1206, 1389, 1599, 2494, 2720, 1324, 1289, 1240, 1987, 1242,\n",
       "        998, 1396, 1500, 1201, 1998, 1400, 1997, 1796, 1372, 1798, 1200,\n",
       "       1490, 5001, 2979, 3518, 1397, 1360, 1991, 1296, 1591, 1592, 1318,\n",
       "       1781, 2967, 1984, 4966, 2001, 1520, 1497, 2501, 1086, 4266, 1580,\n",
       "       2457, 1193, 3430, 6748, 1108, 1589, 2068, 1489, 1495, 1341, 1996,\n",
       "       1300, 1600, 1298, 1588, 1365, 2400, 1834, 2000, 2685, 1297, 1601,\n",
       "       1948, 1405, 2997, 3222, 1956, 1565, 1859])"
      ]
     },
     "execution_count": 14,
     "metadata": {},
     "output_type": "execute_result"
    }
   ],
   "source": [
    "train['engine_capacity_cc'].unique()"
   ]
  },
  {
   "cell_type": "markdown",
   "id": "475d693b",
   "metadata": {},
   "source": [
    "# -------------------------------------------------------------------------------------------"
   ]
  },
  {
   "cell_type": "code",
   "execution_count": 15,
   "id": "17015b74",
   "metadata": {},
   "outputs": [
    {
     "data": {
      "text/plain": [
       "array([ 4.,  3., nan,  6.,  8.,  5.])"
      ]
     },
     "execution_count": 15,
     "metadata": {},
     "output_type": "execute_result"
    }
   ],
   "source": [
    "train['cylinder_number'].unique()"
   ]
  },
  {
   "cell_type": "code",
   "execution_count": 16,
   "id": "d74a2163",
   "metadata": {},
   "outputs": [
    {
     "data": {
      "text/plain": [
       "2997"
      ]
     },
     "execution_count": 16,
     "metadata": {},
     "output_type": "execute_result"
    }
   ],
   "source": [
    "train[train['cylinder_number'] == 8.0]['engine_capacity_cc'].min()"
   ]
  },
  {
   "cell_type": "code",
   "execution_count": 17,
   "id": "2981f180",
   "metadata": {},
   "outputs": [
    {
     "data": {
      "text/plain": [
       "1991"
      ]
     },
     "execution_count": 17,
     "metadata": {},
     "output_type": "execute_result"
    }
   ],
   "source": [
    "train[train['cylinder_number'] == 6.0]['engine_capacity_cc'].min()"
   ]
  },
  {
   "cell_type": "code",
   "execution_count": 18,
   "id": "67d120d1",
   "metadata": {},
   "outputs": [
    {
     "data": {
      "text/plain": [
       "1984"
      ]
     },
     "execution_count": 18,
     "metadata": {},
     "output_type": "execute_result"
    }
   ],
   "source": [
    "train[train['cylinder_number'] == 5.0]['engine_capacity_cc'].min()"
   ]
  },
  {
   "cell_type": "code",
   "execution_count": 19,
   "id": "4c3da48c",
   "metadata": {},
   "outputs": [
    {
     "data": {
      "text/plain": [
       "998"
      ]
     },
     "execution_count": 19,
     "metadata": {},
     "output_type": "execute_result"
    }
   ],
   "source": [
    "train[train['cylinder_number'] == 4.0]['engine_capacity_cc'].min()"
   ]
  },
  {
   "cell_type": "code",
   "execution_count": 20,
   "id": "be201573",
   "metadata": {},
   "outputs": [
    {
     "data": {
      "text/plain": [
       "898"
      ]
     },
     "execution_count": 20,
     "metadata": {},
     "output_type": "execute_result"
    }
   ],
   "source": [
    "train[train['cylinder_number'] == 3.0]['engine_capacity_cc'].min()"
   ]
  },
  {
   "cell_type": "code",
   "execution_count": 21,
   "id": "202fb9f7",
   "metadata": {},
   "outputs": [],
   "source": [
    "cylinder_list= []\n",
    "\n",
    "for index, row in train.iterrows():\n",
    "    if row['engine_capacity_cc'] >= 2997:\n",
    "        cylinder_list.append(8)\n",
    "    elif row['engine_capacity_cc'] >= 1991:\n",
    "        cylinder_list.append(6)\n",
    "    elif row['engine_capacity_cc'] >= 1984:\n",
    "        cylinder_list.append(5)\n",
    "    elif row['engine_capacity_cc'] >= 998:\n",
    "        cylinder_list.append(4)\n",
    "    elif row['engine_capacity_cc'] >= 898:\n",
    "        cylinder_list.append(3)\n",
    "    else:\n",
    "        cylinder_list.append(row['cylinder_number'])\n",
    "        \n",
    "cylinder_series = pd.Series(cylinder_list)\n",
    "\n",
    "train['cylinder_number'] = train['cylinder_number'].fillna(cylinder_series)"
   ]
  },
  {
   "cell_type": "code",
   "execution_count": 22,
   "id": "ebac9b88",
   "metadata": {},
   "outputs": [
    {
     "data": {
      "text/plain": [
       "8"
      ]
     },
     "execution_count": 22,
     "metadata": {},
     "output_type": "execute_result"
    }
   ],
   "source": [
    "cylinder_series[330]"
   ]
  },
  {
   "cell_type": "code",
   "execution_count": 23,
   "id": "6461a0d6",
   "metadata": {},
   "outputs": [
    {
     "data": {
      "text/plain": [
       "8.0"
      ]
     },
     "execution_count": 23,
     "metadata": {},
     "output_type": "execute_result"
    }
   ],
   "source": [
    "train['cylinder_number'][330]"
   ]
  },
  {
   "cell_type": "code",
   "execution_count": 24,
   "id": "ed13c009",
   "metadata": {},
   "outputs": [],
   "source": [
    "train['cylinder_number'] = train['cylinder_number'].astype(int)"
   ]
  },
  {
   "cell_type": "code",
   "execution_count": 25,
   "id": "7aefd51b",
   "metadata": {},
   "outputs": [
    {
     "data": {
      "text/plain": [
       "0"
      ]
     },
     "execution_count": 25,
     "metadata": {},
     "output_type": "execute_result"
    }
   ],
   "source": [
    "train['cylinder_number'].isna().sum()"
   ]
  },
  {
   "cell_type": "code",
   "execution_count": 26,
   "id": "f397aea5",
   "metadata": {},
   "outputs": [
    {
     "data": {
      "text/plain": [
       "array([4, 3, 6, 8, 5])"
      ]
     },
     "execution_count": 26,
     "metadata": {},
     "output_type": "execute_result"
    }
   ],
   "source": [
    "train['cylinder_number'].unique()"
   ]
  },
  {
   "cell_type": "markdown",
   "id": "5fe33d2c",
   "metadata": {},
   "source": [
    "# -------------------------------------------------------------------------------------------"
   ]
  },
  {
   "cell_type": "code",
   "execution_count": 27,
   "id": "0ce09ada",
   "metadata": {},
   "outputs": [
    {
     "data": {
      "text/plain": [
       "array([147., 350., 230., 200., 205., 150., 240., 118., 250., 133., 320.,\n",
       "       170., 152., 210., 146., 128., 270., 160., 300., 260., 151.,  nan,\n",
       "       220., 110., 185., 255., 105., 127., 400., 235., 122., 148., 125.,\n",
       "       140., 380., 520., 120., 175., 280., 103., 500., 155., 156., 190.,\n",
       "       131., 112., 700., 114., 143., 221., 435., 102., 106., 115., 196.,\n",
       "       135., 142., 145.,  90., 180., 126., 104., 285.,  95., 450., 340.,\n",
       "       107., 153., 138., 550., 100., 195., 130., 172., 116., 254., 204.,\n",
       "       216., 121., 154., 262., 123., 132., 137., 159., 117., 650., 370.,\n",
       "       460., 111., 310., 136., 101., 144., 475., 392., 360., 141., 181.,\n",
       "       600., 186., 134., 290., 124., 184.,  99., 157., 149., 165., 119.,\n",
       "       188., 215., 174.,  92., 182.,  85.,  93., 158.,  97., 225., 470.,\n",
       "       178., 206., 173.])"
      ]
     },
     "execution_count": 27,
     "metadata": {},
     "output_type": "execute_result"
    }
   ],
   "source": [
    "train['torque_nm'].unique()"
   ]
  },
  {
   "cell_type": "code",
   "execution_count": 28,
   "id": "7335a0ff",
   "metadata": {},
   "outputs": [],
   "source": [
    "torque_list= []\n",
    "\n",
    "for index, row in train.iterrows():\n",
    "    if row['engine_capacity_cc'] >= 6000:\n",
    "        torque_list.append(600)\n",
    "    elif row['engine_capacity_cc'] >= 5000:\n",
    "        torque_list.append(500)\n",
    "    elif row['engine_capacity_cc'] >= 2500:\n",
    "        torque_list.append(250)\n",
    "    elif row['engine_capacity_cc'] >= 2400:\n",
    "        torque_list.append(240)\n",
    "    elif row['engine_capacity_cc'] >= 1990:\n",
    "        torque_list.append(200)\n",
    "    elif row['engine_capacity_cc'] >= 1780:\n",
    "        torque_list.append(180)\n",
    "    elif row['engine_capacity_cc'] >= 1560:\n",
    "        torque_list.append(150)\n",
    "    elif row['engine_capacity_cc'] >= 1380:\n",
    "        torque_list.append(140)\n",
    "    elif row['engine_capacity_cc'] >= 1280:\n",
    "        torque_list.append(130)\n",
    "    elif row['engine_capacity_cc'] >= 1200:\n",
    "        torque_list.append(120)\n",
    "    elif row['engine_capacity_cc'] >= 1100:\n",
    "        torque_list.append(110)\n",
    "    else:\n",
    "        torque_list.append(row['torque_nm'])\n",
    "        \n",
    "torque_series = pd.Series(torque_list)\n",
    "\n",
    "train['torque_nm'] = train['torque_nm'].fillna(torque_series)"
   ]
  },
  {
   "cell_type": "code",
   "execution_count": 29,
   "id": "56eab3d9",
   "metadata": {},
   "outputs": [
    {
     "data": {
      "text/plain": [
       "140.0"
      ]
     },
     "execution_count": 29,
     "metadata": {},
     "output_type": "execute_result"
    }
   ],
   "source": [
    "torque_series[34]"
   ]
  },
  {
   "cell_type": "code",
   "execution_count": 30,
   "id": "6bc11fc7",
   "metadata": {},
   "outputs": [
    {
     "data": {
      "text/plain": [
       "140.0"
      ]
     },
     "execution_count": 30,
     "metadata": {},
     "output_type": "execute_result"
    }
   ],
   "source": [
    "train['torque_nm'][34]"
   ]
  },
  {
   "cell_type": "code",
   "execution_count": 31,
   "id": "8f8772be",
   "metadata": {},
   "outputs": [],
   "source": [
    "train['torque_nm'] = train['torque_nm'].astype(int)"
   ]
  },
  {
   "cell_type": "code",
   "execution_count": 32,
   "id": "a90e6550",
   "metadata": {},
   "outputs": [
    {
     "data": {
      "text/plain": [
       "0"
      ]
     },
     "execution_count": 32,
     "metadata": {},
     "output_type": "execute_result"
    }
   ],
   "source": [
    "train['torque_nm'].isna().sum()"
   ]
  },
  {
   "cell_type": "code",
   "execution_count": 33,
   "id": "3ae467d1",
   "metadata": {},
   "outputs": [
    {
     "data": {
      "text/plain": [
       "array([147, 350, 230, 200, 205, 150, 240, 118, 250, 133, 320, 170, 152,\n",
       "       210, 146, 128, 270, 160, 300, 260, 151, 140, 220, 110, 185, 255,\n",
       "       105, 127, 400, 235, 122, 180, 148, 125, 380, 520, 120, 175, 280,\n",
       "       103, 500, 155, 156, 190, 131, 112, 700, 114, 143, 221, 435, 102,\n",
       "       106, 115, 196, 135, 142, 145,  90, 126, 104, 285,  95, 450, 340,\n",
       "       107, 153, 138, 550, 100, 195, 130, 172, 116, 254, 204, 216, 121,\n",
       "       154, 262, 123, 132, 137, 159, 117, 650, 370, 460, 111, 310, 136,\n",
       "       101, 144, 475, 392, 600, 360, 141, 181, 186, 134, 290, 124, 184,\n",
       "        99, 157, 149, 165, 119, 188, 215, 174,  92, 182,  85,  93, 158,\n",
       "        97, 225, 470, 178, 206, 173])"
      ]
     },
     "execution_count": 33,
     "metadata": {},
     "output_type": "execute_result"
    }
   ],
   "source": [
    "train['torque_nm'].unique()"
   ]
  },
  {
   "cell_type": "markdown",
   "id": "780bb270",
   "metadata": {},
   "source": [
    "# -------------------------------------------------------------------------------------------"
   ]
  },
  {
   "cell_type": "code",
   "execution_count": 34,
   "id": "a25ec980",
   "metadata": {},
   "outputs": [
    {
     "data": {
      "text/plain": [
       "array(['110', '177', '95', '136', '130', '71', '83', '115', '90', '100',\n",
       "       '75', '125', '150', '96', '86', '116', '70', '120', '105', '128',\n",
       "       '51 - 75 HP', '140', '85', '80', '170', '225', '99', '160', '166',\n",
       "       '194', '126 - 150 HP', '102', '132', '184', '231', '156', '97',\n",
       "       '107', '68', '204', '469', '84', '178', '109', '106', '207', '64',\n",
       "       '240', '77', '152', '89', '180', '114', '121', '65', '93', '143',\n",
       "       '76 - 100 HP', '163', '151 - 175 HP', '81', '142', '112', '131',\n",
       "       '218', '129', nan, '98', '60', '265', '551 - 575 HP', '431', '252',\n",
       "       '190', '55', '122', '91', '258', '72', '113', '87',\n",
       "       \"50 HP'ye kadar\", '88', '124', '127', '101 - 125 HP',\n",
       "       '201 - 225 HP', '82', '76', '54', '313', '306', '250', '74', '101',\n",
       "       '123', '251 - 275 HP', '111', '66', '279', '103', '381', '280',\n",
       "       '211', '-', '69', '57', '286', '155', '133', '92', '135', '175',\n",
       "       '78', '117', '158', '73', '94', '139', '147', '197', '126', '571',\n",
       "       '192'], dtype=object)"
      ]
     },
     "execution_count": 34,
     "metadata": {},
     "output_type": "execute_result"
    }
   ],
   "source": [
    "train['engine_power_hp'].unique()"
   ]
  },
  {
   "cell_type": "code",
   "execution_count": 35,
   "id": "b5d7002b",
   "metadata": {},
   "outputs": [],
   "source": [
    "train['engine_power_hp'] = train['engine_power_hp'].str.extract('(\\d+)')"
   ]
  },
  {
   "cell_type": "code",
   "execution_count": 36,
   "id": "274ed657",
   "metadata": {},
   "outputs": [],
   "source": [
    "engine_power_list= []\n",
    "\n",
    "for index, row in train.iterrows():\n",
    "    if row['engine_capacity_cc'] >= 6000:\n",
    "        engine_power_list.append(500)\n",
    "    elif row['engine_capacity_cc'] >= 2400:\n",
    "        engine_power_list.append(175)\n",
    "    elif row['engine_capacity_cc'] >= 2000:\n",
    "        engine_power_list.append(150)\n",
    "    elif row['engine_capacity_cc'] >= 1590:\n",
    "        engine_power_list.append(125)\n",
    "    elif row['engine_capacity_cc'] >= 1580:\n",
    "        engine_power_list.append(115)\n",
    "    elif row['engine_capacity_cc'] >= 1400:\n",
    "        engine_power_list.append(100)\n",
    "    elif row['engine_capacity_cc'] >= 1300:\n",
    "        engine_power_list.append(95)\n",
    "    elif row['engine_capacity_cc'] >= 1200:\n",
    "        engine_power_list.append(75)\n",
    "    else:\n",
    "        engine_power_list.append(row['engine_power_hp'])\n",
    "        \n",
    "engine_power_series = pd.Series(engine_power_list)\n",
    "\n",
    "train['engine_power_hp'] = train['engine_power_hp'].fillna(engine_power_series)"
   ]
  },
  {
   "cell_type": "code",
   "execution_count": 37,
   "id": "7fd2a112",
   "metadata": {},
   "outputs": [
    {
     "data": {
      "text/plain": [
       "500"
      ]
     },
     "execution_count": 37,
     "metadata": {},
     "output_type": "execute_result"
    }
   ],
   "source": [
    "engine_power_series[740]"
   ]
  },
  {
   "cell_type": "code",
   "execution_count": 38,
   "id": "e413fbc3",
   "metadata": {},
   "outputs": [
    {
     "data": {
      "text/plain": [
       "500"
      ]
     },
     "execution_count": 38,
     "metadata": {},
     "output_type": "execute_result"
    }
   ],
   "source": [
    "train['engine_power_hp'][740]"
   ]
  },
  {
   "cell_type": "code",
   "execution_count": 39,
   "id": "623cb4eb",
   "metadata": {},
   "outputs": [],
   "source": [
    "train['engine_power_hp'] = train['engine_power_hp'].astype(int)"
   ]
  },
  {
   "cell_type": "code",
   "execution_count": 40,
   "id": "a2b6ba4b",
   "metadata": {},
   "outputs": [
    {
     "data": {
      "text/plain": [
       "0"
      ]
     },
     "execution_count": 40,
     "metadata": {},
     "output_type": "execute_result"
    }
   ],
   "source": [
    "train['engine_power_hp'].isna().sum()"
   ]
  },
  {
   "cell_type": "code",
   "execution_count": 41,
   "id": "3108202d",
   "metadata": {},
   "outputs": [
    {
     "data": {
      "text/plain": [
       "array([110, 177,  95, 136, 130,  71,  83, 115,  90, 100,  75, 125, 150,\n",
       "        96,  86, 116,  70, 120, 105, 128,  51, 140,  85,  80, 170, 225,\n",
       "        99, 160, 166, 194, 126, 102, 132, 184, 231, 156,  97, 107,  68,\n",
       "       204, 469,  84, 178, 109, 106, 207,  64, 240,  77, 152,  89, 180,\n",
       "       114, 121,  65,  93, 143,  76, 163, 151,  81, 142, 112, 131, 218,\n",
       "       129,  98,  60, 265, 551, 431, 252, 190,  55, 122,  91, 258,  72,\n",
       "       113,  87,  50,  88, 124, 127, 101, 201,  82,  54, 313, 306, 250,\n",
       "        74, 123, 251, 111,  66, 279, 103, 381, 280, 211, 500,  69,  57,\n",
       "       286, 155, 133, 175,  92, 135,  78, 117, 158,  73,  94, 139, 147,\n",
       "       197, 571, 192])"
      ]
     },
     "execution_count": 41,
     "metadata": {},
     "output_type": "execute_result"
    }
   ],
   "source": [
    "train['engine_power_hp'].unique()"
   ]
  },
  {
   "cell_type": "markdown",
   "id": "7ee7e9be",
   "metadata": {},
   "source": [
    "# -------------------------------------------------------------------------------------------"
   ]
  },
  {
   "cell_type": "code",
   "execution_count": 42,
   "id": "348bcdc9",
   "metadata": {},
   "outputs": [
    {
     "data": {
      "text/plain": [
       "array([  nan, 4000., 3600., 5500., 5750., 3500., 3800., 6500., 5000.,\n",
       "       6000., 3250., 4400., 4200., 5600., 3750., 6200., 6300., 5700.,\n",
       "       6400., 4800., 5300., 4600., 5400., 5800., 4350., 3000., 5200.,\n",
       "       6600., 2500., 6250., 3200., 6450., 5250., 5100., 3900., 4500.,\n",
       "       4900., 6700.])"
      ]
     },
     "execution_count": 42,
     "metadata": {},
     "output_type": "execute_result"
    }
   ],
   "source": [
    "train['max_power_rpm'].unique()"
   ]
  },
  {
   "cell_type": "code",
   "execution_count": 43,
   "id": "ee971ddb",
   "metadata": {},
   "outputs": [],
   "source": [
    "max_power_list= []\n",
    "\n",
    "for index, row in train.iterrows():\n",
    "    if row['torque_nm'] >= 650:\n",
    "        max_power_list.append(6500)\n",
    "    elif row['torque_nm'] >= 600:\n",
    "        max_power_list.append(6000)\n",
    "    elif row['torque_nm'] >= 500:\n",
    "        max_power_list.append(5000)\n",
    "    elif row['torque_nm'] >= 400:\n",
    "        max_power_list.append(4000)\n",
    "    elif row['torque_nm'] >= 300:\n",
    "        max_power_list.append(3000)\n",
    "    elif row['torque_nm'] >= 80:\n",
    "        max_power_list.append(2500)\n",
    "    else:\n",
    "        max_power_list.append(row['max_power_rpm'])\n",
    "        \n",
    "max_power_series = pd.Series(max_power_list)\n",
    "\n",
    "train['max_power_rpm'] = train['max_power_rpm'].fillna(max_power_series)"
   ]
  },
  {
   "cell_type": "code",
   "execution_count": 44,
   "id": "7c441262",
   "metadata": {},
   "outputs": [
    {
     "data": {
      "text/plain": [
       "2500"
      ]
     },
     "execution_count": 44,
     "metadata": {},
     "output_type": "execute_result"
    }
   ],
   "source": [
    "max_power_series[18]"
   ]
  },
  {
   "cell_type": "code",
   "execution_count": 45,
   "id": "4fb7ca2c",
   "metadata": {},
   "outputs": [
    {
     "data": {
      "text/plain": [
       "2500.0"
      ]
     },
     "execution_count": 45,
     "metadata": {},
     "output_type": "execute_result"
    }
   ],
   "source": [
    "train['max_power_rpm'][18]"
   ]
  },
  {
   "cell_type": "code",
   "execution_count": 46,
   "id": "0ec25a8d",
   "metadata": {},
   "outputs": [],
   "source": [
    "train['max_power_rpm'] = train['max_power_rpm'].astype(int)"
   ]
  },
  {
   "cell_type": "code",
   "execution_count": 47,
   "id": "46243abc",
   "metadata": {},
   "outputs": [
    {
     "data": {
      "text/plain": [
       "0"
      ]
     },
     "execution_count": 47,
     "metadata": {},
     "output_type": "execute_result"
    }
   ],
   "source": [
    "train['max_power_rpm'].isna().sum()"
   ]
  },
  {
   "cell_type": "code",
   "execution_count": 48,
   "id": "124ebec2",
   "metadata": {},
   "outputs": [
    {
     "data": {
      "text/plain": [
       "array([2500, 4000, 3600, 5500, 5750, 3500, 3800, 6500, 5000, 6000, 3250,\n",
       "       4400, 4200, 5600, 3750, 6200, 6300, 5700, 6400, 4800, 5300, 4600,\n",
       "       5400, 5800, 4350, 3000, 5200, 6600, 6250, 3200, 6450, 5250, 5100,\n",
       "       3900, 4500, 4900, 6700])"
      ]
     },
     "execution_count": 48,
     "metadata": {},
     "output_type": "execute_result"
    }
   ],
   "source": [
    "train['max_power_rpm'].unique()"
   ]
  },
  {
   "cell_type": "markdown",
   "id": "316223b3",
   "metadata": {},
   "source": [
    "# -------------------------------------------------------------------------------------------"
   ]
  },
  {
   "cell_type": "code",
   "execution_count": 49,
   "id": "965ff74f",
   "metadata": {},
   "outputs": [
    {
     "data": {
      "text/plain": [
       "array([  nan, 1750., 2000., 1460., 1500., 2750., 1800., 2250., 4200.,\n",
       "       4000., 1900., 4300., 4250., 2500., 3500., 3600., 4800., 3800.,\n",
       "       1700., 1600., 3250., 4400., 4500., 1400., 4700., 1550., 1250.,\n",
       "       3000., 1350., 5500., 1200., 3750., 2800., 4600., 1850., 3950.,\n",
       "       3200., 5250., 4850., 2600., 5000., 2900., 3400., 1450., 2700.,\n",
       "       3900., 5200., 4150.])"
      ]
     },
     "execution_count": 49,
     "metadata": {},
     "output_type": "execute_result"
    }
   ],
   "source": [
    "train['min_power_rpm'].unique()"
   ]
  },
  {
   "cell_type": "code",
   "execution_count": 50,
   "id": "f73a5709",
   "metadata": {},
   "outputs": [],
   "source": [
    "min_power_list= []\n",
    "\n",
    "for index, row in train.iterrows():\n",
    "    if row['max_power_rpm'] >= 6000:\n",
    "        min_power_list.append(4500)\n",
    "    elif row['max_power_rpm'] >= 5000:\n",
    "        min_power_list.append(3500)\n",
    "    elif row['max_power_rpm'] >= 4000:\n",
    "        min_power_list.append(2000)\n",
    "    elif row['max_power_rpm'] >= 2500:\n",
    "        min_power_list.append(1200)\n",
    "    else:\n",
    "        min_power_list.append(row['min_power_rpm'])\n",
    "        \n",
    "min_power_series = pd.Series(min_power_list)\n",
    "\n",
    "train['min_power_rpm'] = train['min_power_rpm'].fillna(min_power_series)"
   ]
  },
  {
   "cell_type": "code",
   "execution_count": 51,
   "id": "5034d97b",
   "metadata": {},
   "outputs": [
    {
     "data": {
      "text/plain": [
       "1200"
      ]
     },
     "execution_count": 51,
     "metadata": {},
     "output_type": "execute_result"
    }
   ],
   "source": [
    "min_power_series[18]"
   ]
  },
  {
   "cell_type": "code",
   "execution_count": 52,
   "id": "19d865cf",
   "metadata": {},
   "outputs": [
    {
     "data": {
      "text/plain": [
       "1200.0"
      ]
     },
     "execution_count": 52,
     "metadata": {},
     "output_type": "execute_result"
    }
   ],
   "source": [
    "train['min_power_rpm'][18]"
   ]
  },
  {
   "cell_type": "code",
   "execution_count": 53,
   "id": "4b835a9a",
   "metadata": {},
   "outputs": [],
   "source": [
    "train['min_power_rpm'] = train['min_power_rpm'].astype(int)"
   ]
  },
  {
   "cell_type": "code",
   "execution_count": 54,
   "id": "1b1b2fc9",
   "metadata": {},
   "outputs": [
    {
     "data": {
      "text/plain": [
       "0"
      ]
     },
     "execution_count": 54,
     "metadata": {},
     "output_type": "execute_result"
    }
   ],
   "source": [
    "train['min_power_rpm'].isna().sum()"
   ]
  },
  {
   "cell_type": "code",
   "execution_count": 55,
   "id": "1d346575",
   "metadata": {},
   "outputs": [
    {
     "data": {
      "text/plain": [
       "array([1200, 1750, 2000, 1460, 1500, 2750, 1800, 2250, 4200, 4000, 1900,\n",
       "       4300, 4250, 2500, 3500, 3600, 4800, 3800, 1700, 1600, 3250, 4400,\n",
       "       4500, 1400, 4700, 1550, 1250, 3000, 1350, 5500, 3750, 2800, 4600,\n",
       "       1850, 3950, 3200, 5250, 4850, 2600, 5000, 2900, 3400, 1450, 2700,\n",
       "       3900, 5200, 4150])"
      ]
     },
     "execution_count": 55,
     "metadata": {},
     "output_type": "execute_result"
    }
   ],
   "source": [
    "train['min_power_rpm'].unique()"
   ]
  },
  {
   "cell_type": "markdown",
   "id": "7834cb48",
   "metadata": {},
   "source": [
    "# -------------------------------------------------------------------------------------------"
   ]
  },
  {
   "cell_type": "code",
   "execution_count": 56,
   "id": "107fcca9",
   "metadata": {},
   "outputs": [],
   "source": [
    "train['acceleration_0to100_sec'] = train['acceleration_0to100_sec'].str.replace(',', '.').astype(float)"
   ]
  },
  {
   "cell_type": "code",
   "execution_count": 57,
   "id": "1e085fd8",
   "metadata": {},
   "outputs": [
    {
     "data": {
      "text/plain": [
       "array([11.6,  8.4, 12.5,  9.3, 10.3, 12.6, 13.8, 15.4, 11.5, 12.2,  9.8,\n",
       "       10.9, 10.7, 14.8, 10.1, 14.5,  8.9, 13.9, 12.8, 10.6, 10.8, 14.9,\n",
       "        9.9, 10.2, 11.8, 11.7,  nan,  8.8, 12.3, 12. , 13. , 12.7,  7.3,\n",
       "       11.3, 13.1,  9.1, 13.5,  8.3,  7.5, 13.6, 12.4, 11.1,  8.6,  7.6,\n",
       "       12.9,  8.1,  7.8,  8.5, 15.2,  9.6, 15. , 11. , 14.7,  9.7,  7.9,\n",
       "       11.9, 14.1,  9.2,  7.7,  4.9, 13.3, 13.2, 11.2,  8.2, 14.6, 11.4,\n",
       "        6.5, 17.9, 10. , 13.4, 14.2, 10.5, 15.9,  9.5,  9.4, 16.5, 10.4,\n",
       "       17.1,  7. ,  9. , 15.6, 12.1, 16. ,  6.3, 44. , 14. , 13.7, 14.3,\n",
       "       15.3,  7.2, 16.4, 17. ,  8.7,  5.1, 15.5, 17.3,  6.2,  7.1,  4.2,\n",
       "        5.4, 15.8, 15.1, 18. ,  5.9,  8. , 17.8, 16.7, 16.9, 16.2,  4. ])"
      ]
     },
     "execution_count": 57,
     "metadata": {},
     "output_type": "execute_result"
    }
   ],
   "source": [
    "train['acceleration_0to100_sec'].unique()"
   ]
  },
  {
   "cell_type": "code",
   "execution_count": 58,
   "id": "2570344e",
   "metadata": {},
   "outputs": [],
   "source": [
    "acceleration_list= []\n",
    "\n",
    "for index, row in train.iterrows():\n",
    "    if row['torque_nm'] >= 600:\n",
    "        acceleration_list.append(5.9)\n",
    "    elif row['torque_nm'] >= 500:\n",
    "        acceleration_list.append(7.9)\n",
    "    elif row['torque_nm'] >= 400:\n",
    "        acceleration_list.append(9.3)\n",
    "    elif row['torque_nm'] >= 300:\n",
    "        acceleration_list.append(11.2)\n",
    "    elif row['torque_nm'] >= 200:\n",
    "        acceleration_list.append(13.6)\n",
    "    elif row['torque_nm'] >= 90:\n",
    "        acceleration_list.append(15.2)\n",
    "    else:\n",
    "        acceleration_list.append(row['acceleration_0to100_sec'])\n",
    "        \n",
    "acceleration_series = pd.Series(acceleration_list)\n",
    "\n",
    "train['acceleration_0to100_sec'] = train['acceleration_0to100_sec'].fillna(acceleration_series)"
   ]
  },
  {
   "cell_type": "code",
   "execution_count": 59,
   "id": "f0b3404d",
   "metadata": {},
   "outputs": [
    {
     "data": {
      "text/plain": [
       "15.2"
      ]
     },
     "execution_count": 59,
     "metadata": {},
     "output_type": "execute_result"
    }
   ],
   "source": [
    "acceleration_series[34]"
   ]
  },
  {
   "cell_type": "code",
   "execution_count": 60,
   "id": "5cccb3e3",
   "metadata": {},
   "outputs": [
    {
     "data": {
      "text/plain": [
       "15.2"
      ]
     },
     "execution_count": 60,
     "metadata": {},
     "output_type": "execute_result"
    }
   ],
   "source": [
    "train['acceleration_0to100_sec'][34]"
   ]
  },
  {
   "cell_type": "code",
   "execution_count": 61,
   "id": "97d37b49",
   "metadata": {},
   "outputs": [
    {
     "data": {
      "text/plain": [
       "0"
      ]
     },
     "execution_count": 61,
     "metadata": {},
     "output_type": "execute_result"
    }
   ],
   "source": [
    "train['acceleration_0to100_sec'].isna().sum()"
   ]
  },
  {
   "cell_type": "code",
   "execution_count": 62,
   "id": "7501a160",
   "metadata": {},
   "outputs": [
    {
     "data": {
      "text/plain": [
       "array([11.6,  8.4, 12.5,  9.3, 10.3, 12.6, 13.8, 15.4, 11.5, 12.2,  9.8,\n",
       "       10.9, 10.7, 14.8, 10.1, 14.5,  8.9, 13.9, 12.8, 10.6, 10.8, 14.9,\n",
       "        9.9, 10.2, 11.8, 11.7, 15.2,  8.8, 12.3, 12. , 13. , 12.7,  7.3,\n",
       "       11.3, 13.1,  9.1, 13.5,  8.3, 13.6,  7.5, 12.4, 11.1,  8.6,  7.6,\n",
       "       12.9,  8.1,  7.8,  8.5,  9.6, 15. , 11. , 14.7,  9.7,  7.9, 11.9,\n",
       "       14.1,  9.2,  7.7,  4.9, 13.3, 13.2, 11.2,  8.2, 14.6, 11.4,  6.5,\n",
       "       17.9, 10. , 13.4, 14.2, 10.5, 15.9,  9.5,  9.4, 16.5, 10.4, 17.1,\n",
       "        7. ,  9. , 15.6, 12.1, 16. ,  6.3, 44. , 14. , 13.7, 14.3, 15.3,\n",
       "        7.2, 16.4, 17. ,  8.7,  5.1, 15.5, 17.3,  6.2,  7.1,  4.2,  5.4,\n",
       "       15.8, 15.1,  5.9, 18. ,  8. , 17.8, 16.7, 16.9, 16.2,  4. ])"
      ]
     },
     "execution_count": 62,
     "metadata": {},
     "output_type": "execute_result"
    }
   ],
   "source": [
    "train['acceleration_0to100_sec'].unique()"
   ]
  },
  {
   "cell_type": "markdown",
   "id": "15296267",
   "metadata": {},
   "source": [
    "# -------------------------------------------------------------------------------------------"
   ]
  },
  {
   "cell_type": "code",
   "execution_count": 63,
   "id": "ae30bd73",
   "metadata": {},
   "outputs": [
    {
     "data": {
      "text/plain": [
       "array([190., 226., 180., 216., 200., 182., 170., 165., 185., 178., 197.,\n",
       "       184., 175., 203., 189., 163., 192., 218., 176., 166., 195., 162.,\n",
       "       193., 206., 202., 183.,  nan, 168., 205., 177., 196., 171., 248.,\n",
       "       214., 167., 164., 213., 239., 173., 230., 225., 238., 223., 198.,\n",
       "       191., 188., 161., 210., 232., 250., 187., 220., 172., 186., 229.,\n",
       "       150., 245., 145., 169., 212., 228., 155., 160., 194., 240., 174.,\n",
       "       217., 204., 207., 235., 233., 199., 222., 219., 179., 181., 243.,\n",
       "       157., 208., 211., 151., 159., 255., 215., 237., 209., 140., 241.,\n",
       "       234., 227., 201., 156.])"
      ]
     },
     "execution_count": 63,
     "metadata": {},
     "output_type": "execute_result"
    }
   ],
   "source": [
    "train['max_speed_kmh'].unique()"
   ]
  },
  {
   "cell_type": "code",
   "execution_count": 64,
   "id": "72792188",
   "metadata": {},
   "outputs": [],
   "source": [
    "max_speed_list= []\n",
    "\n",
    "for index, row in train.iterrows():\n",
    "    if row['torque_nm'] >= 600:\n",
    "        max_speed_list.append(250)\n",
    "    elif row['torque_nm'] >= 500:\n",
    "        max_speed_list.append(245)\n",
    "    elif row['torque_nm'] >= 400:\n",
    "        max_speed_list.append(230)\n",
    "    elif row['torque_nm'] >= 300:\n",
    "        max_speed_list.append(200)\n",
    "    elif row['torque_nm'] >= 200:\n",
    "        max_speed_list.append(175)\n",
    "    elif row['torque_nm'] >= 90:\n",
    "        max_speed_list.append(155)\n",
    "    else:\n",
    "        max_speed_list.append(row['max_speed_kmh'])\n",
    "        \n",
    "max_speed_series = pd.Series(max_speed_list)\n",
    "\n",
    "train['max_speed_kmh'] = train['max_speed_kmh'].fillna(max_speed_series)"
   ]
  },
  {
   "cell_type": "code",
   "execution_count": 65,
   "id": "fe88bbb6",
   "metadata": {},
   "outputs": [
    {
     "data": {
      "text/plain": [
       "175.0"
      ]
     },
     "execution_count": 65,
     "metadata": {},
     "output_type": "execute_result"
    }
   ],
   "source": [
    "max_speed_series[59]"
   ]
  },
  {
   "cell_type": "code",
   "execution_count": 66,
   "id": "28970a0f",
   "metadata": {},
   "outputs": [
    {
     "data": {
      "text/plain": [
       "175.0"
      ]
     },
     "execution_count": 66,
     "metadata": {},
     "output_type": "execute_result"
    }
   ],
   "source": [
    "train['max_speed_kmh'][59]"
   ]
  },
  {
   "cell_type": "code",
   "execution_count": 67,
   "id": "53494ac9",
   "metadata": {},
   "outputs": [],
   "source": [
    "train['max_speed_kmh'] = train['max_speed_kmh'].astype(int)"
   ]
  },
  {
   "cell_type": "code",
   "execution_count": 68,
   "id": "963a3f93",
   "metadata": {},
   "outputs": [
    {
     "data": {
      "text/plain": [
       "0"
      ]
     },
     "execution_count": 68,
     "metadata": {},
     "output_type": "execute_result"
    }
   ],
   "source": [
    "train['max_speed_kmh'].isna().sum()"
   ]
  },
  {
   "cell_type": "code",
   "execution_count": 69,
   "id": "16d32af2",
   "metadata": {},
   "outputs": [
    {
     "data": {
      "text/plain": [
       "array([190, 226, 180, 216, 200, 182, 170, 165, 185, 178, 197, 184, 175,\n",
       "       203, 189, 163, 192, 218, 176, 166, 195, 162, 193, 206, 202, 183,\n",
       "       155, 168, 205, 177, 196, 171, 248, 214, 167, 164, 213, 239, 173,\n",
       "       230, 225, 238, 223, 198, 191, 188, 161, 210, 232, 250, 187, 220,\n",
       "       172, 186, 229, 150, 245, 145, 169, 212, 228, 160, 194, 240, 174,\n",
       "       217, 204, 207, 235, 233, 199, 222, 219, 179, 181, 243, 157, 208,\n",
       "       211, 151, 159, 255, 215, 237, 209, 140, 241, 234, 227, 201, 156])"
      ]
     },
     "execution_count": 69,
     "metadata": {},
     "output_type": "execute_result"
    }
   ],
   "source": [
    "train['max_speed_kmh'].unique()"
   ]
  },
  {
   "cell_type": "markdown",
   "id": "797d9861",
   "metadata": {},
   "source": [
    "# -------------------------------------------------------------------------------------------"
   ]
  },
  {
   "cell_type": "code",
   "execution_count": 70,
   "id": "bbc0a951",
   "metadata": {},
   "outputs": [],
   "source": [
    "train['average_fuel_consumption_lt'] = train['average_fuel_consumption_lt'].str.replace(',', '.').astype(float)"
   ]
  },
  {
   "cell_type": "code",
   "execution_count": 71,
   "id": "53c7d522",
   "metadata": {},
   "outputs": [
    {
     "data": {
      "text/plain": [
       "array([ 7.2,  6.1,  4.2,  5.3,  5.4,  4.5,  4.9,  4.4,  4.1,  3.5,  nan,\n",
       "        4.8,  5.1,  3.9,  4.6,  7.1,  5.6,  7.6,  6.5,  4.7,  4. ,  7.5,\n",
       "        5.5,  5. ,  4.3,  6.3,  3.6,  6. ,  6.7,  5.7,  7. ,  5.9,  3.7,\n",
       "        5.8,  7.7,  6.2,  5.2,  8.2,  3.8,  6.9,  9.3,  7.9,  7.4,  6.8,\n",
       "        6.6,  8.1,  8.9,  6.4,  7.3,  8.7, 11.6,  7.8, 10.2, 11.4,  9.4,\n",
       "        8.4,  8. , 10.9, 10.1,  8.3,  9.7,  9. ,  8.5,  9.6,  9.2,  3.2,\n",
       "        8.6])"
      ]
     },
     "execution_count": 71,
     "metadata": {},
     "output_type": "execute_result"
    }
   ],
   "source": [
    "train['average_fuel_consumption_lt'].unique()"
   ]
  },
  {
   "cell_type": "code",
   "execution_count": 72,
   "id": "8a9c1389",
   "metadata": {},
   "outputs": [],
   "source": [
    "fuel_consumption_list= []\n",
    "\n",
    "for index, row in train.iterrows():\n",
    "    if row['min_power_rpm'] >= 5000:\n",
    "        fuel_consumption_list.append(7.4)\n",
    "    elif row['min_power_rpm'] >= 4000:\n",
    "        fuel_consumption_list.append(6.6)\n",
    "    elif row['min_power_rpm'] >= 3000:\n",
    "        fuel_consumption_list.append(6.5)\n",
    "    elif row['min_power_rpm'] >= 2000:\n",
    "        fuel_consumption_list.append(6.2)\n",
    "    elif row['min_power_rpm'] >= 1000:\n",
    "        fuel_consumption_list.append(5.5)\n",
    "    else:\n",
    "        fuel_consumption_list.append(row['average_fuel_consumption_lt'])\n",
    "        \n",
    "fuel_consumption_series = pd.Series(fuel_consumption_list)\n",
    "\n",
    "train['average_fuel_consumption_lt'] = train['average_fuel_consumption_lt'].fillna(fuel_consumption_series)"
   ]
  },
  {
   "cell_type": "code",
   "execution_count": 73,
   "id": "2cc8a8fc",
   "metadata": {},
   "outputs": [
    {
     "data": {
      "text/plain": [
       "5.5"
      ]
     },
     "execution_count": 73,
     "metadata": {},
     "output_type": "execute_result"
    }
   ],
   "source": [
    "fuel_consumption_series[59]"
   ]
  },
  {
   "cell_type": "code",
   "execution_count": 74,
   "id": "86df1c85",
   "metadata": {},
   "outputs": [
    {
     "data": {
      "text/plain": [
       "5.5"
      ]
     },
     "execution_count": 74,
     "metadata": {},
     "output_type": "execute_result"
    }
   ],
   "source": [
    "train['average_fuel_consumption_lt'][59]"
   ]
  },
  {
   "cell_type": "code",
   "execution_count": 75,
   "id": "042b6e21",
   "metadata": {},
   "outputs": [
    {
     "data": {
      "text/plain": [
       "0"
      ]
     },
     "execution_count": 75,
     "metadata": {},
     "output_type": "execute_result"
    }
   ],
   "source": [
    "train['average_fuel_consumption_lt'].isna().sum()"
   ]
  },
  {
   "cell_type": "code",
   "execution_count": 76,
   "id": "da4cb352",
   "metadata": {},
   "outputs": [
    {
     "data": {
      "text/plain": [
       "array([ 7.2,  6.1,  4.2,  5.3,  5.4,  4.5,  4.9,  4.4,  4.1,  3.5,  5.5,\n",
       "        4.8,  5.1,  3.9,  4.6,  7.1,  5.6,  7.6,  6.5,  4.7,  4. ,  7.5,\n",
       "        5. ,  4.3,  6.3,  3.6,  6. ,  6.7,  5.7,  7. ,  5.9,  3.7,  5.8,\n",
       "        7.7,  6.2,  5.2,  8.2,  3.8,  6.9,  9.3,  7.9,  7.4,  6.8,  6.6,\n",
       "        8.1,  8.9,  6.4,  7.3,  8.7, 11.6,  7.8, 10.2, 11.4,  9.4,  8.4,\n",
       "        8. , 10.9, 10.1,  8.3,  9.7,  9. ,  8.5,  9.6,  9.2,  3.2,  8.6])"
      ]
     },
     "execution_count": 76,
     "metadata": {},
     "output_type": "execute_result"
    }
   ],
   "source": [
    "train['average_fuel_consumption_lt'].unique()"
   ]
  },
  {
   "cell_type": "code",
   "execution_count": 77,
   "id": "ca23dfbd",
   "metadata": {},
   "outputs": [],
   "source": [
    "train['year'] = train['year'].str.extract('(\\d+)')\n",
    "train['year'] = train['year'].astype(int)"
   ]
  },
  {
   "cell_type": "code",
   "execution_count": 78,
   "id": "88e3a156",
   "metadata": {},
   "outputs": [],
   "source": [
    "train['price_try'] = train['price_try'].str.extract('(\\d+)')\n",
    "train['price_try'] = train['price_try'].astype(int)"
   ]
  },
  {
   "cell_type": "code",
   "execution_count": 79,
   "id": "4d9db419",
   "metadata": {},
   "outputs": [
    {
     "name": "stdout",
     "output_type": "stream",
     "text": [
      "<class 'pandas.core.frame.DataFrame'>\n",
      "RangeIndex: 1500 entries, 0 to 1499\n",
      "Data columns (total 22 columns):\n",
      " #   Column                       Non-Null Count  Dtype  \n",
      "---  ------                       --------------  -----  \n",
      " 0   price_try                    1500 non-null   int64  \n",
      " 1   make                         1500 non-null   object \n",
      " 2   series                       1500 non-null   object \n",
      " 3   model                        1500 non-null   object \n",
      " 4   year                         1500 non-null   int64  \n",
      " 5   km                           1500 non-null   int64  \n",
      " 6   transmission                 1500 non-null   object \n",
      " 7   fuel                         1500 non-null   object \n",
      " 8   body_type                    1500 non-null   object \n",
      " 9   warranty                     1046 non-null   object \n",
      " 10  from_                        1500 non-null   object \n",
      " 11  wheel_drive                  1485 non-null   object \n",
      " 12  cylinder_number              1500 non-null   int64  \n",
      " 13  torque_nm                    1500 non-null   int64  \n",
      " 14  engine_capacity_cc           1500 non-null   int64  \n",
      " 15  engine_power_hp              1500 non-null   int64  \n",
      " 16  max_power_rpm                1500 non-null   int64  \n",
      " 17  min_power_rpm                1500 non-null   int64  \n",
      " 18  acceleration_0to100_sec      1500 non-null   float64\n",
      " 19  max_speed_kmh                1500 non-null   int64  \n",
      " 20  average_fuel_consumption_lt  1500 non-null   float64\n",
      " 21  painted_changed              1500 non-null   object \n",
      "dtypes: float64(2), int64(10), object(10)\n",
      "memory usage: 257.9+ KB\n"
     ]
    }
   ],
   "source": [
    "train.info()"
   ]
  },
  {
   "cell_type": "markdown",
   "id": "bb88e3dd",
   "metadata": {},
   "source": [
    "# -------------------------------------------------------------------------------------------\n",
    "# -------------------------------------------------------------------------------------------"
   ]
  },
  {
   "cell_type": "code",
   "execution_count": 80,
   "id": "1d634367",
   "metadata": {},
   "outputs": [],
   "source": [
    "make_counts = train['make'].value_counts()\n",
    "\n",
    "other_makes = list(make_counts[make_counts <= 30].index)\n",
    "\n",
    "train['make'] = train['make'].replace(other_makes, 'Other')"
   ]
  },
  {
   "cell_type": "code",
   "execution_count": 81,
   "id": "9b3bc592",
   "metadata": {},
   "outputs": [],
   "source": [
    "series_counts = train['series'].value_counts()\n",
    "\n",
    "other_series = list(series_counts[series_counts <20].index)\n",
    "\n",
    "train['series'] = train['series'].replace(other_series, 'Other')"
   ]
  },
  {
   "cell_type": "code",
   "execution_count": 82,
   "id": "8c0c6393",
   "metadata": {
    "scrolled": true
   },
   "outputs": [],
   "source": [
    "series_list= []\n",
    "\n",
    "for index, row in train.iterrows():\n",
    "    if row['series'] == 'Other':\n",
    "        series_list.append('Other ' + row['make'])\n",
    "    else:\n",
    "        series_list.append(row['series'])\n",
    "        \n",
    "train['series'] = series_list"
   ]
  },
  {
   "cell_type": "code",
   "execution_count": 83,
   "id": "eb03cf37",
   "metadata": {},
   "outputs": [],
   "source": [
    "train['series'] = train['series'].apply(lambda x : x.replace(\"3 Serisi\",\"3 Series\"))\n",
    "train['series'] = train['series'].apply(lambda x : x.replace(\"5 Serisi\",\"5 Series\"))"
   ]
  },
  {
   "cell_type": "code",
   "execution_count": 84,
   "id": "d40fe17c",
   "metadata": {},
   "outputs": [],
   "source": [
    "train.drop(columns='model', inplace=True)"
   ]
  },
  {
   "cell_type": "code",
   "execution_count": 85,
   "id": "eebfcc56",
   "metadata": {},
   "outputs": [],
   "source": [
    "transmission_dict = {\n",
    "    'Düz': 'Manual',\n",
    "    'Otomatik': 'Automatic',\n",
    "    'Yarı Otomatik': 'Semiautomatic'\n",
    "}\n",
    "\n",
    "train['transmission'] = train.transmission.map(transmission_dict)"
   ]
  },
  {
   "cell_type": "code",
   "execution_count": 86,
   "id": "443b4edf",
   "metadata": {},
   "outputs": [],
   "source": [
    "fuel_dict = {\n",
    "    'Dizel': 'Diesel',\n",
    "    'LPG & Benzin': 'LPG & Gasoline',\n",
    "    'Benzin': 'Gasoline',\n",
    "    'Elektrik': 'Electric'\n",
    "}\n",
    "\n",
    "train['fuel'] = train.fuel.map(fuel_dict)"
   ]
  },
  {
   "cell_type": "code",
   "execution_count": 87,
   "id": "337e07b0",
   "metadata": {},
   "outputs": [],
   "source": [
    "train['fuel'].fillna('Gasoline', inplace=True)"
   ]
  },
  {
   "cell_type": "code",
   "execution_count": 88,
   "id": "56493ebe",
   "metadata": {},
   "outputs": [],
   "source": [
    "body_dict = {\n",
    "    'Sedan': 'Sedan',\n",
    "    'Hatchback/5': 'Hatchback',\n",
    "    'Station wagon': 'Other',\n",
    "    'Hatchback/3': 'Hatchback',\n",
    "    'Coupe': 'Other',\n",
    "    'MPV': 'Other',\n",
    "    'Cabrio': 'Other',\n",
    "    '-': 'Other'\n",
    "}\n",
    "\n",
    "train['body_type'] = train.body_type.map(body_dict)"
   ]
  },
  {
   "cell_type": "code",
   "execution_count": 89,
   "id": "1535196a",
   "metadata": {},
   "outputs": [],
   "source": [
    "warranty_dict = {\n",
    "    'Garantisi Yok': 'Warrantless',\n",
    "    'Garantisi Var': 'Warranted',\n",
    "    '-': 'Warrantless'\n",
    "}\n",
    "\n",
    "train['warranty'] = train.warranty.map(warranty_dict)"
   ]
  },
  {
   "cell_type": "code",
   "execution_count": 90,
   "id": "3a88419e",
   "metadata": {},
   "outputs": [],
   "source": [
    "train['warranty'].fillna('Warrantless', inplace=True)"
   ]
  },
  {
   "cell_type": "code",
   "execution_count": 91,
   "id": "e613ffd2",
   "metadata": {},
   "outputs": [],
   "source": [
    "from_dict = {\n",
    "    'Galeriden': 'Dealer',\n",
    "    'Sahibinden': 'Owner',\n",
    "    'Yetkili Bayiden': 'Authorized Dealer'\n",
    "}\n",
    "\n",
    "train['from_'] = train.from_.map(from_dict)"
   ]
  },
  {
   "cell_type": "code",
   "execution_count": 92,
   "id": "c4dc11c1",
   "metadata": {},
   "outputs": [],
   "source": [
    "wheel_drive_dict = {\n",
    "    'Önden Çekiş': 'Front-Wheel Drive',\n",
    "    'Arkadan İtiş': 'Rear-Wheel Drive',\n",
    "    '4WD (Sürekli)': '4WD (Continuous)',\n",
    "    '-': 'Front-Wheel Drive'\n",
    "}\n",
    "\n",
    "train['wheel_drive'] = train.wheel_drive.map(wheel_drive_dict)"
   ]
  },
  {
   "cell_type": "code",
   "execution_count": 93,
   "id": "b2806431",
   "metadata": {},
   "outputs": [],
   "source": [
    "train['wheel_drive'].fillna('Front-Wheel Drive', inplace=True)"
   ]
  },
  {
   "cell_type": "code",
   "execution_count": 94,
   "id": "e3debd41",
   "metadata": {},
   "outputs": [],
   "source": [
    "pc_counts = train['painted_changed'].value_counts()\n",
    "\n",
    "pc = list(pc_counts[pc_counts <= 56].index)\n",
    "\n",
    "train['painted_changed'] = train['painted_changed'].replace(pc, 'Painted or Changed')"
   ]
  },
  {
   "cell_type": "code",
   "execution_count": 95,
   "id": "f013fdb3",
   "metadata": {},
   "outputs": [],
   "source": [
    "pc_dict = {\n",
    "    'Painted or Changed': 'Painted or Changed',\n",
    "    'Belirtilmemiş': 'Original',\n",
    "    'Tamamı orjinal': 'Original'\n",
    "}\n",
    "\n",
    "train['painted_changed'] = train.painted_changed.map(pc_dict)"
   ]
  },
  {
   "cell_type": "markdown",
   "id": "209e43ea",
   "metadata": {},
   "source": [
    "# -------------------------------------------------------------------------------------------\n",
    "# -------------------------------------------------------------------------------------------"
   ]
  },
  {
   "cell_type": "code",
   "execution_count": 96,
   "id": "72ce193a",
   "metadata": {},
   "outputs": [
    {
     "data": {
      "text/html": [
       "<div>\n",
       "<style scoped>\n",
       "    .dataframe tbody tr th:only-of-type {\n",
       "        vertical-align: middle;\n",
       "    }\n",
       "\n",
       "    .dataframe tbody tr th {\n",
       "        vertical-align: top;\n",
       "    }\n",
       "\n",
       "    .dataframe thead th {\n",
       "        text-align: right;\n",
       "    }\n",
       "</style>\n",
       "<table border=\"1\" class=\"dataframe\">\n",
       "  <thead>\n",
       "    <tr style=\"text-align: right;\">\n",
       "      <th></th>\n",
       "      <th>price_try</th>\n",
       "      <th>make</th>\n",
       "      <th>series</th>\n",
       "      <th>year</th>\n",
       "      <th>km</th>\n",
       "      <th>transmission</th>\n",
       "      <th>fuel</th>\n",
       "      <th>body_type</th>\n",
       "      <th>warranty</th>\n",
       "      <th>from_</th>\n",
       "      <th>...</th>\n",
       "      <th>cylinder_number</th>\n",
       "      <th>torque_nm</th>\n",
       "      <th>engine_capacity_cc</th>\n",
       "      <th>engine_power_hp</th>\n",
       "      <th>max_power_rpm</th>\n",
       "      <th>min_power_rpm</th>\n",
       "      <th>acceleration_0to100_sec</th>\n",
       "      <th>max_speed_kmh</th>\n",
       "      <th>average_fuel_consumption_lt</th>\n",
       "      <th>painted_changed</th>\n",
       "    </tr>\n",
       "  </thead>\n",
       "  <tbody>\n",
       "    <tr>\n",
       "      <th>0</th>\n",
       "      <td>364950</td>\n",
       "      <td>Peugeot</td>\n",
       "      <td>Other Peugeot</td>\n",
       "      <td>2003</td>\n",
       "      <td>149000</td>\n",
       "      <td>Manual</td>\n",
       "      <td>LPG &amp; Gasoline</td>\n",
       "      <td>Hatchback</td>\n",
       "      <td>Warrantless</td>\n",
       "      <td>Dealer</td>\n",
       "      <td>...</td>\n",
       "      <td>4</td>\n",
       "      <td>147</td>\n",
       "      <td>1587</td>\n",
       "      <td>110</td>\n",
       "      <td>2500</td>\n",
       "      <td>1200</td>\n",
       "      <td>11.6</td>\n",
       "      <td>190</td>\n",
       "      <td>7.2</td>\n",
       "      <td>Original</td>\n",
       "    </tr>\n",
       "    <tr>\n",
       "      <th>1</th>\n",
       "      <td>769950</td>\n",
       "      <td>BMW</td>\n",
       "      <td>5 Series</td>\n",
       "      <td>2008</td>\n",
       "      <td>369000</td>\n",
       "      <td>Automatic</td>\n",
       "      <td>Diesel</td>\n",
       "      <td>Sedan</td>\n",
       "      <td>Warrantless</td>\n",
       "      <td>Dealer</td>\n",
       "      <td>...</td>\n",
       "      <td>4</td>\n",
       "      <td>350</td>\n",
       "      <td>1995</td>\n",
       "      <td>177</td>\n",
       "      <td>4000</td>\n",
       "      <td>1750</td>\n",
       "      <td>8.4</td>\n",
       "      <td>226</td>\n",
       "      <td>6.1</td>\n",
       "      <td>Original</td>\n",
       "    </tr>\n",
       "    <tr>\n",
       "      <th>2</th>\n",
       "      <td>635000</td>\n",
       "      <td>Ford</td>\n",
       "      <td>Focus</td>\n",
       "      <td>2012</td>\n",
       "      <td>210000</td>\n",
       "      <td>Manual</td>\n",
       "      <td>Diesel</td>\n",
       "      <td>Sedan</td>\n",
       "      <td>Warrantless</td>\n",
       "      <td>Dealer</td>\n",
       "      <td>...</td>\n",
       "      <td>4</td>\n",
       "      <td>230</td>\n",
       "      <td>1560</td>\n",
       "      <td>95</td>\n",
       "      <td>3600</td>\n",
       "      <td>2000</td>\n",
       "      <td>12.5</td>\n",
       "      <td>180</td>\n",
       "      <td>4.2</td>\n",
       "      <td>Original</td>\n",
       "    </tr>\n",
       "    <tr>\n",
       "      <th>3</th>\n",
       "      <td>1760000</td>\n",
       "      <td>Mercedes - Benz</td>\n",
       "      <td>Other Mercedes - Benz</td>\n",
       "      <td>2020</td>\n",
       "      <td>38000</td>\n",
       "      <td>Semiautomatic</td>\n",
       "      <td>Gasoline</td>\n",
       "      <td>Sedan</td>\n",
       "      <td>Warrantless</td>\n",
       "      <td>Owner</td>\n",
       "      <td>...</td>\n",
       "      <td>4</td>\n",
       "      <td>200</td>\n",
       "      <td>1332</td>\n",
       "      <td>136</td>\n",
       "      <td>5500</td>\n",
       "      <td>1460</td>\n",
       "      <td>9.3</td>\n",
       "      <td>216</td>\n",
       "      <td>5.3</td>\n",
       "      <td>Original</td>\n",
       "    </tr>\n",
       "    <tr>\n",
       "      <th>4</th>\n",
       "      <td>850000</td>\n",
       "      <td>Renault</td>\n",
       "      <td>Megane</td>\n",
       "      <td>2021</td>\n",
       "      <td>30000</td>\n",
       "      <td>Manual</td>\n",
       "      <td>Gasoline</td>\n",
       "      <td>Sedan</td>\n",
       "      <td>Warrantless</td>\n",
       "      <td>Owner</td>\n",
       "      <td>...</td>\n",
       "      <td>4</td>\n",
       "      <td>205</td>\n",
       "      <td>1198</td>\n",
       "      <td>130</td>\n",
       "      <td>5500</td>\n",
       "      <td>2000</td>\n",
       "      <td>10.3</td>\n",
       "      <td>200</td>\n",
       "      <td>5.4</td>\n",
       "      <td>Original</td>\n",
       "    </tr>\n",
       "    <tr>\n",
       "      <th>...</th>\n",
       "      <td>...</td>\n",
       "      <td>...</td>\n",
       "      <td>...</td>\n",
       "      <td>...</td>\n",
       "      <td>...</td>\n",
       "      <td>...</td>\n",
       "      <td>...</td>\n",
       "      <td>...</td>\n",
       "      <td>...</td>\n",
       "      <td>...</td>\n",
       "      <td>...</td>\n",
       "      <td>...</td>\n",
       "      <td>...</td>\n",
       "      <td>...</td>\n",
       "      <td>...</td>\n",
       "      <td>...</td>\n",
       "      <td>...</td>\n",
       "      <td>...</td>\n",
       "      <td>...</td>\n",
       "      <td>...</td>\n",
       "      <td>...</td>\n",
       "    </tr>\n",
       "    <tr>\n",
       "      <th>1494</th>\n",
       "      <td>635000</td>\n",
       "      <td>Seat</td>\n",
       "      <td>Other Seat</td>\n",
       "      <td>2012</td>\n",
       "      <td>137000</td>\n",
       "      <td>Manual</td>\n",
       "      <td>Gasoline</td>\n",
       "      <td>Hatchback</td>\n",
       "      <td>Warrantless</td>\n",
       "      <td>Owner</td>\n",
       "      <td>...</td>\n",
       "      <td>4</td>\n",
       "      <td>132</td>\n",
       "      <td>1390</td>\n",
       "      <td>85</td>\n",
       "      <td>5000</td>\n",
       "      <td>3800</td>\n",
       "      <td>11.8</td>\n",
       "      <td>177</td>\n",
       "      <td>5.9</td>\n",
       "      <td>Painted or Changed</td>\n",
       "    </tr>\n",
       "    <tr>\n",
       "      <th>1495</th>\n",
       "      <td>275000</td>\n",
       "      <td>Fiat</td>\n",
       "      <td>Other Fiat</td>\n",
       "      <td>1999</td>\n",
       "      <td>256000</td>\n",
       "      <td>Manual</td>\n",
       "      <td>LPG &amp; Gasoline</td>\n",
       "      <td>Hatchback</td>\n",
       "      <td>Warrantless</td>\n",
       "      <td>Owner</td>\n",
       "      <td>...</td>\n",
       "      <td>4</td>\n",
       "      <td>140</td>\n",
       "      <td>1581</td>\n",
       "      <td>100</td>\n",
       "      <td>5750</td>\n",
       "      <td>4000</td>\n",
       "      <td>10.3</td>\n",
       "      <td>186</td>\n",
       "      <td>8.3</td>\n",
       "      <td>Painted or Changed</td>\n",
       "    </tr>\n",
       "    <tr>\n",
       "      <th>1496</th>\n",
       "      <td>662000</td>\n",
       "      <td>Renault</td>\n",
       "      <td>Clio</td>\n",
       "      <td>2020</td>\n",
       "      <td>42000</td>\n",
       "      <td>Manual</td>\n",
       "      <td>Gasoline</td>\n",
       "      <td>Hatchback</td>\n",
       "      <td>Warrantless</td>\n",
       "      <td>Owner</td>\n",
       "      <td>...</td>\n",
       "      <td>3</td>\n",
       "      <td>140</td>\n",
       "      <td>898</td>\n",
       "      <td>90</td>\n",
       "      <td>5000</td>\n",
       "      <td>2500</td>\n",
       "      <td>12.9</td>\n",
       "      <td>178</td>\n",
       "      <td>5.0</td>\n",
       "      <td>Original</td>\n",
       "    </tr>\n",
       "    <tr>\n",
       "      <th>1497</th>\n",
       "      <td>610000</td>\n",
       "      <td>Ford</td>\n",
       "      <td>Focus</td>\n",
       "      <td>2006</td>\n",
       "      <td>200000</td>\n",
       "      <td>Manual</td>\n",
       "      <td>LPG &amp; Gasoline</td>\n",
       "      <td>Sedan</td>\n",
       "      <td>Warrantless</td>\n",
       "      <td>Owner</td>\n",
       "      <td>...</td>\n",
       "      <td>4</td>\n",
       "      <td>155</td>\n",
       "      <td>1596</td>\n",
       "      <td>115</td>\n",
       "      <td>6000</td>\n",
       "      <td>4150</td>\n",
       "      <td>10.8</td>\n",
       "      <td>190</td>\n",
       "      <td>6.4</td>\n",
       "      <td>Original</td>\n",
       "    </tr>\n",
       "    <tr>\n",
       "      <th>1498</th>\n",
       "      <td>629000</td>\n",
       "      <td>Volkswagen</td>\n",
       "      <td>Polo</td>\n",
       "      <td>2015</td>\n",
       "      <td>162000</td>\n",
       "      <td>Manual</td>\n",
       "      <td>Diesel</td>\n",
       "      <td>Hatchback</td>\n",
       "      <td>Warrantless</td>\n",
       "      <td>Owner</td>\n",
       "      <td>...</td>\n",
       "      <td>3</td>\n",
       "      <td>210</td>\n",
       "      <td>1422</td>\n",
       "      <td>75</td>\n",
       "      <td>3750</td>\n",
       "      <td>1500</td>\n",
       "      <td>12.9</td>\n",
       "      <td>173</td>\n",
       "      <td>3.6</td>\n",
       "      <td>Painted or Changed</td>\n",
       "    </tr>\n",
       "  </tbody>\n",
       "</table>\n",
       "<p>1499 rows × 21 columns</p>\n",
       "</div>"
      ],
      "text/plain": [
       "      price_try             make                 series  year      km  \\\n",
       "0        364950          Peugeot          Other Peugeot  2003  149000   \n",
       "1        769950              BMW               5 Series  2008  369000   \n",
       "2        635000             Ford                  Focus  2012  210000   \n",
       "3       1760000  Mercedes - Benz  Other Mercedes - Benz  2020   38000   \n",
       "4        850000          Renault                 Megane  2021   30000   \n",
       "...         ...              ...                    ...   ...     ...   \n",
       "1494     635000             Seat             Other Seat  2012  137000   \n",
       "1495     275000             Fiat             Other Fiat  1999  256000   \n",
       "1496     662000          Renault                   Clio  2020   42000   \n",
       "1497     610000             Ford                  Focus  2006  200000   \n",
       "1498     629000       Volkswagen                   Polo  2015  162000   \n",
       "\n",
       "       transmission            fuel  body_type     warranty   from_  ...  \\\n",
       "0            Manual  LPG & Gasoline  Hatchback  Warrantless  Dealer  ...   \n",
       "1         Automatic          Diesel      Sedan  Warrantless  Dealer  ...   \n",
       "2            Manual          Diesel      Sedan  Warrantless  Dealer  ...   \n",
       "3     Semiautomatic        Gasoline      Sedan  Warrantless   Owner  ...   \n",
       "4            Manual        Gasoline      Sedan  Warrantless   Owner  ...   \n",
       "...             ...             ...        ...          ...     ...  ...   \n",
       "1494         Manual        Gasoline  Hatchback  Warrantless   Owner  ...   \n",
       "1495         Manual  LPG & Gasoline  Hatchback  Warrantless   Owner  ...   \n",
       "1496         Manual        Gasoline  Hatchback  Warrantless   Owner  ...   \n",
       "1497         Manual  LPG & Gasoline      Sedan  Warrantless   Owner  ...   \n",
       "1498         Manual          Diesel  Hatchback  Warrantless   Owner  ...   \n",
       "\n",
       "     cylinder_number  torque_nm  engine_capacity_cc  engine_power_hp  \\\n",
       "0                  4        147                1587              110   \n",
       "1                  4        350                1995              177   \n",
       "2                  4        230                1560               95   \n",
       "3                  4        200                1332              136   \n",
       "4                  4        205                1198              130   \n",
       "...              ...        ...                 ...              ...   \n",
       "1494               4        132                1390               85   \n",
       "1495               4        140                1581              100   \n",
       "1496               3        140                 898               90   \n",
       "1497               4        155                1596              115   \n",
       "1498               3        210                1422               75   \n",
       "\n",
       "      max_power_rpm  min_power_rpm  acceleration_0to100_sec  max_speed_kmh  \\\n",
       "0              2500           1200                     11.6            190   \n",
       "1              4000           1750                      8.4            226   \n",
       "2              3600           2000                     12.5            180   \n",
       "3              5500           1460                      9.3            216   \n",
       "4              5500           2000                     10.3            200   \n",
       "...             ...            ...                      ...            ...   \n",
       "1494           5000           3800                     11.8            177   \n",
       "1495           5750           4000                     10.3            186   \n",
       "1496           5000           2500                     12.9            178   \n",
       "1497           6000           4150                     10.8            190   \n",
       "1498           3750           1500                     12.9            173   \n",
       "\n",
       "      average_fuel_consumption_lt     painted_changed  \n",
       "0                             7.2            Original  \n",
       "1                             6.1            Original  \n",
       "2                             4.2            Original  \n",
       "3                             5.3            Original  \n",
       "4                             5.4            Original  \n",
       "...                           ...                 ...  \n",
       "1494                          5.9  Painted or Changed  \n",
       "1495                          8.3  Painted or Changed  \n",
       "1496                          5.0            Original  \n",
       "1497                          6.4            Original  \n",
       "1498                          3.6  Painted or Changed  \n",
       "\n",
       "[1499 rows x 21 columns]"
      ]
     },
     "execution_count": 96,
     "metadata": {},
     "output_type": "execute_result"
    }
   ],
   "source": [
    "train.drop_duplicates(inplace=True)\n",
    "train = train.reset_index(drop=True)\n",
    "train"
   ]
  },
  {
   "cell_type": "code",
   "execution_count": 97,
   "id": "58fd327c",
   "metadata": {
    "scrolled": true
   },
   "outputs": [
    {
     "name": "stdout",
     "output_type": "stream",
     "text": [
      "<class 'pandas.core.frame.DataFrame'>\n",
      "RangeIndex: 1499 entries, 0 to 1498\n",
      "Data columns (total 21 columns):\n",
      " #   Column                       Non-Null Count  Dtype  \n",
      "---  ------                       --------------  -----  \n",
      " 0   price_try                    1499 non-null   int64  \n",
      " 1   make                         1499 non-null   object \n",
      " 2   series                       1499 non-null   object \n",
      " 3   year                         1499 non-null   int64  \n",
      " 4   km                           1499 non-null   int64  \n",
      " 5   transmission                 1499 non-null   object \n",
      " 6   fuel                         1499 non-null   object \n",
      " 7   body_type                    1499 non-null   object \n",
      " 8   warranty                     1499 non-null   object \n",
      " 9   from_                        1499 non-null   object \n",
      " 10  wheel_drive                  1499 non-null   object \n",
      " 11  cylinder_number              1499 non-null   int64  \n",
      " 12  torque_nm                    1499 non-null   int64  \n",
      " 13  engine_capacity_cc           1499 non-null   int64  \n",
      " 14  engine_power_hp              1499 non-null   int64  \n",
      " 15  max_power_rpm                1499 non-null   int64  \n",
      " 16  min_power_rpm                1499 non-null   int64  \n",
      " 17  acceleration_0to100_sec      1499 non-null   float64\n",
      " 18  max_speed_kmh                1499 non-null   int64  \n",
      " 19  average_fuel_consumption_lt  1499 non-null   float64\n",
      " 20  painted_changed              1499 non-null   object \n",
      "dtypes: float64(2), int64(10), object(9)\n",
      "memory usage: 246.1+ KB\n"
     ]
    }
   ],
   "source": [
    "train.info()"
   ]
  },
  {
   "cell_type": "code",
   "execution_count": 98,
   "id": "0bbe2960",
   "metadata": {},
   "outputs": [],
   "source": [
    "train.to_csv('arabam_train.csv')"
   ]
  }
 ],
 "metadata": {
  "kernelspec": {
   "display_name": "Python 3 (ipykernel)",
   "language": "python",
   "name": "python3"
  },
  "language_info": {
   "codemirror_mode": {
    "name": "ipython",
    "version": 3
   },
   "file_extension": ".py",
   "mimetype": "text/x-python",
   "name": "python",
   "nbconvert_exporter": "python",
   "pygments_lexer": "ipython3",
   "version": "3.11.4"
  }
 },
 "nbformat": 4,
 "nbformat_minor": 5
}
