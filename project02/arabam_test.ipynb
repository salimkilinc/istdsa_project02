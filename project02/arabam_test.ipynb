{
 "cells": [
  {
   "cell_type": "markdown",
   "id": "8ff70a75",
   "metadata": {},
   "source": [
    "# Cleaning & Editing"
   ]
  },
  {
   "cell_type": "code",
   "execution_count": 1,
   "id": "05260a09",
   "metadata": {},
   "outputs": [],
   "source": [
    "import numpy as np\n",
    "import pandas as pd\n",
    "from pandas import Series, DataFrame\n",
    "import matplotlib.pyplot as plt\n",
    "import seaborn as sns\n",
    "import warnings\n",
    "warnings.filterwarnings(\"ignore\")"
   ]
  },
  {
   "cell_type": "code",
   "execution_count": 2,
   "id": "3378cbd0",
   "metadata": {},
   "outputs": [],
   "source": [
    "test = pd.read_csv('test_arabam.csv').drop(columns='Unnamed: 0')"
   ]
  },
  {
   "cell_type": "code",
   "execution_count": 3,
   "id": "8cf89121",
   "metadata": {
    "scrolled": true
   },
   "outputs": [
    {
     "data": {
      "text/html": [
       "<div>\n",
       "<style scoped>\n",
       "    .dataframe tbody tr th:only-of-type {\n",
       "        vertical-align: middle;\n",
       "    }\n",
       "\n",
       "    .dataframe tbody tr th {\n",
       "        vertical-align: top;\n",
       "    }\n",
       "\n",
       "    .dataframe thead th {\n",
       "        text-align: right;\n",
       "    }\n",
       "</style>\n",
       "<table border=\"1\" class=\"dataframe\">\n",
       "  <thead>\n",
       "    <tr style=\"text-align: right;\">\n",
       "      <th></th>\n",
       "      <th>price_try</th>\n",
       "      <th>make</th>\n",
       "      <th>series</th>\n",
       "      <th>model</th>\n",
       "      <th>year</th>\n",
       "      <th>km</th>\n",
       "      <th>transmission</th>\n",
       "      <th>fuel</th>\n",
       "      <th>body_type</th>\n",
       "      <th>warranty</th>\n",
       "      <th>...</th>\n",
       "      <th>cylinder_number</th>\n",
       "      <th>torque_nm</th>\n",
       "      <th>engine_capacity_cc</th>\n",
       "      <th>engine_power_hp</th>\n",
       "      <th>max_power_rpm</th>\n",
       "      <th>min_power_rpm</th>\n",
       "      <th>acceleration_0to100_sec</th>\n",
       "      <th>max_speed_kmh</th>\n",
       "      <th>average_fuel_consumption_lt</th>\n",
       "      <th>painted_changed</th>\n",
       "    </tr>\n",
       "  </thead>\n",
       "  <tbody>\n",
       "    <tr>\n",
       "      <th>0</th>\n",
       "      <td>700000</td>\n",
       "      <td>Ford</td>\n",
       "      <td>Focus</td>\n",
       "      <td>1.6 Titanium</td>\n",
       "      <td>2009</td>\n",
       "      <td>281000</td>\n",
       "      <td>Otomatik</td>\n",
       "      <td>LPG &amp; Benzin</td>\n",
       "      <td>Sedan</td>\n",
       "      <td>NaN</td>\n",
       "      <td>...</td>\n",
       "      <td>4.0</td>\n",
       "      <td>150.0</td>\n",
       "      <td>1596</td>\n",
       "      <td>100</td>\n",
       "      <td>6000.0</td>\n",
       "      <td>4000.0</td>\n",
       "      <td>14,2</td>\n",
       "      <td>182.0</td>\n",
       "      <td>6,7</td>\n",
       "      <td>Belirtilmemiş</td>\n",
       "    </tr>\n",
       "    <tr>\n",
       "      <th>1</th>\n",
       "      <td>760000</td>\n",
       "      <td>Renault</td>\n",
       "      <td>Clio</td>\n",
       "      <td>1.5 dCi Icon</td>\n",
       "      <td>2017</td>\n",
       "      <td>162000</td>\n",
       "      <td>Yarı Otomatik</td>\n",
       "      <td>Dizel</td>\n",
       "      <td>Hatchback/5</td>\n",
       "      <td>NaN</td>\n",
       "      <td>...</td>\n",
       "      <td>4.0</td>\n",
       "      <td>220.0</td>\n",
       "      <td>1461</td>\n",
       "      <td>90</td>\n",
       "      <td>4000.0</td>\n",
       "      <td>1750.0</td>\n",
       "      <td>12,9</td>\n",
       "      <td>176.0</td>\n",
       "      <td>3,7</td>\n",
       "      <td>2 boyalı</td>\n",
       "    </tr>\n",
       "    <tr>\n",
       "      <th>2</th>\n",
       "      <td>400000</td>\n",
       "      <td>Opel</td>\n",
       "      <td>Corsa</td>\n",
       "      <td>1.2 Comfort</td>\n",
       "      <td>2003</td>\n",
       "      <td>205000</td>\n",
       "      <td>Yarı Otomatik</td>\n",
       "      <td>LPG &amp; Benzin</td>\n",
       "      <td>Hatchback/5</td>\n",
       "      <td>Garantisi Yok</td>\n",
       "      <td>...</td>\n",
       "      <td>4.0</td>\n",
       "      <td>110.0</td>\n",
       "      <td>1199</td>\n",
       "      <td>75</td>\n",
       "      <td>NaN</td>\n",
       "      <td>NaN</td>\n",
       "      <td>14</td>\n",
       "      <td>170.0</td>\n",
       "      <td>6,2</td>\n",
       "      <td>2 değişen, 2 boyalı</td>\n",
       "    </tr>\n",
       "    <tr>\n",
       "      <th>3</th>\n",
       "      <td>750000</td>\n",
       "      <td>Ford</td>\n",
       "      <td>Focus</td>\n",
       "      <td>1.6 Ti-VCT Trend X</td>\n",
       "      <td>2014</td>\n",
       "      <td>209000</td>\n",
       "      <td>Düz</td>\n",
       "      <td>LPG &amp; Benzin</td>\n",
       "      <td>Sedan</td>\n",
       "      <td>Garantisi Yok</td>\n",
       "      <td>...</td>\n",
       "      <td>4.0</td>\n",
       "      <td>158.0</td>\n",
       "      <td>1596</td>\n",
       "      <td>125</td>\n",
       "      <td>6300.0</td>\n",
       "      <td>4000.0</td>\n",
       "      <td>10,9</td>\n",
       "      <td>198.0</td>\n",
       "      <td>6</td>\n",
       "      <td>Tamamı orjinal</td>\n",
       "    </tr>\n",
       "    <tr>\n",
       "      <th>4</th>\n",
       "      <td>115000</td>\n",
       "      <td>Skoda</td>\n",
       "      <td>Favorit</td>\n",
       "      <td>1.3 LX</td>\n",
       "      <td>1993</td>\n",
       "      <td>217000</td>\n",
       "      <td>Düz</td>\n",
       "      <td>LPG &amp; Benzin</td>\n",
       "      <td>Hatchback/5</td>\n",
       "      <td>NaN</td>\n",
       "      <td>...</td>\n",
       "      <td>NaN</td>\n",
       "      <td>NaN</td>\n",
       "      <td>NaN</td>\n",
       "      <td>NaN</td>\n",
       "      <td>NaN</td>\n",
       "      <td>NaN</td>\n",
       "      <td>NaN</td>\n",
       "      <td>NaN</td>\n",
       "      <td>NaN</td>\n",
       "      <td>Belirtilmemiş</td>\n",
       "    </tr>\n",
       "    <tr>\n",
       "      <th>...</th>\n",
       "      <td>...</td>\n",
       "      <td>...</td>\n",
       "      <td>...</td>\n",
       "      <td>...</td>\n",
       "      <td>...</td>\n",
       "      <td>...</td>\n",
       "      <td>...</td>\n",
       "      <td>...</td>\n",
       "      <td>...</td>\n",
       "      <td>...</td>\n",
       "      <td>...</td>\n",
       "      <td>...</td>\n",
       "      <td>...</td>\n",
       "      <td>...</td>\n",
       "      <td>...</td>\n",
       "      <td>...</td>\n",
       "      <td>...</td>\n",
       "      <td>...</td>\n",
       "      <td>...</td>\n",
       "      <td>...</td>\n",
       "      <td>...</td>\n",
       "    </tr>\n",
       "    <tr>\n",
       "      <th>995</th>\n",
       "      <td>435000</td>\n",
       "      <td>Opel</td>\n",
       "      <td>Astra</td>\n",
       "      <td>1.6 Enjoy</td>\n",
       "      <td>2005</td>\n",
       "      <td>228000</td>\n",
       "      <td>Düz</td>\n",
       "      <td>LPG &amp; Benzin</td>\n",
       "      <td>Hatchback/5</td>\n",
       "      <td>Garantisi Yok</td>\n",
       "      <td>...</td>\n",
       "      <td>4.0</td>\n",
       "      <td>150.0</td>\n",
       "      <td>1598</td>\n",
       "      <td>105</td>\n",
       "      <td>6000.0</td>\n",
       "      <td>3900.0</td>\n",
       "      <td>12,3</td>\n",
       "      <td>185.0</td>\n",
       "      <td>6,6</td>\n",
       "      <td>5 değişen, 4 boyalı</td>\n",
       "    </tr>\n",
       "    <tr>\n",
       "      <th>996</th>\n",
       "      <td>200000</td>\n",
       "      <td>Renault</td>\n",
       "      <td>R 19</td>\n",
       "      <td>1.6 Europa RL</td>\n",
       "      <td>1997</td>\n",
       "      <td>370000</td>\n",
       "      <td>Düz</td>\n",
       "      <td>LPG &amp; Benzin</td>\n",
       "      <td>Hatchback/5</td>\n",
       "      <td>NaN</td>\n",
       "      <td>...</td>\n",
       "      <td>4.0</td>\n",
       "      <td>131.0</td>\n",
       "      <td>1598</td>\n",
       "      <td>90</td>\n",
       "      <td>5250.0</td>\n",
       "      <td>2500.0</td>\n",
       "      <td>14,8</td>\n",
       "      <td>187.0</td>\n",
       "      <td>NaN</td>\n",
       "      <td>Belirtilmemiş</td>\n",
       "    </tr>\n",
       "    <tr>\n",
       "      <th>997</th>\n",
       "      <td>325000</td>\n",
       "      <td>Fiat</td>\n",
       "      <td>Linea</td>\n",
       "      <td>1.6 Multijet Active Plus</td>\n",
       "      <td>2011</td>\n",
       "      <td>446000</td>\n",
       "      <td>Düz</td>\n",
       "      <td>Dizel</td>\n",
       "      <td>Sedan</td>\n",
       "      <td>NaN</td>\n",
       "      <td>...</td>\n",
       "      <td>4.0</td>\n",
       "      <td>290.0</td>\n",
       "      <td>1598</td>\n",
       "      <td>105</td>\n",
       "      <td>4000.0</td>\n",
       "      <td>1500.0</td>\n",
       "      <td>11</td>\n",
       "      <td>190.0</td>\n",
       "      <td>5</td>\n",
       "      <td>1 değişen, 5 boyalı</td>\n",
       "    </tr>\n",
       "    <tr>\n",
       "      <th>998</th>\n",
       "      <td>550000</td>\n",
       "      <td>Renault</td>\n",
       "      <td>Symbol</td>\n",
       "      <td>1.4 Expression</td>\n",
       "      <td>2011</td>\n",
       "      <td>60000</td>\n",
       "      <td>Düz</td>\n",
       "      <td>Benzin</td>\n",
       "      <td>Sedan</td>\n",
       "      <td>NaN</td>\n",
       "      <td>...</td>\n",
       "      <td>4.0</td>\n",
       "      <td>114.0</td>\n",
       "      <td>1390</td>\n",
       "      <td>75</td>\n",
       "      <td>5500.0</td>\n",
       "      <td>4250.0</td>\n",
       "      <td>12,5</td>\n",
       "      <td>170.0</td>\n",
       "      <td>7,1</td>\n",
       "      <td>Tamamı orjinal</td>\n",
       "    </tr>\n",
       "    <tr>\n",
       "      <th>999</th>\n",
       "      <td>655000</td>\n",
       "      <td>Fiat</td>\n",
       "      <td>Egea</td>\n",
       "      <td>1.4 Fire Easy</td>\n",
       "      <td>2019</td>\n",
       "      <td>35000</td>\n",
       "      <td>Düz</td>\n",
       "      <td>Benzin</td>\n",
       "      <td>Sedan</td>\n",
       "      <td>NaN</td>\n",
       "      <td>...</td>\n",
       "      <td>4.0</td>\n",
       "      <td>127.0</td>\n",
       "      <td>1368</td>\n",
       "      <td>95</td>\n",
       "      <td>6000.0</td>\n",
       "      <td>4500.0</td>\n",
       "      <td>11,5</td>\n",
       "      <td>185.0</td>\n",
       "      <td>5,7</td>\n",
       "      <td>1 boyalı</td>\n",
       "    </tr>\n",
       "  </tbody>\n",
       "</table>\n",
       "<p>1000 rows × 22 columns</p>\n",
       "</div>"
      ],
      "text/plain": [
       "    price_try     make   series                     model  year      km  \\\n",
       "0      700000     Ford    Focus              1.6 Titanium  2009  281000   \n",
       "1      760000  Renault     Clio              1.5 dCi Icon  2017  162000   \n",
       "2      400000     Opel    Corsa               1.2 Comfort  2003  205000   \n",
       "3      750000     Ford    Focus        1.6 Ti-VCT Trend X  2014  209000   \n",
       "4      115000    Skoda  Favorit                    1.3 LX  1993  217000   \n",
       "..        ...      ...      ...                       ...   ...     ...   \n",
       "995    435000     Opel    Astra                 1.6 Enjoy  2005  228000   \n",
       "996    200000  Renault     R 19             1.6 Europa RL  1997  370000   \n",
       "997    325000     Fiat    Linea  1.6 Multijet Active Plus  2011  446000   \n",
       "998    550000  Renault   Symbol            1.4 Expression  2011   60000   \n",
       "999    655000     Fiat     Egea             1.4 Fire Easy  2019   35000   \n",
       "\n",
       "      transmission          fuel    body_type       warranty  ...  \\\n",
       "0         Otomatik  LPG & Benzin        Sedan            NaN  ...   \n",
       "1    Yarı Otomatik         Dizel  Hatchback/5            NaN  ...   \n",
       "2    Yarı Otomatik  LPG & Benzin  Hatchback/5  Garantisi Yok  ...   \n",
       "3              Düz  LPG & Benzin        Sedan  Garantisi Yok  ...   \n",
       "4              Düz  LPG & Benzin  Hatchback/5            NaN  ...   \n",
       "..             ...           ...          ...            ...  ...   \n",
       "995            Düz  LPG & Benzin  Hatchback/5  Garantisi Yok  ...   \n",
       "996            Düz  LPG & Benzin  Hatchback/5            NaN  ...   \n",
       "997            Düz         Dizel        Sedan            NaN  ...   \n",
       "998            Düz        Benzin        Sedan            NaN  ...   \n",
       "999            Düz        Benzin        Sedan            NaN  ...   \n",
       "\n",
       "    cylinder_number torque_nm  engine_capacity_cc  engine_power_hp  \\\n",
       "0               4.0     150.0                1596              100   \n",
       "1               4.0     220.0                1461               90   \n",
       "2               4.0     110.0                1199               75   \n",
       "3               4.0     158.0                1596              125   \n",
       "4               NaN       NaN                 NaN              NaN   \n",
       "..              ...       ...                 ...              ...   \n",
       "995             4.0     150.0                1598              105   \n",
       "996             4.0     131.0                1598               90   \n",
       "997             4.0     290.0                1598              105   \n",
       "998             4.0     114.0                1390               75   \n",
       "999             4.0     127.0                1368               95   \n",
       "\n",
       "    max_power_rpm min_power_rpm  acceleration_0to100_sec  max_speed_kmh  \\\n",
       "0          6000.0        4000.0                     14,2          182.0   \n",
       "1          4000.0        1750.0                     12,9          176.0   \n",
       "2             NaN           NaN                       14          170.0   \n",
       "3          6300.0        4000.0                     10,9          198.0   \n",
       "4             NaN           NaN                      NaN            NaN   \n",
       "..            ...           ...                      ...            ...   \n",
       "995        6000.0        3900.0                     12,3          185.0   \n",
       "996        5250.0        2500.0                     14,8          187.0   \n",
       "997        4000.0        1500.0                       11          190.0   \n",
       "998        5500.0        4250.0                     12,5          170.0   \n",
       "999        6000.0        4500.0                     11,5          185.0   \n",
       "\n",
       "    average_fuel_consumption_lt      painted_changed  \n",
       "0                           6,7        Belirtilmemiş  \n",
       "1                           3,7             2 boyalı  \n",
       "2                           6,2  2 değişen, 2 boyalı  \n",
       "3                             6       Tamamı orjinal  \n",
       "4                           NaN        Belirtilmemiş  \n",
       "..                          ...                  ...  \n",
       "995                         6,6  5 değişen, 4 boyalı  \n",
       "996                         NaN        Belirtilmemiş  \n",
       "997                           5  1 değişen, 5 boyalı  \n",
       "998                         7,1       Tamamı orjinal  \n",
       "999                         5,7             1 boyalı  \n",
       "\n",
       "[1000 rows x 22 columns]"
      ]
     },
     "execution_count": 3,
     "metadata": {},
     "output_type": "execute_result"
    }
   ],
   "source": [
    "test"
   ]
  },
  {
   "cell_type": "code",
   "execution_count": 4,
   "id": "5f780e3e",
   "metadata": {},
   "outputs": [
    {
     "name": "stdout",
     "output_type": "stream",
     "text": [
      "<class 'pandas.core.frame.DataFrame'>\n",
      "RangeIndex: 1000 entries, 0 to 999\n",
      "Data columns (total 22 columns):\n",
      " #   Column                       Non-Null Count  Dtype  \n",
      "---  ------                       --------------  -----  \n",
      " 0   price_try                    1000 non-null   object \n",
      " 1   make                         1000 non-null   object \n",
      " 2   series                       1000 non-null   object \n",
      " 3   model                        999 non-null    object \n",
      " 4   year                         1000 non-null   object \n",
      " 5   km                           1000 non-null   int64  \n",
      " 6   transmission                 1000 non-null   object \n",
      " 7   fuel                         1000 non-null   object \n",
      " 8   body_type                    1000 non-null   object \n",
      " 9   warranty                     432 non-null    object \n",
      " 10  from_                        1000 non-null   object \n",
      " 11  wheel_drive                  963 non-null    object \n",
      " 12  cylinder_number              940 non-null    float64\n",
      " 13  torque_nm                    909 non-null    float64\n",
      " 14  engine_capacity_cc           959 non-null    object \n",
      " 15  engine_power_hp              960 non-null    object \n",
      " 16  max_power_rpm                780 non-null    float64\n",
      " 17  min_power_rpm                779 non-null    float64\n",
      " 18  acceleration_0to100_sec      877 non-null    object \n",
      " 19  max_speed_kmh                894 non-null    float64\n",
      " 20  average_fuel_consumption_lt  843 non-null    object \n",
      " 21  painted_changed              1000 non-null   object \n",
      "dtypes: float64(5), int64(1), object(16)\n",
      "memory usage: 172.0+ KB\n"
     ]
    }
   ],
   "source": [
    "test.info()"
   ]
  },
  {
   "cell_type": "code",
   "execution_count": 5,
   "id": "7c9dbf7e",
   "metadata": {},
   "outputs": [
    {
     "data": {
      "text/html": [
       "<div>\n",
       "<style scoped>\n",
       "    .dataframe tbody tr th:only-of-type {\n",
       "        vertical-align: middle;\n",
       "    }\n",
       "\n",
       "    .dataframe tbody tr th {\n",
       "        vertical-align: top;\n",
       "    }\n",
       "\n",
       "    .dataframe thead th {\n",
       "        text-align: right;\n",
       "    }\n",
       "</style>\n",
       "<table border=\"1\" class=\"dataframe\">\n",
       "  <thead>\n",
       "    <tr style=\"text-align: right;\">\n",
       "      <th></th>\n",
       "      <th>km</th>\n",
       "      <th>cylinder_number</th>\n",
       "      <th>torque_nm</th>\n",
       "      <th>max_power_rpm</th>\n",
       "      <th>min_power_rpm</th>\n",
       "      <th>max_speed_kmh</th>\n",
       "    </tr>\n",
       "  </thead>\n",
       "  <tbody>\n",
       "    <tr>\n",
       "      <th>km</th>\n",
       "      <td>1.000000</td>\n",
       "      <td>0.224270</td>\n",
       "      <td>-0.087530</td>\n",
       "      <td>-0.096588</td>\n",
       "      <td>0.019074</td>\n",
       "      <td>-0.105328</td>\n",
       "    </tr>\n",
       "    <tr>\n",
       "      <th>cylinder_number</th>\n",
       "      <td>0.224270</td>\n",
       "      <td>1.000000</td>\n",
       "      <td>0.093488</td>\n",
       "      <td>0.002446</td>\n",
       "      <td>0.121459</td>\n",
       "      <td>0.186259</td>\n",
       "    </tr>\n",
       "    <tr>\n",
       "      <th>torque_nm</th>\n",
       "      <td>-0.087530</td>\n",
       "      <td>0.093488</td>\n",
       "      <td>1.000000</td>\n",
       "      <td>-0.656052</td>\n",
       "      <td>-0.613216</td>\n",
       "      <td>0.578021</td>\n",
       "    </tr>\n",
       "    <tr>\n",
       "      <th>max_power_rpm</th>\n",
       "      <td>-0.096588</td>\n",
       "      <td>0.002446</td>\n",
       "      <td>-0.656052</td>\n",
       "      <td>1.000000</td>\n",
       "      <td>0.807318</td>\n",
       "      <td>0.064156</td>\n",
       "    </tr>\n",
       "    <tr>\n",
       "      <th>min_power_rpm</th>\n",
       "      <td>0.019074</td>\n",
       "      <td>0.121459</td>\n",
       "      <td>-0.613216</td>\n",
       "      <td>0.807318</td>\n",
       "      <td>1.000000</td>\n",
       "      <td>-0.039689</td>\n",
       "    </tr>\n",
       "    <tr>\n",
       "      <th>max_speed_kmh</th>\n",
       "      <td>-0.105328</td>\n",
       "      <td>0.186259</td>\n",
       "      <td>0.578021</td>\n",
       "      <td>0.064156</td>\n",
       "      <td>-0.039689</td>\n",
       "      <td>1.000000</td>\n",
       "    </tr>\n",
       "  </tbody>\n",
       "</table>\n",
       "</div>"
      ],
      "text/plain": [
       "                       km  cylinder_number  torque_nm  max_power_rpm  \\\n",
       "km               1.000000         0.224270  -0.087530      -0.096588   \n",
       "cylinder_number  0.224270         1.000000   0.093488       0.002446   \n",
       "torque_nm       -0.087530         0.093488   1.000000      -0.656052   \n",
       "max_power_rpm   -0.096588         0.002446  -0.656052       1.000000   \n",
       "min_power_rpm    0.019074         0.121459  -0.613216       0.807318   \n",
       "max_speed_kmh   -0.105328         0.186259   0.578021       0.064156   \n",
       "\n",
       "                 min_power_rpm  max_speed_kmh  \n",
       "km                    0.019074      -0.105328  \n",
       "cylinder_number       0.121459       0.186259  \n",
       "torque_nm            -0.613216       0.578021  \n",
       "max_power_rpm         0.807318       0.064156  \n",
       "min_power_rpm         1.000000      -0.039689  \n",
       "max_speed_kmh        -0.039689       1.000000  "
      ]
     },
     "execution_count": 5,
     "metadata": {},
     "output_type": "execute_result"
    }
   ],
   "source": [
    "test.corr()"
   ]
  },
  {
   "cell_type": "code",
   "execution_count": 6,
   "id": "95dca1f7",
   "metadata": {},
   "outputs": [
    {
     "data": {
      "image/png": "[encoded data removed]",
      "text/plain": [
       "<Figure size 800x600 with 2 Axes>"
      ]
     },
     "metadata": {},
     "output_type": "display_data"
    }
   ],
   "source": [
    "plt.figure(figsize=[8,6])\n",
    "sns.heatmap(test.corr(), cmap=\"seismic\", annot=True, vmin=-1, vmax=1);"
   ]
  },
  {
   "cell_type": "markdown",
   "id": "5fb4f6cf",
   "metadata": {},
   "source": [
    "# -------------------------------------------------------------------------------------------\n",
    "# -------------------------------------------------------------------------------------------"
   ]
  },
  {
   "cell_type": "code",
   "execution_count": 7,
   "id": "0d0f219d",
   "metadata": {},
   "outputs": [
    {
     "data": {
      "text/plain": [
       "array(['1596', '1461', '1199', nan, '1399', '1560', '1580', '1997',\n",
       "       '1598', '1390', '1364', '1587', '1595', '1798', '1242', '1332',\n",
       "       '1499', '1581', '1248', '1493', '1582', '1398', '1498', '1397',\n",
       "       '1360', '1197', '1396', '1599', '1149', '898', '1368', '1372',\n",
       "       '1339', '1395', '1201 - 1400 cm3', '1500', '1781', '1342', '1229',\n",
       "       '1388', '1495', '1896', '999', '1490', '1422', '1198', '1991',\n",
       "       '1796', '1721', '998', '1895', '1995', '1496', '1591', '1405',\n",
       "       '2001 - 2500 cm3', '1489', '1289', '1998', '1968', '1586', '1400',\n",
       "       '1297', '1298', '1597', '1300', '1341', '1488', '1401 - 1600 cm3',\n",
       "       '2171', '2498', '1497', '1698', '1329', '2148', '1590',\n",
       "       \"1200 cm3' e kadar\", '2494', '1588', '1801 - 2000 cm3',\n",
       "       '1601 - 1800 cm3', '1239', '-', '1592', '1108', '1769', '1999',\n",
       "       '1686', '1462', '1240', '1600'], dtype=object)"
      ]
     },
     "execution_count": 7,
     "metadata": {},
     "output_type": "execute_result"
    }
   ],
   "source": [
    "test['engine_capacity_cc'].unique()"
   ]
  },
  {
   "cell_type": "code",
   "execution_count": 8,
   "id": "452781b8",
   "metadata": {},
   "outputs": [],
   "source": [
    "test['engine_capacity_cc'] = test['engine_capacity_cc'].str.extract('(\\d+)')"
   ]
  },
  {
   "cell_type": "code",
   "execution_count": 9,
   "id": "f9e3616b",
   "metadata": {},
   "outputs": [
    {
     "data": {
      "text/html": [
       "<div>\n",
       "<style scoped>\n",
       "    .dataframe tbody tr th:only-of-type {\n",
       "        vertical-align: middle;\n",
       "    }\n",
       "\n",
       "    .dataframe tbody tr th {\n",
       "        vertical-align: top;\n",
       "    }\n",
       "\n",
       "    .dataframe thead th {\n",
       "        text-align: right;\n",
       "    }\n",
       "</style>\n",
       "<table border=\"1\" class=\"dataframe\">\n",
       "  <thead>\n",
       "    <tr style=\"text-align: right;\">\n",
       "      <th></th>\n",
       "      <th>price_try</th>\n",
       "      <th>make</th>\n",
       "      <th>series</th>\n",
       "      <th>model</th>\n",
       "      <th>year</th>\n",
       "      <th>km</th>\n",
       "      <th>transmission</th>\n",
       "      <th>fuel</th>\n",
       "      <th>body_type</th>\n",
       "      <th>warranty</th>\n",
       "      <th>...</th>\n",
       "      <th>cylinder_number</th>\n",
       "      <th>torque_nm</th>\n",
       "      <th>engine_capacity_cc</th>\n",
       "      <th>engine_power_hp</th>\n",
       "      <th>max_power_rpm</th>\n",
       "      <th>min_power_rpm</th>\n",
       "      <th>acceleration_0to100_sec</th>\n",
       "      <th>max_speed_kmh</th>\n",
       "      <th>average_fuel_consumption_lt</th>\n",
       "      <th>painted_changed</th>\n",
       "    </tr>\n",
       "  </thead>\n",
       "  <tbody>\n",
       "    <tr>\n",
       "      <th>4</th>\n",
       "      <td>115000</td>\n",
       "      <td>Skoda</td>\n",
       "      <td>Favorit</td>\n",
       "      <td>1.3 LX</td>\n",
       "      <td>1993</td>\n",
       "      <td>217000</td>\n",
       "      <td>Düz</td>\n",
       "      <td>LPG &amp; Benzin</td>\n",
       "      <td>Hatchback/5</td>\n",
       "      <td>NaN</td>\n",
       "      <td>...</td>\n",
       "      <td>NaN</td>\n",
       "      <td>NaN</td>\n",
       "      <td>NaN</td>\n",
       "      <td>NaN</td>\n",
       "      <td>NaN</td>\n",
       "      <td>NaN</td>\n",
       "      <td>NaN</td>\n",
       "      <td>NaN</td>\n",
       "      <td>NaN</td>\n",
       "      <td>Belirtilmemiş</td>\n",
       "    </tr>\n",
       "    <tr>\n",
       "      <th>25</th>\n",
       "      <td>470000</td>\n",
       "      <td>Nissan</td>\n",
       "      <td>Note</td>\n",
       "      <td>1.5 dCi Tekna</td>\n",
       "      <td>2008</td>\n",
       "      <td>198000</td>\n",
       "      <td>Düz</td>\n",
       "      <td>Dizel</td>\n",
       "      <td>MPV</td>\n",
       "      <td>NaN</td>\n",
       "      <td>...</td>\n",
       "      <td>NaN</td>\n",
       "      <td>NaN</td>\n",
       "      <td>NaN</td>\n",
       "      <td>101 - 125 HP</td>\n",
       "      <td>NaN</td>\n",
       "      <td>NaN</td>\n",
       "      <td>NaN</td>\n",
       "      <td>NaN</td>\n",
       "      <td>NaN</td>\n",
       "      <td>Belirtilmemiş</td>\n",
       "    </tr>\n",
       "    <tr>\n",
       "      <th>36</th>\n",
       "      <td>260000</td>\n",
       "      <td>Mitsubishi</td>\n",
       "      <td>Carisma</td>\n",
       "      <td>1.8 GLS</td>\n",
       "      <td>2000</td>\n",
       "      <td>246000</td>\n",
       "      <td>Düz</td>\n",
       "      <td>Benzin</td>\n",
       "      <td>Hatchback/3</td>\n",
       "      <td>NaN</td>\n",
       "      <td>...</td>\n",
       "      <td>NaN</td>\n",
       "      <td>NaN</td>\n",
       "      <td>NaN</td>\n",
       "      <td>NaN</td>\n",
       "      <td>NaN</td>\n",
       "      <td>NaN</td>\n",
       "      <td>NaN</td>\n",
       "      <td>NaN</td>\n",
       "      <td>NaN</td>\n",
       "      <td>Belirtilmemiş</td>\n",
       "    </tr>\n",
       "    <tr>\n",
       "      <th>136</th>\n",
       "      <td>355000</td>\n",
       "      <td>Fiat</td>\n",
       "      <td>Albea</td>\n",
       "      <td>1.3 Multijet Dynamic</td>\n",
       "      <td>2005</td>\n",
       "      <td>290000</td>\n",
       "      <td>Düz</td>\n",
       "      <td>Dizel</td>\n",
       "      <td>Sedan</td>\n",
       "      <td>NaN</td>\n",
       "      <td>...</td>\n",
       "      <td>NaN</td>\n",
       "      <td>NaN</td>\n",
       "      <td>NaN</td>\n",
       "      <td>NaN</td>\n",
       "      <td>NaN</td>\n",
       "      <td>NaN</td>\n",
       "      <td>NaN</td>\n",
       "      <td>NaN</td>\n",
       "      <td>NaN</td>\n",
       "      <td>Belirtilmemiş</td>\n",
       "    </tr>\n",
       "    <tr>\n",
       "      <th>223</th>\n",
       "      <td>215000</td>\n",
       "      <td>Hyundai</td>\n",
       "      <td>Accent</td>\n",
       "      <td>1.3 LS</td>\n",
       "      <td>1998</td>\n",
       "      <td>303000</td>\n",
       "      <td>Düz</td>\n",
       "      <td>LPG &amp; Benzin</td>\n",
       "      <td>Sedan</td>\n",
       "      <td>NaN</td>\n",
       "      <td>...</td>\n",
       "      <td>NaN</td>\n",
       "      <td>NaN</td>\n",
       "      <td>NaN</td>\n",
       "      <td>NaN</td>\n",
       "      <td>NaN</td>\n",
       "      <td>NaN</td>\n",
       "      <td>NaN</td>\n",
       "      <td>NaN</td>\n",
       "      <td>NaN</td>\n",
       "      <td>2 değişen</td>\n",
       "    </tr>\n",
       "    <tr>\n",
       "      <th>238</th>\n",
       "      <td>960000</td>\n",
       "      <td>Skoda</td>\n",
       "      <td>Octavia</td>\n",
       "      <td>1.6 TDI Optimal</td>\n",
       "      <td>2014</td>\n",
       "      <td>156000</td>\n",
       "      <td>Otomatik</td>\n",
       "      <td>Dizel</td>\n",
       "      <td>Sedan</td>\n",
       "      <td>NaN</td>\n",
       "      <td>...</td>\n",
       "      <td>NaN</td>\n",
       "      <td>NaN</td>\n",
       "      <td>NaN</td>\n",
       "      <td>NaN</td>\n",
       "      <td>NaN</td>\n",
       "      <td>NaN</td>\n",
       "      <td>NaN</td>\n",
       "      <td>NaN</td>\n",
       "      <td>NaN</td>\n",
       "      <td>2 boyalı</td>\n",
       "    </tr>\n",
       "    <tr>\n",
       "      <th>254</th>\n",
       "      <td>699000</td>\n",
       "      <td>Dacia</td>\n",
       "      <td>Sandero</td>\n",
       "      <td>0.9 TCe Stepway</td>\n",
       "      <td>2016</td>\n",
       "      <td>52000</td>\n",
       "      <td>Yarı Otomatik</td>\n",
       "      <td>Benzin</td>\n",
       "      <td>Hatchback/5</td>\n",
       "      <td>NaN</td>\n",
       "      <td>...</td>\n",
       "      <td>NaN</td>\n",
       "      <td>NaN</td>\n",
       "      <td>NaN</td>\n",
       "      <td>NaN</td>\n",
       "      <td>NaN</td>\n",
       "      <td>NaN</td>\n",
       "      <td>NaN</td>\n",
       "      <td>NaN</td>\n",
       "      <td>NaN</td>\n",
       "      <td>1 boyalı</td>\n",
       "    </tr>\n",
       "    <tr>\n",
       "      <th>255</th>\n",
       "      <td>175000</td>\n",
       "      <td>Tofaş</td>\n",
       "      <td>Şahin</td>\n",
       "      <td>1.4</td>\n",
       "      <td>1999</td>\n",
       "      <td>150000</td>\n",
       "      <td>Düz</td>\n",
       "      <td>LPG &amp; Benzin</td>\n",
       "      <td>Sedan</td>\n",
       "      <td>NaN</td>\n",
       "      <td>...</td>\n",
       "      <td>NaN</td>\n",
       "      <td>NaN</td>\n",
       "      <td>NaN</td>\n",
       "      <td>NaN</td>\n",
       "      <td>NaN</td>\n",
       "      <td>NaN</td>\n",
       "      <td>NaN</td>\n",
       "      <td>NaN</td>\n",
       "      <td>NaN</td>\n",
       "      <td>1 değişen, 1 boyalı</td>\n",
       "    </tr>\n",
       "    <tr>\n",
       "      <th>292</th>\n",
       "      <td>300000</td>\n",
       "      <td>Mercedes - Benz</td>\n",
       "      <td>300</td>\n",
       "      <td>D</td>\n",
       "      <td>1986</td>\n",
       "      <td>360000</td>\n",
       "      <td>Düz</td>\n",
       "      <td>Benzin</td>\n",
       "      <td>Hatchback/5</td>\n",
       "      <td>NaN</td>\n",
       "      <td>...</td>\n",
       "      <td>NaN</td>\n",
       "      <td>NaN</td>\n",
       "      <td>NaN</td>\n",
       "      <td>NaN</td>\n",
       "      <td>NaN</td>\n",
       "      <td>NaN</td>\n",
       "      <td>NaN</td>\n",
       "      <td>NaN</td>\n",
       "      <td>NaN</td>\n",
       "      <td>Belirtilmemiş</td>\n",
       "    </tr>\n",
       "    <tr>\n",
       "      <th>336</th>\n",
       "      <td>349000</td>\n",
       "      <td>Toyota</td>\n",
       "      <td>Corolla</td>\n",
       "      <td>1.6 GLi</td>\n",
       "      <td>1996</td>\n",
       "      <td>359047</td>\n",
       "      <td>Düz</td>\n",
       "      <td>LPG &amp; Benzin</td>\n",
       "      <td>Sedan</td>\n",
       "      <td>NaN</td>\n",
       "      <td>...</td>\n",
       "      <td>NaN</td>\n",
       "      <td>NaN</td>\n",
       "      <td>NaN</td>\n",
       "      <td>NaN</td>\n",
       "      <td>NaN</td>\n",
       "      <td>NaN</td>\n",
       "      <td>NaN</td>\n",
       "      <td>NaN</td>\n",
       "      <td>NaN</td>\n",
       "      <td>1 değişen, 3 boyalı</td>\n",
       "    </tr>\n",
       "    <tr>\n",
       "      <th>342</th>\n",
       "      <td>375000</td>\n",
       "      <td>Opel</td>\n",
       "      <td>Corsa</td>\n",
       "      <td>1.4 100.Yıl</td>\n",
       "      <td>Yıl\\n2000</td>\n",
       "      <td>193500</td>\n",
       "      <td>Otomatik</td>\n",
       "      <td>LPG &amp; Benzin</td>\n",
       "      <td>Hatchback/5</td>\n",
       "      <td>NaN</td>\n",
       "      <td>...</td>\n",
       "      <td>NaN</td>\n",
       "      <td>NaN</td>\n",
       "      <td>NaN</td>\n",
       "      <td>NaN</td>\n",
       "      <td>NaN</td>\n",
       "      <td>NaN</td>\n",
       "      <td>NaN</td>\n",
       "      <td>NaN</td>\n",
       "      <td>NaN</td>\n",
       "      <td>Belirtilmemiş</td>\n",
       "    </tr>\n",
       "    <tr>\n",
       "      <th>360</th>\n",
       "      <td>730000</td>\n",
       "      <td>Hyundai</td>\n",
       "      <td>Accent Blue</td>\n",
       "      <td>1.6 CRDI Mode Plus</td>\n",
       "      <td>2016</td>\n",
       "      <td>141000</td>\n",
       "      <td>Yarı Otomatik</td>\n",
       "      <td>Dizel</td>\n",
       "      <td>Sedan</td>\n",
       "      <td>NaN</td>\n",
       "      <td>...</td>\n",
       "      <td>NaN</td>\n",
       "      <td>NaN</td>\n",
       "      <td>NaN</td>\n",
       "      <td>NaN</td>\n",
       "      <td>NaN</td>\n",
       "      <td>NaN</td>\n",
       "      <td>NaN</td>\n",
       "      <td>NaN</td>\n",
       "      <td>NaN</td>\n",
       "      <td>6 boyalı</td>\n",
       "    </tr>\n",
       "    <tr>\n",
       "      <th>382</th>\n",
       "      <td>420000</td>\n",
       "      <td>Dacia</td>\n",
       "      <td>Lodgy</td>\n",
       "      <td>1.5 dCi Laureate</td>\n",
       "      <td>2015</td>\n",
       "      <td>290000</td>\n",
       "      <td>Düz</td>\n",
       "      <td>Dizel</td>\n",
       "      <td>Hatchback/5</td>\n",
       "      <td>NaN</td>\n",
       "      <td>...</td>\n",
       "      <td>NaN</td>\n",
       "      <td>NaN</td>\n",
       "      <td>NaN</td>\n",
       "      <td>NaN</td>\n",
       "      <td>NaN</td>\n",
       "      <td>NaN</td>\n",
       "      <td>NaN</td>\n",
       "      <td>NaN</td>\n",
       "      <td>NaN</td>\n",
       "      <td>1 değişen, 12 boyalı</td>\n",
       "    </tr>\n",
       "    <tr>\n",
       "      <th>411</th>\n",
       "      <td>920000</td>\n",
       "      <td>Volvo</td>\n",
       "      <td>S60</td>\n",
       "      <td>1.6 D Premium</td>\n",
       "      <td>2015</td>\n",
       "      <td>170000</td>\n",
       "      <td>Otomatik</td>\n",
       "      <td>Dizel</td>\n",
       "      <td>Sedan</td>\n",
       "      <td>NaN</td>\n",
       "      <td>...</td>\n",
       "      <td>NaN</td>\n",
       "      <td>NaN</td>\n",
       "      <td>NaN</td>\n",
       "      <td>126 - 150 HP</td>\n",
       "      <td>NaN</td>\n",
       "      <td>NaN</td>\n",
       "      <td>NaN</td>\n",
       "      <td>NaN</td>\n",
       "      <td>NaN</td>\n",
       "      <td>1 boyalı</td>\n",
       "    </tr>\n",
       "    <tr>\n",
       "      <th>415</th>\n",
       "      <td>858500</td>\n",
       "      <td>Toyota</td>\n",
       "      <td>Corolla</td>\n",
       "      <td>1.4 D-4D Advance</td>\n",
       "      <td>2017</td>\n",
       "      <td>236700</td>\n",
       "      <td>Otomatik</td>\n",
       "      <td>Dizel</td>\n",
       "      <td>Sedan</td>\n",
       "      <td>NaN</td>\n",
       "      <td>...</td>\n",
       "      <td>NaN</td>\n",
       "      <td>NaN</td>\n",
       "      <td>NaN</td>\n",
       "      <td>NaN</td>\n",
       "      <td>NaN</td>\n",
       "      <td>NaN</td>\n",
       "      <td>NaN</td>\n",
       "      <td>NaN</td>\n",
       "      <td>NaN</td>\n",
       "      <td>Belirtilmemiş</td>\n",
       "    </tr>\n",
       "    <tr>\n",
       "      <th>440</th>\n",
       "      <td>585000</td>\n",
       "      <td>Opel</td>\n",
       "      <td>Astra</td>\n",
       "      <td>1.3 CDTI Enjoy Plus</td>\n",
       "      <td>2011</td>\n",
       "      <td>231000</td>\n",
       "      <td>Düz</td>\n",
       "      <td>Dizel</td>\n",
       "      <td>Hatchback/5</td>\n",
       "      <td>NaN</td>\n",
       "      <td>...</td>\n",
       "      <td>NaN</td>\n",
       "      <td>NaN</td>\n",
       "      <td>NaN</td>\n",
       "      <td>NaN</td>\n",
       "      <td>NaN</td>\n",
       "      <td>NaN</td>\n",
       "      <td>NaN</td>\n",
       "      <td>NaN</td>\n",
       "      <td>NaN</td>\n",
       "      <td>Belirtilmemiş</td>\n",
       "    </tr>\n",
       "    <tr>\n",
       "      <th>442</th>\n",
       "      <td>180000</td>\n",
       "      <td>Renault</td>\n",
       "      <td>R 9</td>\n",
       "      <td>1.4 Broadway RN</td>\n",
       "      <td>1998</td>\n",
       "      <td>132000</td>\n",
       "      <td>Düz</td>\n",
       "      <td>LPG &amp; Benzin</td>\n",
       "      <td>Sedan</td>\n",
       "      <td>NaN</td>\n",
       "      <td>...</td>\n",
       "      <td>NaN</td>\n",
       "      <td>NaN</td>\n",
       "      <td>NaN</td>\n",
       "      <td>NaN</td>\n",
       "      <td>NaN</td>\n",
       "      <td>NaN</td>\n",
       "      <td>NaN</td>\n",
       "      <td>NaN</td>\n",
       "      <td>NaN</td>\n",
       "      <td>Tamamı boyalı</td>\n",
       "    </tr>\n",
       "    <tr>\n",
       "      <th>482</th>\n",
       "      <td>1050000</td>\n",
       "      <td>Opel</td>\n",
       "      <td>Corsa</td>\n",
       "      <td>1.2 Turbo Dynamic</td>\n",
       "      <td>2021</td>\n",
       "      <td>6000</td>\n",
       "      <td>Yarı Otomatik</td>\n",
       "      <td>Benzin</td>\n",
       "      <td>Hatchback/5</td>\n",
       "      <td>NaN</td>\n",
       "      <td>...</td>\n",
       "      <td>NaN</td>\n",
       "      <td>NaN</td>\n",
       "      <td>NaN</td>\n",
       "      <td>NaN</td>\n",
       "      <td>NaN</td>\n",
       "      <td>NaN</td>\n",
       "      <td>NaN</td>\n",
       "      <td>NaN</td>\n",
       "      <td>NaN</td>\n",
       "      <td>Belirtilmemiş</td>\n",
       "    </tr>\n",
       "    <tr>\n",
       "      <th>490</th>\n",
       "      <td>770000</td>\n",
       "      <td>Fiat</td>\n",
       "      <td>Egea</td>\n",
       "      <td>1.4 Fire Urban</td>\n",
       "      <td>2023</td>\n",
       "      <td>6008</td>\n",
       "      <td>Düz</td>\n",
       "      <td>Benzin</td>\n",
       "      <td>Sedan</td>\n",
       "      <td>Garantisi Var</td>\n",
       "      <td>...</td>\n",
       "      <td>NaN</td>\n",
       "      <td>NaN</td>\n",
       "      <td>NaN</td>\n",
       "      <td>NaN</td>\n",
       "      <td>NaN</td>\n",
       "      <td>NaN</td>\n",
       "      <td>NaN</td>\n",
       "      <td>NaN</td>\n",
       "      <td>NaN</td>\n",
       "      <td>Tamamı orjinal</td>\n",
       "    </tr>\n",
       "    <tr>\n",
       "      <th>524</th>\n",
       "      <td>330000</td>\n",
       "      <td>Renault</td>\n",
       "      <td>Clio</td>\n",
       "      <td>1.5 dCi Authentique</td>\n",
       "      <td>2003</td>\n",
       "      <td>277600</td>\n",
       "      <td>Düz</td>\n",
       "      <td>Dizel</td>\n",
       "      <td>Sedan</td>\n",
       "      <td>NaN</td>\n",
       "      <td>...</td>\n",
       "      <td>NaN</td>\n",
       "      <td>NaN</td>\n",
       "      <td>NaN</td>\n",
       "      <td>NaN</td>\n",
       "      <td>NaN</td>\n",
       "      <td>NaN</td>\n",
       "      <td>NaN</td>\n",
       "      <td>NaN</td>\n",
       "      <td>NaN</td>\n",
       "      <td>Belirtilmemiş</td>\n",
       "    </tr>\n",
       "    <tr>\n",
       "      <th>560</th>\n",
       "      <td>520000</td>\n",
       "      <td>Seat</td>\n",
       "      <td>Ibiza</td>\n",
       "      <td>1.4 Copa</td>\n",
       "      <td>2012</td>\n",
       "      <td>227000</td>\n",
       "      <td>Düz</td>\n",
       "      <td>LPG &amp; Benzin</td>\n",
       "      <td>Hatchback/5</td>\n",
       "      <td>NaN</td>\n",
       "      <td>...</td>\n",
       "      <td>NaN</td>\n",
       "      <td>NaN</td>\n",
       "      <td>NaN</td>\n",
       "      <td>NaN</td>\n",
       "      <td>NaN</td>\n",
       "      <td>NaN</td>\n",
       "      <td>NaN</td>\n",
       "      <td>NaN</td>\n",
       "      <td>NaN</td>\n",
       "      <td>Tamamı orjinal</td>\n",
       "    </tr>\n",
       "    <tr>\n",
       "      <th>604</th>\n",
       "      <td>90000</td>\n",
       "      <td>Tofaş</td>\n",
       "      <td>Şahin</td>\n",
       "      <td>1.6</td>\n",
       "      <td>1984</td>\n",
       "      <td>999999</td>\n",
       "      <td>Düz</td>\n",
       "      <td>LPG &amp; Benzin</td>\n",
       "      <td>Sedan</td>\n",
       "      <td>NaN</td>\n",
       "      <td>...</td>\n",
       "      <td>NaN</td>\n",
       "      <td>NaN</td>\n",
       "      <td>NaN</td>\n",
       "      <td>NaN</td>\n",
       "      <td>NaN</td>\n",
       "      <td>NaN</td>\n",
       "      <td>NaN</td>\n",
       "      <td>NaN</td>\n",
       "      <td>NaN</td>\n",
       "      <td>Belirtilmemiş</td>\n",
       "    </tr>\n",
       "    <tr>\n",
       "      <th>610</th>\n",
       "      <td>535000</td>\n",
       "      <td>Citroen</td>\n",
       "      <td>C-Elysee</td>\n",
       "      <td>1.6 HDi Live</td>\n",
       "      <td>2017</td>\n",
       "      <td>168352</td>\n",
       "      <td>Düz</td>\n",
       "      <td>Dizel</td>\n",
       "      <td>Sedan</td>\n",
       "      <td>NaN</td>\n",
       "      <td>...</td>\n",
       "      <td>NaN</td>\n",
       "      <td>NaN</td>\n",
       "      <td>NaN</td>\n",
       "      <td>NaN</td>\n",
       "      <td>NaN</td>\n",
       "      <td>NaN</td>\n",
       "      <td>NaN</td>\n",
       "      <td>NaN</td>\n",
       "      <td>NaN</td>\n",
       "      <td>2 değişen, 4 boyalı</td>\n",
       "    </tr>\n",
       "    <tr>\n",
       "      <th>620</th>\n",
       "      <td>1580000</td>\n",
       "      <td>Volkswagen</td>\n",
       "      <td>Passat</td>\n",
       "      <td>1.6 TDi BlueMotion Impression</td>\n",
       "      <td>2019</td>\n",
       "      <td>84200</td>\n",
       "      <td>Otomatik</td>\n",
       "      <td>Dizel</td>\n",
       "      <td>Sedan</td>\n",
       "      <td>Garantisi Yok</td>\n",
       "      <td>...</td>\n",
       "      <td>NaN</td>\n",
       "      <td>NaN</td>\n",
       "      <td>NaN</td>\n",
       "      <td>101 - 125 HP</td>\n",
       "      <td>NaN</td>\n",
       "      <td>NaN</td>\n",
       "      <td>NaN</td>\n",
       "      <td>NaN</td>\n",
       "      <td>NaN</td>\n",
       "      <td>Tamamı orjinal</td>\n",
       "    </tr>\n",
       "    <tr>\n",
       "      <th>640</th>\n",
       "      <td>600000</td>\n",
       "      <td>Toyota</td>\n",
       "      <td>Auris</td>\n",
       "      <td>1.6 Class</td>\n",
       "      <td>2007</td>\n",
       "      <td>220000</td>\n",
       "      <td>Düz</td>\n",
       "      <td>LPG &amp; Benzin</td>\n",
       "      <td>Hatchback/5</td>\n",
       "      <td>NaN</td>\n",
       "      <td>...</td>\n",
       "      <td>NaN</td>\n",
       "      <td>NaN</td>\n",
       "      <td>NaN</td>\n",
       "      <td>NaN</td>\n",
       "      <td>NaN</td>\n",
       "      <td>NaN</td>\n",
       "      <td>NaN</td>\n",
       "      <td>NaN</td>\n",
       "      <td>NaN</td>\n",
       "      <td>1 değişen, 2 boyalı</td>\n",
       "    </tr>\n",
       "    <tr>\n",
       "      <th>689</th>\n",
       "      <td>145000</td>\n",
       "      <td>Toyota</td>\n",
       "      <td>Corona</td>\n",
       "      <td>2.0 XL</td>\n",
       "      <td>1991</td>\n",
       "      <td>252716</td>\n",
       "      <td>Düz</td>\n",
       "      <td>LPG &amp; Benzin</td>\n",
       "      <td>Sedan</td>\n",
       "      <td>NaN</td>\n",
       "      <td>...</td>\n",
       "      <td>NaN</td>\n",
       "      <td>NaN</td>\n",
       "      <td>NaN</td>\n",
       "      <td>NaN</td>\n",
       "      <td>NaN</td>\n",
       "      <td>NaN</td>\n",
       "      <td>NaN</td>\n",
       "      <td>NaN</td>\n",
       "      <td>NaN</td>\n",
       "      <td>Belirtilmemiş</td>\n",
       "    </tr>\n",
       "    <tr>\n",
       "      <th>705</th>\n",
       "      <td>2250000</td>\n",
       "      <td>BMW</td>\n",
       "      <td>3 Serisi</td>\n",
       "      <td>320i</td>\n",
       "      <td>2019</td>\n",
       "      <td>77200</td>\n",
       "      <td>Otomatik</td>\n",
       "      <td>Benzin</td>\n",
       "      <td>Sedan</td>\n",
       "      <td>NaN</td>\n",
       "      <td>...</td>\n",
       "      <td>NaN</td>\n",
       "      <td>NaN</td>\n",
       "      <td>NaN</td>\n",
       "      <td>NaN</td>\n",
       "      <td>NaN</td>\n",
       "      <td>NaN</td>\n",
       "      <td>NaN</td>\n",
       "      <td>NaN</td>\n",
       "      <td>NaN</td>\n",
       "      <td>Tamamı orjinal</td>\n",
       "    </tr>\n",
       "    <tr>\n",
       "      <th>710</th>\n",
       "      <td>240000</td>\n",
       "      <td>Toyota</td>\n",
       "      <td>Corolla</td>\n",
       "      <td>1.3 XL</td>\n",
       "      <td>1993</td>\n",
       "      <td>320000</td>\n",
       "      <td>Düz</td>\n",
       "      <td>LPG &amp; Benzin</td>\n",
       "      <td>Sedan</td>\n",
       "      <td>Garantisi Yok</td>\n",
       "      <td>...</td>\n",
       "      <td>NaN</td>\n",
       "      <td>NaN</td>\n",
       "      <td>NaN</td>\n",
       "      <td>NaN</td>\n",
       "      <td>NaN</td>\n",
       "      <td>NaN</td>\n",
       "      <td>NaN</td>\n",
       "      <td>NaN</td>\n",
       "      <td>NaN</td>\n",
       "      <td>Belirtilmemiş</td>\n",
       "    </tr>\n",
       "    <tr>\n",
       "      <th>725</th>\n",
       "      <td>290000</td>\n",
       "      <td>Fiat</td>\n",
       "      <td>Albea</td>\n",
       "      <td>Sole 1.3 Multijet Active</td>\n",
       "      <td>2012</td>\n",
       "      <td>206300</td>\n",
       "      <td>Düz</td>\n",
       "      <td>Dizel</td>\n",
       "      <td>Sedan</td>\n",
       "      <td>NaN</td>\n",
       "      <td>...</td>\n",
       "      <td>NaN</td>\n",
       "      <td>NaN</td>\n",
       "      <td>NaN</td>\n",
       "      <td>NaN</td>\n",
       "      <td>NaN</td>\n",
       "      <td>NaN</td>\n",
       "      <td>NaN</td>\n",
       "      <td>NaN</td>\n",
       "      <td>NaN</td>\n",
       "      <td>Belirtilmemiş</td>\n",
       "    </tr>\n",
       "    <tr>\n",
       "      <th>776</th>\n",
       "      <td>145000</td>\n",
       "      <td>Renault</td>\n",
       "      <td>R 9</td>\n",
       "      <td>1.4 Broadway</td>\n",
       "      <td>1994</td>\n",
       "      <td>3821</td>\n",
       "      <td>Düz</td>\n",
       "      <td>LPG &amp; Benzin</td>\n",
       "      <td>Sedan</td>\n",
       "      <td>Garantisi Var</td>\n",
       "      <td>...</td>\n",
       "      <td>NaN</td>\n",
       "      <td>NaN</td>\n",
       "      <td>NaN</td>\n",
       "      <td>76 - 100 HP</td>\n",
       "      <td>NaN</td>\n",
       "      <td>NaN</td>\n",
       "      <td>NaN</td>\n",
       "      <td>NaN</td>\n",
       "      <td>NaN</td>\n",
       "      <td>Belirtilmemiş</td>\n",
       "    </tr>\n",
       "    <tr>\n",
       "      <th>777</th>\n",
       "      <td>2150000</td>\n",
       "      <td>Audi</td>\n",
       "      <td>A5</td>\n",
       "      <td>A5 Sportback 1.4 TFSI</td>\n",
       "      <td>2017</td>\n",
       "      <td>41000</td>\n",
       "      <td>Otomatik</td>\n",
       "      <td>Benzin</td>\n",
       "      <td>Sedan</td>\n",
       "      <td>NaN</td>\n",
       "      <td>...</td>\n",
       "      <td>NaN</td>\n",
       "      <td>NaN</td>\n",
       "      <td>NaN</td>\n",
       "      <td>NaN</td>\n",
       "      <td>NaN</td>\n",
       "      <td>NaN</td>\n",
       "      <td>NaN</td>\n",
       "      <td>NaN</td>\n",
       "      <td>NaN</td>\n",
       "      <td>Belirtilmemiş</td>\n",
       "    </tr>\n",
       "    <tr>\n",
       "      <th>788</th>\n",
       "      <td>265000</td>\n",
       "      <td>Renault</td>\n",
       "      <td>R 19</td>\n",
       "      <td>1.6 Europa RTE</td>\n",
       "      <td>1999</td>\n",
       "      <td>270000</td>\n",
       "      <td>Düz</td>\n",
       "      <td>LPG &amp; Benzin</td>\n",
       "      <td>Hatchback/5</td>\n",
       "      <td>-</td>\n",
       "      <td>...</td>\n",
       "      <td>NaN</td>\n",
       "      <td>NaN</td>\n",
       "      <td>NaN</td>\n",
       "      <td>-</td>\n",
       "      <td>NaN</td>\n",
       "      <td>NaN</td>\n",
       "      <td>NaN</td>\n",
       "      <td>NaN</td>\n",
       "      <td>NaN</td>\n",
       "      <td>1 değişen, 1 boyalı</td>\n",
       "    </tr>\n",
       "    <tr>\n",
       "      <th>792</th>\n",
       "      <td>605000</td>\n",
       "      <td>Renault</td>\n",
       "      <td>Fluence</td>\n",
       "      <td>1.5 dCi Joy</td>\n",
       "      <td>2013</td>\n",
       "      <td>180000</td>\n",
       "      <td>Düz</td>\n",
       "      <td>Dizel</td>\n",
       "      <td>Sedan</td>\n",
       "      <td>-</td>\n",
       "      <td>...</td>\n",
       "      <td>NaN</td>\n",
       "      <td>NaN</td>\n",
       "      <td>NaN</td>\n",
       "      <td>NaN</td>\n",
       "      <td>NaN</td>\n",
       "      <td>NaN</td>\n",
       "      <td>NaN</td>\n",
       "      <td>NaN</td>\n",
       "      <td>NaN</td>\n",
       "      <td>4 boyalı</td>\n",
       "    </tr>\n",
       "    <tr>\n",
       "      <th>854</th>\n",
       "      <td>718500</td>\n",
       "      <td>Fiat</td>\n",
       "      <td>Egea</td>\n",
       "      <td>1.3 Multijet Easy Stil</td>\n",
       "      <td>2018</td>\n",
       "      <td>79000</td>\n",
       "      <td>Düz</td>\n",
       "      <td>Dizel</td>\n",
       "      <td>Sedan</td>\n",
       "      <td>NaN</td>\n",
       "      <td>...</td>\n",
       "      <td>NaN</td>\n",
       "      <td>NaN</td>\n",
       "      <td>NaN</td>\n",
       "      <td>NaN</td>\n",
       "      <td>NaN</td>\n",
       "      <td>NaN</td>\n",
       "      <td>NaN</td>\n",
       "      <td>NaN</td>\n",
       "      <td>NaN</td>\n",
       "      <td>1 değişen</td>\n",
       "    </tr>\n",
       "    <tr>\n",
       "      <th>855</th>\n",
       "      <td>1100000</td>\n",
       "      <td>Renault</td>\n",
       "      <td>Megane</td>\n",
       "      <td>1.5 Blue DCI Joy Comfort</td>\n",
       "      <td>2023</td>\n",
       "      <td>6300</td>\n",
       "      <td>Düz</td>\n",
       "      <td>Dizel</td>\n",
       "      <td>Sedan</td>\n",
       "      <td>NaN</td>\n",
       "      <td>...</td>\n",
       "      <td>NaN</td>\n",
       "      <td>NaN</td>\n",
       "      <td>NaN</td>\n",
       "      <td>NaN</td>\n",
       "      <td>NaN</td>\n",
       "      <td>NaN</td>\n",
       "      <td>NaN</td>\n",
       "      <td>NaN</td>\n",
       "      <td>NaN</td>\n",
       "      <td>Tamamı orjinal</td>\n",
       "    </tr>\n",
       "    <tr>\n",
       "      <th>860</th>\n",
       "      <td>190000</td>\n",
       "      <td>Fiat</td>\n",
       "      <td>Tempra</td>\n",
       "      <td>1.6 SX A</td>\n",
       "      <td>1993</td>\n",
       "      <td>1</td>\n",
       "      <td>Düz</td>\n",
       "      <td>LPG &amp; Benzin</td>\n",
       "      <td>Sedan</td>\n",
       "      <td>NaN</td>\n",
       "      <td>...</td>\n",
       "      <td>NaN</td>\n",
       "      <td>NaN</td>\n",
       "      <td>NaN</td>\n",
       "      <td>NaN</td>\n",
       "      <td>NaN</td>\n",
       "      <td>NaN</td>\n",
       "      <td>NaN</td>\n",
       "      <td>NaN</td>\n",
       "      <td>NaN</td>\n",
       "      <td>Belirtilmemiş</td>\n",
       "    </tr>\n",
       "    <tr>\n",
       "      <th>865</th>\n",
       "      <td>290000</td>\n",
       "      <td>Hyundai</td>\n",
       "      <td>Accent Era</td>\n",
       "      <td>1.5 CRDi-VGT Select</td>\n",
       "      <td>2008</td>\n",
       "      <td>100000</td>\n",
       "      <td>Düz</td>\n",
       "      <td>Dizel</td>\n",
       "      <td>Cabrio</td>\n",
       "      <td>NaN</td>\n",
       "      <td>...</td>\n",
       "      <td>NaN</td>\n",
       "      <td>NaN</td>\n",
       "      <td>NaN</td>\n",
       "      <td>NaN</td>\n",
       "      <td>NaN</td>\n",
       "      <td>NaN</td>\n",
       "      <td>NaN</td>\n",
       "      <td>NaN</td>\n",
       "      <td>NaN</td>\n",
       "      <td>Belirtilmemiş</td>\n",
       "    </tr>\n",
       "    <tr>\n",
       "      <th>875</th>\n",
       "      <td>650000</td>\n",
       "      <td>Toyota</td>\n",
       "      <td>Corolla</td>\n",
       "      <td>1.4 D-4D Comfort Extra</td>\n",
       "      <td>2011</td>\n",
       "      <td>168000</td>\n",
       "      <td>Düz</td>\n",
       "      <td>Dizel</td>\n",
       "      <td>Sedan</td>\n",
       "      <td>NaN</td>\n",
       "      <td>...</td>\n",
       "      <td>NaN</td>\n",
       "      <td>NaN</td>\n",
       "      <td>NaN</td>\n",
       "      <td>NaN</td>\n",
       "      <td>NaN</td>\n",
       "      <td>NaN</td>\n",
       "      <td>NaN</td>\n",
       "      <td>NaN</td>\n",
       "      <td>NaN</td>\n",
       "      <td>Tamamı orjinal</td>\n",
       "    </tr>\n",
       "    <tr>\n",
       "      <th>903</th>\n",
       "      <td>149500</td>\n",
       "      <td>Tofaş</td>\n",
       "      <td>Şahin</td>\n",
       "      <td>1.4</td>\n",
       "      <td>1999</td>\n",
       "      <td>37250</td>\n",
       "      <td>Düz</td>\n",
       "      <td>LPG &amp; Benzin</td>\n",
       "      <td>Sedan</td>\n",
       "      <td>NaN</td>\n",
       "      <td>...</td>\n",
       "      <td>NaN</td>\n",
       "      <td>NaN</td>\n",
       "      <td>NaN</td>\n",
       "      <td>NaN</td>\n",
       "      <td>NaN</td>\n",
       "      <td>NaN</td>\n",
       "      <td>NaN</td>\n",
       "      <td>NaN</td>\n",
       "      <td>NaN</td>\n",
       "      <td>Belirtilmemiş</td>\n",
       "    </tr>\n",
       "    <tr>\n",
       "      <th>905</th>\n",
       "      <td>360000</td>\n",
       "      <td>Renault</td>\n",
       "      <td>Megane</td>\n",
       "      <td>1.5 dCi Extreme</td>\n",
       "      <td>2009</td>\n",
       "      <td>260000</td>\n",
       "      <td>Düz</td>\n",
       "      <td>Dizel</td>\n",
       "      <td>Sedan</td>\n",
       "      <td>NaN</td>\n",
       "      <td>...</td>\n",
       "      <td>NaN</td>\n",
       "      <td>NaN</td>\n",
       "      <td>NaN</td>\n",
       "      <td>NaN</td>\n",
       "      <td>NaN</td>\n",
       "      <td>NaN</td>\n",
       "      <td>NaN</td>\n",
       "      <td>NaN</td>\n",
       "      <td>NaN</td>\n",
       "      <td>Belirtilmemiş</td>\n",
       "    </tr>\n",
       "    <tr>\n",
       "      <th>935</th>\n",
       "      <td>155000</td>\n",
       "      <td>Hyundai</td>\n",
       "      <td>Elantra</td>\n",
       "      <td>1.8 GLS</td>\n",
       "      <td>1996</td>\n",
       "      <td>300000</td>\n",
       "      <td>Düz</td>\n",
       "      <td>LPG &amp; Benzin</td>\n",
       "      <td>Sedan</td>\n",
       "      <td>NaN</td>\n",
       "      <td>...</td>\n",
       "      <td>NaN</td>\n",
       "      <td>NaN</td>\n",
       "      <td>NaN</td>\n",
       "      <td>NaN</td>\n",
       "      <td>NaN</td>\n",
       "      <td>NaN</td>\n",
       "      <td>NaN</td>\n",
       "      <td>NaN</td>\n",
       "      <td>NaN</td>\n",
       "      <td>Belirtilmemiş</td>\n",
       "    </tr>\n",
       "    <tr>\n",
       "      <th>970</th>\n",
       "      <td>245000</td>\n",
       "      <td>Fiat</td>\n",
       "      <td>Tipo</td>\n",
       "      <td>1.6 SLX</td>\n",
       "      <td>1998</td>\n",
       "      <td>226000</td>\n",
       "      <td>Düz</td>\n",
       "      <td>LPG &amp; Benzin</td>\n",
       "      <td>Hatchback/5</td>\n",
       "      <td>NaN</td>\n",
       "      <td>...</td>\n",
       "      <td>NaN</td>\n",
       "      <td>NaN</td>\n",
       "      <td>NaN</td>\n",
       "      <td>NaN</td>\n",
       "      <td>NaN</td>\n",
       "      <td>NaN</td>\n",
       "      <td>NaN</td>\n",
       "      <td>NaN</td>\n",
       "      <td>NaN</td>\n",
       "      <td>Belirtilmemiş</td>\n",
       "    </tr>\n",
       "  </tbody>\n",
       "</table>\n",
       "<p>42 rows × 22 columns</p>\n",
       "</div>"
      ],
      "text/plain": [
       "    price_try             make       series                          model  \\\n",
       "4      115000            Skoda      Favorit                         1.3 LX   \n",
       "25     470000           Nissan         Note                  1.5 dCi Tekna   \n",
       "36     260000       Mitsubishi      Carisma                        1.8 GLS   \n",
       "136    355000             Fiat        Albea           1.3 Multijet Dynamic   \n",
       "223    215000          Hyundai       Accent                         1.3 LS   \n",
       "238    960000            Skoda      Octavia                1.6 TDI Optimal   \n",
       "254    699000            Dacia      Sandero                0.9 TCe Stepway   \n",
       "255    175000            Tofaş        Şahin                            1.4   \n",
       "292    300000  Mercedes - Benz          300                              D   \n",
       "336    349000           Toyota      Corolla                        1.6 GLi   \n",
       "342    375000             Opel        Corsa                    1.4 100.Yıl   \n",
       "360    730000          Hyundai  Accent Blue             1.6 CRDI Mode Plus   \n",
       "382    420000            Dacia        Lodgy               1.5 dCi Laureate   \n",
       "411    920000            Volvo          S60                  1.6 D Premium   \n",
       "415    858500           Toyota      Corolla               1.4 D-4D Advance   \n",
       "440    585000             Opel        Astra            1.3 CDTI Enjoy Plus   \n",
       "442    180000          Renault          R 9                1.4 Broadway RN   \n",
       "482   1050000             Opel        Corsa              1.2 Turbo Dynamic   \n",
       "490    770000             Fiat         Egea                 1.4 Fire Urban   \n",
       "524    330000          Renault         Clio            1.5 dCi Authentique   \n",
       "560    520000             Seat        Ibiza                       1.4 Copa   \n",
       "604     90000            Tofaş        Şahin                            1.6   \n",
       "610    535000          Citroen     C-Elysee                   1.6 HDi Live   \n",
       "620   1580000       Volkswagen       Passat  1.6 TDi BlueMotion Impression   \n",
       "640    600000           Toyota        Auris                      1.6 Class   \n",
       "689    145000           Toyota       Corona                         2.0 XL   \n",
       "705   2250000              BMW     3 Serisi                           320i   \n",
       "710    240000           Toyota      Corolla                         1.3 XL   \n",
       "725    290000             Fiat        Albea       Sole 1.3 Multijet Active   \n",
       "776    145000          Renault          R 9                   1.4 Broadway   \n",
       "777   2150000             Audi           A5          A5 Sportback 1.4 TFSI   \n",
       "788    265000          Renault         R 19                 1.6 Europa RTE   \n",
       "792    605000          Renault      Fluence                    1.5 dCi Joy   \n",
       "854    718500             Fiat         Egea         1.3 Multijet Easy Stil   \n",
       "855   1100000          Renault       Megane       1.5 Blue DCI Joy Comfort   \n",
       "860    190000             Fiat       Tempra                       1.6 SX A   \n",
       "865    290000          Hyundai   Accent Era            1.5 CRDi-VGT Select   \n",
       "875    650000           Toyota      Corolla         1.4 D-4D Comfort Extra   \n",
       "903    149500            Tofaş        Şahin                            1.4   \n",
       "905    360000          Renault       Megane                1.5 dCi Extreme   \n",
       "935    155000          Hyundai      Elantra                        1.8 GLS   \n",
       "970    245000             Fiat         Tipo                        1.6 SLX   \n",
       "\n",
       "          year      km   transmission          fuel    body_type  \\\n",
       "4         1993  217000            Düz  LPG & Benzin  Hatchback/5   \n",
       "25        2008  198000            Düz         Dizel          MPV   \n",
       "36        2000  246000            Düz        Benzin  Hatchback/3   \n",
       "136       2005  290000            Düz         Dizel        Sedan   \n",
       "223       1998  303000            Düz  LPG & Benzin        Sedan   \n",
       "238       2014  156000       Otomatik         Dizel        Sedan   \n",
       "254       2016   52000  Yarı Otomatik        Benzin  Hatchback/5   \n",
       "255       1999  150000            Düz  LPG & Benzin        Sedan   \n",
       "292       1986  360000            Düz        Benzin  Hatchback/5   \n",
       "336       1996  359047            Düz  LPG & Benzin        Sedan   \n",
       "342  Yıl\\n2000  193500       Otomatik  LPG & Benzin  Hatchback/5   \n",
       "360       2016  141000  Yarı Otomatik         Dizel        Sedan   \n",
       "382       2015  290000            Düz         Dizel  Hatchback/5   \n",
       "411       2015  170000       Otomatik         Dizel        Sedan   \n",
       "415       2017  236700       Otomatik         Dizel        Sedan   \n",
       "440       2011  231000            Düz         Dizel  Hatchback/5   \n",
       "442       1998  132000            Düz  LPG & Benzin        Sedan   \n",
       "482       2021    6000  Yarı Otomatik        Benzin  Hatchback/5   \n",
       "490       2023    6008            Düz        Benzin        Sedan   \n",
       "524       2003  277600            Düz         Dizel        Sedan   \n",
       "560       2012  227000            Düz  LPG & Benzin  Hatchback/5   \n",
       "604       1984  999999            Düz  LPG & Benzin        Sedan   \n",
       "610       2017  168352            Düz         Dizel        Sedan   \n",
       "620       2019   84200       Otomatik         Dizel        Sedan   \n",
       "640       2007  220000            Düz  LPG & Benzin  Hatchback/5   \n",
       "689       1991  252716            Düz  LPG & Benzin        Sedan   \n",
       "705       2019   77200       Otomatik        Benzin        Sedan   \n",
       "710       1993  320000            Düz  LPG & Benzin        Sedan   \n",
       "725       2012  206300            Düz         Dizel        Sedan   \n",
       "776       1994    3821            Düz  LPG & Benzin        Sedan   \n",
       "777       2017   41000       Otomatik        Benzin        Sedan   \n",
       "788       1999  270000            Düz  LPG & Benzin  Hatchback/5   \n",
       "792       2013  180000            Düz         Dizel        Sedan   \n",
       "854       2018   79000            Düz         Dizel        Sedan   \n",
       "855       2023    6300            Düz         Dizel        Sedan   \n",
       "860       1993       1            Düz  LPG & Benzin        Sedan   \n",
       "865       2008  100000            Düz         Dizel       Cabrio   \n",
       "875       2011  168000            Düz         Dizel        Sedan   \n",
       "903       1999   37250            Düz  LPG & Benzin        Sedan   \n",
       "905       2009  260000            Düz         Dizel        Sedan   \n",
       "935       1996  300000            Düz  LPG & Benzin        Sedan   \n",
       "970       1998  226000            Düz  LPG & Benzin  Hatchback/5   \n",
       "\n",
       "          warranty  ... cylinder_number torque_nm  engine_capacity_cc  \\\n",
       "4              NaN  ...             NaN       NaN                 NaN   \n",
       "25             NaN  ...             NaN       NaN                 NaN   \n",
       "36             NaN  ...             NaN       NaN                 NaN   \n",
       "136            NaN  ...             NaN       NaN                 NaN   \n",
       "223            NaN  ...             NaN       NaN                 NaN   \n",
       "238            NaN  ...             NaN       NaN                 NaN   \n",
       "254            NaN  ...             NaN       NaN                 NaN   \n",
       "255            NaN  ...             NaN       NaN                 NaN   \n",
       "292            NaN  ...             NaN       NaN                 NaN   \n",
       "336            NaN  ...             NaN       NaN                 NaN   \n",
       "342            NaN  ...             NaN       NaN                 NaN   \n",
       "360            NaN  ...             NaN       NaN                 NaN   \n",
       "382            NaN  ...             NaN       NaN                 NaN   \n",
       "411            NaN  ...             NaN       NaN                 NaN   \n",
       "415            NaN  ...             NaN       NaN                 NaN   \n",
       "440            NaN  ...             NaN       NaN                 NaN   \n",
       "442            NaN  ...             NaN       NaN                 NaN   \n",
       "482            NaN  ...             NaN       NaN                 NaN   \n",
       "490  Garantisi Var  ...             NaN       NaN                 NaN   \n",
       "524            NaN  ...             NaN       NaN                 NaN   \n",
       "560            NaN  ...             NaN       NaN                 NaN   \n",
       "604            NaN  ...             NaN       NaN                 NaN   \n",
       "610            NaN  ...             NaN       NaN                 NaN   \n",
       "620  Garantisi Yok  ...             NaN       NaN                 NaN   \n",
       "640            NaN  ...             NaN       NaN                 NaN   \n",
       "689            NaN  ...             NaN       NaN                 NaN   \n",
       "705            NaN  ...             NaN       NaN                 NaN   \n",
       "710  Garantisi Yok  ...             NaN       NaN                 NaN   \n",
       "725            NaN  ...             NaN       NaN                 NaN   \n",
       "776  Garantisi Var  ...             NaN       NaN                 NaN   \n",
       "777            NaN  ...             NaN       NaN                 NaN   \n",
       "788              -  ...             NaN       NaN                 NaN   \n",
       "792              -  ...             NaN       NaN                 NaN   \n",
       "854            NaN  ...             NaN       NaN                 NaN   \n",
       "855            NaN  ...             NaN       NaN                 NaN   \n",
       "860            NaN  ...             NaN       NaN                 NaN   \n",
       "865            NaN  ...             NaN       NaN                 NaN   \n",
       "875            NaN  ...             NaN       NaN                 NaN   \n",
       "903            NaN  ...             NaN       NaN                 NaN   \n",
       "905            NaN  ...             NaN       NaN                 NaN   \n",
       "935            NaN  ...             NaN       NaN                 NaN   \n",
       "970            NaN  ...             NaN       NaN                 NaN   \n",
       "\n",
       "     engine_power_hp max_power_rpm min_power_rpm  acceleration_0to100_sec  \\\n",
       "4                NaN           NaN           NaN                      NaN   \n",
       "25      101 - 125 HP           NaN           NaN                      NaN   \n",
       "36               NaN           NaN           NaN                      NaN   \n",
       "136              NaN           NaN           NaN                      NaN   \n",
       "223              NaN           NaN           NaN                      NaN   \n",
       "238              NaN           NaN           NaN                      NaN   \n",
       "254              NaN           NaN           NaN                      NaN   \n",
       "255              NaN           NaN           NaN                      NaN   \n",
       "292              NaN           NaN           NaN                      NaN   \n",
       "336              NaN           NaN           NaN                      NaN   \n",
       "342              NaN           NaN           NaN                      NaN   \n",
       "360              NaN           NaN           NaN                      NaN   \n",
       "382              NaN           NaN           NaN                      NaN   \n",
       "411     126 - 150 HP           NaN           NaN                      NaN   \n",
       "415              NaN           NaN           NaN                      NaN   \n",
       "440              NaN           NaN           NaN                      NaN   \n",
       "442              NaN           NaN           NaN                      NaN   \n",
       "482              NaN           NaN           NaN                      NaN   \n",
       "490              NaN           NaN           NaN                      NaN   \n",
       "524              NaN           NaN           NaN                      NaN   \n",
       "560              NaN           NaN           NaN                      NaN   \n",
       "604              NaN           NaN           NaN                      NaN   \n",
       "610              NaN           NaN           NaN                      NaN   \n",
       "620     101 - 125 HP           NaN           NaN                      NaN   \n",
       "640              NaN           NaN           NaN                      NaN   \n",
       "689              NaN           NaN           NaN                      NaN   \n",
       "705              NaN           NaN           NaN                      NaN   \n",
       "710              NaN           NaN           NaN                      NaN   \n",
       "725              NaN           NaN           NaN                      NaN   \n",
       "776      76 - 100 HP           NaN           NaN                      NaN   \n",
       "777              NaN           NaN           NaN                      NaN   \n",
       "788                -           NaN           NaN                      NaN   \n",
       "792              NaN           NaN           NaN                      NaN   \n",
       "854              NaN           NaN           NaN                      NaN   \n",
       "855              NaN           NaN           NaN                      NaN   \n",
       "860              NaN           NaN           NaN                      NaN   \n",
       "865              NaN           NaN           NaN                      NaN   \n",
       "875              NaN           NaN           NaN                      NaN   \n",
       "903              NaN           NaN           NaN                      NaN   \n",
       "905              NaN           NaN           NaN                      NaN   \n",
       "935              NaN           NaN           NaN                      NaN   \n",
       "970              NaN           NaN           NaN                      NaN   \n",
       "\n",
       "     max_speed_kmh average_fuel_consumption_lt       painted_changed  \n",
       "4              NaN                         NaN         Belirtilmemiş  \n",
       "25             NaN                         NaN         Belirtilmemiş  \n",
       "36             NaN                         NaN         Belirtilmemiş  \n",
       "136            NaN                         NaN         Belirtilmemiş  \n",
       "223            NaN                         NaN             2 değişen  \n",
       "238            NaN                         NaN              2 boyalı  \n",
       "254            NaN                         NaN              1 boyalı  \n",
       "255            NaN                         NaN   1 değişen, 1 boyalı  \n",
       "292            NaN                         NaN         Belirtilmemiş  \n",
       "336            NaN                         NaN   1 değişen, 3 boyalı  \n",
       "342            NaN                         NaN         Belirtilmemiş  \n",
       "360            NaN                         NaN              6 boyalı  \n",
       "382            NaN                         NaN  1 değişen, 12 boyalı  \n",
       "411            NaN                         NaN              1 boyalı  \n",
       "415            NaN                         NaN         Belirtilmemiş  \n",
       "440            NaN                         NaN         Belirtilmemiş  \n",
       "442            NaN                         NaN         Tamamı boyalı  \n",
       "482            NaN                         NaN         Belirtilmemiş  \n",
       "490            NaN                         NaN        Tamamı orjinal  \n",
       "524            NaN                         NaN         Belirtilmemiş  \n",
       "560            NaN                         NaN        Tamamı orjinal  \n",
       "604            NaN                         NaN         Belirtilmemiş  \n",
       "610            NaN                         NaN   2 değişen, 4 boyalı  \n",
       "620            NaN                         NaN        Tamamı orjinal  \n",
       "640            NaN                         NaN   1 değişen, 2 boyalı  \n",
       "689            NaN                         NaN         Belirtilmemiş  \n",
       "705            NaN                         NaN        Tamamı orjinal  \n",
       "710            NaN                         NaN         Belirtilmemiş  \n",
       "725            NaN                         NaN         Belirtilmemiş  \n",
       "776            NaN                         NaN         Belirtilmemiş  \n",
       "777            NaN                         NaN         Belirtilmemiş  \n",
       "788            NaN                         NaN   1 değişen, 1 boyalı  \n",
       "792            NaN                         NaN              4 boyalı  \n",
       "854            NaN                         NaN             1 değişen  \n",
       "855            NaN                         NaN        Tamamı orjinal  \n",
       "860            NaN                         NaN         Belirtilmemiş  \n",
       "865            NaN                         NaN         Belirtilmemiş  \n",
       "875            NaN                         NaN        Tamamı orjinal  \n",
       "903            NaN                         NaN         Belirtilmemiş  \n",
       "905            NaN                         NaN         Belirtilmemiş  \n",
       "935            NaN                         NaN         Belirtilmemiş  \n",
       "970            NaN                         NaN         Belirtilmemiş  \n",
       "\n",
       "[42 rows x 22 columns]"
      ]
     },
     "execution_count": 9,
     "metadata": {},
     "output_type": "execute_result"
    }
   ],
   "source": [
    "test[test['engine_capacity_cc'].isna()]"
   ]
  },
  {
   "cell_type": "code",
   "execution_count": 10,
   "id": "4665c409",
   "metadata": {},
   "outputs": [],
   "source": [
    "engine_capacity_dict = {\n",
    "    '1.3 LX': '1300',\n",
    "    '1.5 dCi Tekna': '1500',\n",
    "    '1.8 GLS': '1800',\n",
    "    '1.3 Multijet Dynamic': '1300',\n",
    "    '1.3 LS': '1300',\n",
    "    '1.6 TDI Optimal': '1600',\n",
    "    '0.9 TCe Stepway': '900',\n",
    "    '1.4': '1400',\n",
    "    'D': '2500',\n",
    "    '1.6 GLi': '1600',\n",
    "    '1.4 100.Yıl': '1400',\n",
    "    '1.6 CRDI Mode Plus': '1600',\n",
    "    '1.5 dCi Laureate': '1500',\n",
    "    '1.6 D Premium': '1600',\n",
    "    '1.4 D-4D Advance': '1400',\n",
    "    '1.3 CDTI Enjoy Plus': '1300',\n",
    "    '1.4 Broadway RN': '1400',\n",
    "    '1.2 Turbo Dynamic': '1200',\n",
    "    '1.4 Fire Urban': '1400',\n",
    "    '1.5 dCi Authentique': '1500',\n",
    "    '1.4 Copa': '1400',\n",
    "    '1.6': '1600',\n",
    "    '1.6 HDi Live': '1600',\n",
    "    '1.6 TDi BlueMotion Impression': '1600',\n",
    "    '1.6 Class': '1600',\n",
    "    '2.0 XL': '2000',\n",
    "    '320i': '1600',\n",
    "    '1.3 XL': '1300',\n",
    "    'Sole 1.3 Multijet Active': '1300',\n",
    "    '1.4 Broadway': '1400',\n",
    "    'A5 Sportback 1.4 TFSI': '1400',\n",
    "    '1.6 Europa RTE': '1600',\n",
    "    '1.5 dCi Joy': '1500',\n",
    "    '1.3 Multijet Easy Stil': '1300',\n",
    "    '1.5 Blue DCI Joy Comfort': '1500',\n",
    "    '1.6 SX A': '1600',\n",
    "    '1.5 CRDi-VGT Select': '1500',\n",
    "    '1.4 D-4D Comfort Extra': '1400',\n",
    "    '1.5 dCi Extreme': '1500',\n",
    "    '1.6 SLX': '1600'\n",
    "}\n",
    "\n",
    "test['engine_capacity_cc'] = test['engine_capacity_cc'].fillna(test['model'].map(engine_capacity_dict))"
   ]
  },
  {
   "cell_type": "code",
   "execution_count": 11,
   "id": "3ebe2f45",
   "metadata": {},
   "outputs": [
    {
     "data": {
      "text/plain": [
       "'1600'"
      ]
     },
     "execution_count": 11,
     "metadata": {},
     "output_type": "execute_result"
    }
   ],
   "source": [
    "test['engine_capacity_cc'][705]"
   ]
  },
  {
   "cell_type": "code",
   "execution_count": 12,
   "id": "80d58aec",
   "metadata": {},
   "outputs": [],
   "source": [
    "test['engine_capacity_cc'] = test['engine_capacity_cc'].astype(int)"
   ]
  },
  {
   "cell_type": "code",
   "execution_count": 13,
   "id": "736d39c6",
   "metadata": {},
   "outputs": [
    {
     "data": {
      "text/plain": [
       "0"
      ]
     },
     "execution_count": 13,
     "metadata": {},
     "output_type": "execute_result"
    }
   ],
   "source": [
    "test['engine_capacity_cc'].isna().sum()"
   ]
  },
  {
   "cell_type": "code",
   "execution_count": 14,
   "id": "ad17664e",
   "metadata": {},
   "outputs": [
    {
     "data": {
      "text/plain": [
       "array([1596, 1461, 1199, 1300, 1399, 1560, 1580, 1997, 1598, 1390, 1364,\n",
       "       1587, 1595, 1798, 1500, 1242, 1332, 1499, 1581, 1800, 1248, 1493,\n",
       "       1582, 1398, 1498, 1397, 1360, 1197, 1396, 1599, 1149,  898, 1368,\n",
       "       1372, 1339, 1395, 1201, 1781, 1342, 1229, 1388, 1495, 1896,  999,\n",
       "       1490, 1422, 1198, 1991, 1796, 1721,  998, 1895, 1995, 1496, 1591,\n",
       "       1600, 1405, 2001, 1489,  900, 1400, 1289, 2500, 1998, 1968, 1586,\n",
       "       1297, 1298, 1597, 1341, 1488, 1401, 2171, 2498, 1497, 1200, 1698,\n",
       "       1329, 2148, 1590, 2494, 1588, 2000, 1801, 1601, 1239, 1592, 1108,\n",
       "       1769, 1999, 1686, 1462, 1240])"
      ]
     },
     "execution_count": 14,
     "metadata": {},
     "output_type": "execute_result"
    }
   ],
   "source": [
    "test['engine_capacity_cc'].unique()"
   ]
  },
  {
   "cell_type": "markdown",
   "id": "17f3d7b0",
   "metadata": {},
   "source": [
    "# -------------------------------------------------------------------------------------------"
   ]
  },
  {
   "cell_type": "code",
   "execution_count": 15,
   "id": "199a9129",
   "metadata": {},
   "outputs": [
    {
     "data": {
      "text/plain": [
       "array([ 4., nan,  3.,  6.])"
      ]
     },
     "execution_count": 15,
     "metadata": {},
     "output_type": "execute_result"
    }
   ],
   "source": [
    "test['cylinder_number'].unique()"
   ]
  },
  {
   "cell_type": "code",
   "execution_count": 16,
   "id": "35bfbaf4",
   "metadata": {},
   "outputs": [
    {
     "data": {
      "text/plain": [
       "1991"
      ]
     },
     "execution_count": 16,
     "metadata": {},
     "output_type": "execute_result"
    }
   ],
   "source": [
    "test[test['cylinder_number'] == 6.0]['engine_capacity_cc'].min()"
   ]
  },
  {
   "cell_type": "code",
   "execution_count": 17,
   "id": "f988ce22",
   "metadata": {},
   "outputs": [
    {
     "data": {
      "text/plain": [
       "1108"
      ]
     },
     "execution_count": 17,
     "metadata": {},
     "output_type": "execute_result"
    }
   ],
   "source": [
    "test[test['cylinder_number'] == 4.0]['engine_capacity_cc'].min()"
   ]
  },
  {
   "cell_type": "code",
   "execution_count": 18,
   "id": "0d65b853",
   "metadata": {},
   "outputs": [
    {
     "data": {
      "text/plain": [
       "898"
      ]
     },
     "execution_count": 18,
     "metadata": {},
     "output_type": "execute_result"
    }
   ],
   "source": [
    "test[test['cylinder_number'] == 3.0]['engine_capacity_cc'].min()"
   ]
  },
  {
   "cell_type": "code",
   "execution_count": 19,
   "id": "99e41bd9",
   "metadata": {},
   "outputs": [],
   "source": [
    "cylinder_list= []\n",
    "\n",
    "for index, row in test.iterrows():\n",
    "    if row['engine_capacity_cc'] >= 1991:\n",
    "        cylinder_list.append(6)\n",
    "    elif row['engine_capacity_cc'] >= 1108:\n",
    "        cylinder_list.append(4)\n",
    "    elif row['engine_capacity_cc'] >= 898:\n",
    "        cylinder_list.append(3)\n",
    "    else:\n",
    "        cylinder_list.append(row['cylinder_number'])\n",
    "        \n",
    "cylinder_series = pd.Series(cylinder_list)\n",
    "\n",
    "test['cylinder_number'] = test['cylinder_number'].fillna(cylinder_series)"
   ]
  },
  {
   "cell_type": "code",
   "execution_count": 20,
   "id": "edc440e3",
   "metadata": {},
   "outputs": [
    {
     "data": {
      "text/plain": [
       "6"
      ]
     },
     "execution_count": 20,
     "metadata": {},
     "output_type": "execute_result"
    }
   ],
   "source": [
    "cylinder_series[248]"
   ]
  },
  {
   "cell_type": "code",
   "execution_count": 21,
   "id": "fd3f8734",
   "metadata": {},
   "outputs": [
    {
     "data": {
      "text/plain": [
       "6.0"
      ]
     },
     "execution_count": 21,
     "metadata": {},
     "output_type": "execute_result"
    }
   ],
   "source": [
    "test['cylinder_number'][248]"
   ]
  },
  {
   "cell_type": "code",
   "execution_count": 22,
   "id": "3b7df429",
   "metadata": {},
   "outputs": [],
   "source": [
    "test['cylinder_number'] = test['cylinder_number'].astype(int)"
   ]
  },
  {
   "cell_type": "code",
   "execution_count": 23,
   "id": "b2e60c81",
   "metadata": {},
   "outputs": [
    {
     "data": {
      "text/plain": [
       "0"
      ]
     },
     "execution_count": 23,
     "metadata": {},
     "output_type": "execute_result"
    }
   ],
   "source": [
    "test['cylinder_number'].isna().sum()"
   ]
  },
  {
   "cell_type": "code",
   "execution_count": 24,
   "id": "b7d7251b",
   "metadata": {},
   "outputs": [
    {
     "data": {
      "text/plain": [
       "array([4, 3, 6])"
      ]
     },
     "execution_count": 24,
     "metadata": {},
     "output_type": "execute_result"
    }
   ],
   "source": [
    "test['cylinder_number'].unique()"
   ]
  },
  {
   "cell_type": "markdown",
   "id": "e6bfac8a",
   "metadata": {},
   "source": [
    "# -------------------------------------------------------------------------------------------"
   ]
  },
  {
   "cell_type": "code",
   "execution_count": 25,
   "id": "6e43fe1f",
   "metadata": {},
   "outputs": [
    {
     "data": {
      "text/plain": [
       "array([150., 220., 110., 158.,  nan, 125., 230., 142., 154., 155., 200.,\n",
       "       205., 145., 160., 148., 152., 250., 320., 104., 111., 240., 131.,\n",
       "       235., 300., 130., 190., 133., 100., 120., 225., 134., 105., 121.,\n",
       "       135., 175., 140., 123., 127., 180.,  90., 119., 114., 210., 115.,\n",
       "       124., 122., 185., 153., 270., 157., 112., 159., 118., 106., 156.,\n",
       "        95., 216., 254., 350., 132., 151., 188., 380., 143.,  99., 137.,\n",
       "       107., 400., 184., 136., 117., 144., 102., 128., 290., 126., 280.,\n",
       "       138., 173., 149., 147., 260., 315., 196., 195., 255., 204., 172.,\n",
       "       183., 170., 450.,  88., 165., 340.,  92.,  87.])"
      ]
     },
     "execution_count": 25,
     "metadata": {},
     "output_type": "execute_result"
    }
   ],
   "source": [
    "test['torque_nm'].unique()"
   ]
  },
  {
   "cell_type": "code",
   "execution_count": 26,
   "id": "5568a558",
   "metadata": {},
   "outputs": [],
   "source": [
    "torque_list= []\n",
    "\n",
    "for index, row in test.iterrows():\n",
    "    if row['engine_capacity_cc'] >= 2500:\n",
    "        torque_list.append(250)\n",
    "    elif row['engine_capacity_cc'] >= 2400:\n",
    "        torque_list.append(240)\n",
    "    elif row['engine_capacity_cc'] >= 1990:\n",
    "        torque_list.append(200)\n",
    "    elif row['engine_capacity_cc'] >= 1780:\n",
    "        torque_list.append(180)\n",
    "    elif row['engine_capacity_cc'] >= 1560:\n",
    "        torque_list.append(150)\n",
    "    elif row['engine_capacity_cc'] >= 1380:\n",
    "        torque_list.append(140)\n",
    "    elif row['engine_capacity_cc'] >= 1280:\n",
    "        torque_list.append(130)\n",
    "    elif row['engine_capacity_cc'] >= 1200:\n",
    "        torque_list.append(120)\n",
    "    elif row['engine_capacity_cc'] >= 1100:\n",
    "        torque_list.append(110)\n",
    "    elif row['engine_capacity_cc'] >= 800:\n",
    "        torque_list.append(90)\n",
    "    else:\n",
    "        torque_list.append(row['torque_nm'])\n",
    "        \n",
    "torque_series = pd.Series(torque_list)\n",
    "\n",
    "test['torque_nm'] = test['torque_nm'].fillna(torque_series)"
   ]
  },
  {
   "cell_type": "code",
   "execution_count": 27,
   "id": "740fc1ed",
   "metadata": {},
   "outputs": [
    {
     "data": {
      "text/plain": [
       "200"
      ]
     },
     "execution_count": 27,
     "metadata": {},
     "output_type": "execute_result"
    }
   ],
   "source": [
    "torque_series[8]"
   ]
  },
  {
   "cell_type": "code",
   "execution_count": 28,
   "id": "d1c25a30",
   "metadata": {},
   "outputs": [
    {
     "data": {
      "text/plain": [
       "200.0"
      ]
     },
     "execution_count": 28,
     "metadata": {},
     "output_type": "execute_result"
    }
   ],
   "source": [
    "test['torque_nm'][8]"
   ]
  },
  {
   "cell_type": "code",
   "execution_count": 29,
   "id": "1c13ec28",
   "metadata": {},
   "outputs": [],
   "source": [
    "test['torque_nm'] = test['torque_nm'].astype(int)"
   ]
  },
  {
   "cell_type": "code",
   "execution_count": 30,
   "id": "cb13dd0e",
   "metadata": {},
   "outputs": [
    {
     "data": {
      "text/plain": [
       "0"
      ]
     },
     "execution_count": 30,
     "metadata": {},
     "output_type": "execute_result"
    }
   ],
   "source": [
    "test['torque_nm'].isna().sum()"
   ]
  },
  {
   "cell_type": "code",
   "execution_count": 31,
   "id": "8422ea39",
   "metadata": {},
   "outputs": [
    {
     "data": {
      "text/plain": [
       "array([150, 220, 110, 158, 130, 125, 230, 142, 200, 154, 155, 205, 145,\n",
       "       160, 148, 152, 250, 320, 140, 104, 111, 240, 180, 131, 235, 300,\n",
       "       190, 133, 100, 120, 225, 134, 105, 121, 135, 175, 123, 127,  90,\n",
       "       119, 114, 210, 115, 124, 122, 185, 153, 270, 157, 112, 159, 118,\n",
       "       106, 156,  95, 216, 254, 350, 132, 151, 188, 380, 143,  99, 137,\n",
       "       107, 400, 184, 136, 117, 144, 102, 128, 290, 126, 280, 138, 173,\n",
       "       149, 147, 260, 315, 196, 195, 255, 204, 172, 183, 170, 450,  88,\n",
       "       165, 340,  92,  87])"
      ]
     },
     "execution_count": 31,
     "metadata": {},
     "output_type": "execute_result"
    }
   ],
   "source": [
    "test['torque_nm'].unique()"
   ]
  },
  {
   "cell_type": "markdown",
   "id": "6a1b66c8",
   "metadata": {},
   "source": [
    "# -------------------------------------------------------------------------------------------"
   ]
  },
  {
   "cell_type": "code",
   "execution_count": 32,
   "id": "c4f504e0",
   "metadata": {},
   "outputs": [
    {
     "data": {
      "text/plain": [
       "array(['100', '90', '75', '125', nan, '97', '95', '101', '118', '124',\n",
       "       '115', '114', '93', '68', '65', '102', '122', '110', '120', '160',\n",
       "       '101 - 125 HP', '81', '88', '86', '105', '106', '83', '136', '69',\n",
       "       '70', '76', '103', '116', '84', '71', '76 - 100 HP', '150', '72',\n",
       "       '80', '85', '92', '109', '152', '140', '112', '170', '132', '130',\n",
       "       '156', '74', '82', '158', '177', '94', '180', '60', '147', '107',\n",
       "       '111', '54', '117', '190', '77', '64', '98', '126 - 150 HP', '67',\n",
       "       '51 - 75 HP', '184', '143', '123', '87', '57', '91', '96', '66',\n",
       "       '128', '99', \"50 HP'ye kadar\", '192', '176 - 200 HP', '133', '-',\n",
       "       '218', '58', '145', '127', '186', '121'], dtype=object)"
      ]
     },
     "execution_count": 32,
     "metadata": {},
     "output_type": "execute_result"
    }
   ],
   "source": [
    "test['engine_power_hp'].unique()"
   ]
  },
  {
   "cell_type": "code",
   "execution_count": 33,
   "id": "5898475d",
   "metadata": {},
   "outputs": [],
   "source": [
    "test['engine_power_hp'] = test['engine_power_hp'].str.extract('(\\d+)')"
   ]
  },
  {
   "cell_type": "code",
   "execution_count": 34,
   "id": "4bbf3c08",
   "metadata": {},
   "outputs": [],
   "source": [
    "engine_power_list= []\n",
    "\n",
    "for index, row in test.iterrows():\n",
    "    if row['engine_capacity_cc'] >= 2400:\n",
    "        engine_power_list.append(175)\n",
    "    elif row['engine_capacity_cc'] >= 2000:\n",
    "        engine_power_list.append(150)\n",
    "    elif row['engine_capacity_cc'] >= 1590:\n",
    "        engine_power_list.append(125)\n",
    "    elif row['engine_capacity_cc'] >= 1580:\n",
    "        engine_power_list.append(115)\n",
    "    elif row['engine_capacity_cc'] >= 1400:\n",
    "        engine_power_list.append(100)\n",
    "    elif row['engine_capacity_cc'] >= 1300:\n",
    "        engine_power_list.append(95)\n",
    "    elif row['engine_capacity_cc'] >= 1200:\n",
    "        engine_power_list.append(75)\n",
    "    elif row['engine_capacity_cc'] >= 900:\n",
    "        engine_power_list.append(60)\n",
    "    else:\n",
    "        engine_power_list.append(row['engine_power_hp'])\n",
    "        \n",
    "engine_power_series = pd.Series(engine_power_list)\n",
    "\n",
    "test['engine_power_hp'] = test['engine_power_hp'].fillna(engine_power_series)"
   ]
  },
  {
   "cell_type": "code",
   "execution_count": 35,
   "id": "a7a952bb",
   "metadata": {},
   "outputs": [
    {
     "data": {
      "text/plain": [
       "125"
      ]
     },
     "execution_count": 35,
     "metadata": {},
     "output_type": "execute_result"
    }
   ],
   "source": [
    "engine_power_series[36]"
   ]
  },
  {
   "cell_type": "code",
   "execution_count": 36,
   "id": "1eef8d53",
   "metadata": {},
   "outputs": [
    {
     "data": {
      "text/plain": [
       "125"
      ]
     },
     "execution_count": 36,
     "metadata": {},
     "output_type": "execute_result"
    }
   ],
   "source": [
    "test['engine_power_hp'][36]"
   ]
  },
  {
   "cell_type": "code",
   "execution_count": 37,
   "id": "e7b9c6a4",
   "metadata": {},
   "outputs": [],
   "source": [
    "test['engine_power_hp'] = test['engine_power_hp'].astype(int)"
   ]
  },
  {
   "cell_type": "code",
   "execution_count": 38,
   "id": "f22d7085",
   "metadata": {},
   "outputs": [
    {
     "data": {
      "text/plain": [
       "0"
      ]
     },
     "execution_count": 38,
     "metadata": {},
     "output_type": "execute_result"
    }
   ],
   "source": [
    "test['engine_power_hp'].isna().sum()"
   ]
  },
  {
   "cell_type": "code",
   "execution_count": 39,
   "id": "22ecce1c",
   "metadata": {},
   "outputs": [
    {
     "data": {
      "text/plain": [
       "array([100,  90,  75, 125,  95,  97, 101, 118, 124, 115, 114,  93,  68,\n",
       "        65, 102, 122, 110, 120, 160,  81,  88,  86, 105, 106,  83, 136,\n",
       "        69,  70,  76, 103, 116,  84,  71, 150,  72,  80,  85,  92, 109,\n",
       "       152, 140, 112, 170, 132, 130, 156,  74,  82, 158, 177,  94,  60,\n",
       "       180, 147, 175, 107, 111,  54, 117, 190,  77,  64,  98, 126,  67,\n",
       "        51, 184, 143, 123,  87,  57,  91,  96,  66, 128,  99,  50, 192,\n",
       "       176, 133, 218,  58, 145, 127, 186, 121])"
      ]
     },
     "execution_count": 39,
     "metadata": {},
     "output_type": "execute_result"
    }
   ],
   "source": [
    "test['engine_power_hp'].unique()"
   ]
  },
  {
   "cell_type": "markdown",
   "id": "05414c87",
   "metadata": {},
   "source": [
    "# -------------------------------------------------------------------------------------------"
   ]
  },
  {
   "cell_type": "code",
   "execution_count": 40,
   "id": "19c1d531",
   "metadata": {},
   "outputs": [
    {
     "data": {
      "text/plain": [
       "array([6000., 4000.,   nan, 6300., 3600., 5500., 5000., 3800., 3500.,\n",
       "       3750., 6500., 3200., 5800., 4400., 5400., 5600., 4800., 5750.,\n",
       "       5700., 5100., 2500., 4200., 6200., 6600., 3000., 6700., 3250.,\n",
       "       6400., 5200., 5300., 4500., 4900., 5250., 6100., 6250., 4600.])"
      ]
     },
     "execution_count": 40,
     "metadata": {},
     "output_type": "execute_result"
    }
   ],
   "source": [
    "test['max_power_rpm'].unique()"
   ]
  },
  {
   "cell_type": "code",
   "execution_count": 41,
   "id": "6b704f38",
   "metadata": {},
   "outputs": [],
   "source": [
    "max_power_list= []\n",
    "\n",
    "for index, row in test.iterrows():\n",
    "    if row['torque_nm'] >= 300:\n",
    "        max_power_list.append(3000)\n",
    "    elif row['torque_nm'] >= 80:\n",
    "        max_power_list.append(2500)\n",
    "    else:\n",
    "        max_power_list.append(row['max_power_rpm'])\n",
    "        \n",
    "max_power_series = pd.Series(max_power_list)\n",
    "\n",
    "test['max_power_rpm'] = test['max_power_rpm'].fillna(max_power_series)"
   ]
  },
  {
   "cell_type": "code",
   "execution_count": 42,
   "id": "d0421784",
   "metadata": {},
   "outputs": [
    {
     "data": {
      "text/plain": [
       "2500"
      ]
     },
     "execution_count": 42,
     "metadata": {},
     "output_type": "execute_result"
    }
   ],
   "source": [
    "max_power_series[8]"
   ]
  },
  {
   "cell_type": "code",
   "execution_count": 43,
   "id": "1bed33eb",
   "metadata": {},
   "outputs": [
    {
     "data": {
      "text/plain": [
       "2500.0"
      ]
     },
     "execution_count": 43,
     "metadata": {},
     "output_type": "execute_result"
    }
   ],
   "source": [
    "test['max_power_rpm'][8]"
   ]
  },
  {
   "cell_type": "code",
   "execution_count": 44,
   "id": "cf2a3393",
   "metadata": {},
   "outputs": [],
   "source": [
    "test['max_power_rpm'] = test['max_power_rpm'].astype(int)"
   ]
  },
  {
   "cell_type": "code",
   "execution_count": 45,
   "id": "6d73d80d",
   "metadata": {},
   "outputs": [
    {
     "data": {
      "text/plain": [
       "0"
      ]
     },
     "execution_count": 45,
     "metadata": {},
     "output_type": "execute_result"
    }
   ],
   "source": [
    "test['max_power_rpm'].isna().sum()"
   ]
  },
  {
   "cell_type": "code",
   "execution_count": 46,
   "id": "bfdac614",
   "metadata": {},
   "outputs": [
    {
     "data": {
      "text/plain": [
       "array([6000, 4000, 2500, 6300, 3600, 5500, 5000, 3800, 3500, 3750, 6500,\n",
       "       3200, 5800, 4400, 5400, 5600, 4800, 5750, 5700, 3000, 5100, 4200,\n",
       "       6200, 6600, 6700, 3250, 6400, 5200, 5300, 4500, 4900, 5250, 6100,\n",
       "       6250, 4600])"
      ]
     },
     "execution_count": 46,
     "metadata": {},
     "output_type": "execute_result"
    }
   ],
   "source": [
    "test['max_power_rpm'].unique()"
   ]
  },
  {
   "cell_type": "markdown",
   "id": "30678419",
   "metadata": {},
   "source": [
    "# -------------------------------------------------------------------------------------------"
   ]
  },
  {
   "cell_type": "code",
   "execution_count": 47,
   "id": "d3e804a4",
   "metadata": {},
   "outputs": [
    {
     "data": {
      "text/plain": [
       "array([4000., 1750.,   nan, 3200., 2000., 4500., 3800., 1800., 1900.,\n",
       "       4200., 1500., 4250., 4700., 3250., 2900., 4400., 2500., 3400.,\n",
       "       1400., 3000., 4100., 3500., 2800., 5200., 1250., 5000., 4800.,\n",
       "       1700., 1550., 2750., 2250., 1600., 4850., 3900., 5500., 2600.,\n",
       "       1850., 3750., 4300., 5250., 3600., 2200., 3300.])"
      ]
     },
     "execution_count": 47,
     "metadata": {},
     "output_type": "execute_result"
    }
   ],
   "source": [
    "test['min_power_rpm'].unique()"
   ]
  },
  {
   "cell_type": "code",
   "execution_count": 48,
   "id": "c967c962",
   "metadata": {},
   "outputs": [],
   "source": [
    "min_power_list= []\n",
    "\n",
    "for index, row in test.iterrows():\n",
    "    if row['max_power_rpm'] >= 5000:\n",
    "        min_power_list.append(3500)\n",
    "    elif row['max_power_rpm'] >= 4000:\n",
    "        min_power_list.append(2000)\n",
    "    elif row['max_power_rpm'] >= 2500:\n",
    "        min_power_list.append(1200)\n",
    "    else:\n",
    "        min_power_list.append(row['min_power_rpm'])\n",
    "        \n",
    "min_power_series = pd.Series(min_power_list)\n",
    "\n",
    "test['min_power_rpm'] = test['min_power_rpm'].fillna(min_power_series)"
   ]
  },
  {
   "cell_type": "code",
   "execution_count": 49,
   "id": "b0ec29ce",
   "metadata": {},
   "outputs": [
    {
     "data": {
      "text/plain": [
       "1200"
      ]
     },
     "execution_count": 49,
     "metadata": {},
     "output_type": "execute_result"
    }
   ],
   "source": [
    "min_power_series[15]"
   ]
  },
  {
   "cell_type": "code",
   "execution_count": 50,
   "id": "3c3e2648",
   "metadata": {},
   "outputs": [
    {
     "data": {
      "text/plain": [
       "1200.0"
      ]
     },
     "execution_count": 50,
     "metadata": {},
     "output_type": "execute_result"
    }
   ],
   "source": [
    "test['min_power_rpm'][15]"
   ]
  },
  {
   "cell_type": "code",
   "execution_count": 51,
   "id": "8b6e9c34",
   "metadata": {},
   "outputs": [],
   "source": [
    "test['min_power_rpm'] = test['min_power_rpm'].astype(int)"
   ]
  },
  {
   "cell_type": "code",
   "execution_count": 52,
   "id": "48ac1400",
   "metadata": {},
   "outputs": [
    {
     "data": {
      "text/plain": [
       "0"
      ]
     },
     "execution_count": 52,
     "metadata": {},
     "output_type": "execute_result"
    }
   ],
   "source": [
    "test['min_power_rpm'].isna().sum()"
   ]
  },
  {
   "cell_type": "code",
   "execution_count": 53,
   "id": "70a64409",
   "metadata": {},
   "outputs": [
    {
     "data": {
      "text/plain": [
       "array([4000, 1750, 1200, 3200, 2000, 4500, 3800, 1800, 1900, 4200, 1500,\n",
       "       4250, 4700, 3250, 2900, 4400, 2500, 3400, 1400, 3000, 4100, 3500,\n",
       "       2800, 5200, 1250, 5000, 4800, 1700, 1550, 2750, 2250, 1600, 4850,\n",
       "       3900, 5500, 2600, 1850, 3750, 4300, 5250, 3600, 2200, 3300])"
      ]
     },
     "execution_count": 53,
     "metadata": {},
     "output_type": "execute_result"
    }
   ],
   "source": [
    "test['min_power_rpm'].unique()"
   ]
  },
  {
   "cell_type": "markdown",
   "id": "4669fc4f",
   "metadata": {},
   "source": [
    "# -------------------------------------------------------------------------------------------"
   ]
  },
  {
   "cell_type": "code",
   "execution_count": 54,
   "id": "ed8adc0d",
   "metadata": {},
   "outputs": [],
   "source": [
    "test['acceleration_0to100_sec'] = test['acceleration_0to100_sec'].str.replace(',', '.').astype(float)"
   ]
  },
  {
   "cell_type": "code",
   "execution_count": 55,
   "id": "e57fdd9c",
   "metadata": {},
   "outputs": [
    {
     "data": {
      "text/plain": [
       "array([14.2, 12.9, 14. , 10.9,  nan, 11.2, 12.5, 11.7, 10.5, 14.7, 10. ,\n",
       "       14.9, 16.5, 12.7,  9.5, 11.5, 10.3, 12.3,  9.8, 10.7,  7.8, 13.2,\n",
       "        9.1,  9.9, 11.1, 11. , 13.8, 10.8, 13.1, 11.8, 12.2, 16.2, 13.7,\n",
       "       13. , 14.6, 12.1, 11.9, 14.5, 15. , 10.2,  8.9, 13.5,  8.5,  9.7,\n",
       "       14.3, 12.6, 11.4,  9.3, 12. , 12.4, 14.1,  9.4, 15.1, 16.4,  9. ,\n",
       "       10.4, 13.3, 11.3,  8.7,  8.3,  8.4,  7.6, 15.4, 13.6, 10.6, 13.9,\n",
       "       15.2,  7.9,  8.2, 13.4, 14.8, 15.8, 17.8, 15.9,  9.6, 11.6, 17.1,\n",
       "        8.1,  9.2,  8.8,  8.6,  7.7, 16.8, 12.8, 10.1,  8. , 14.4, 19. ,\n",
       "        7.3, 16. , 17.9, 15.3])"
      ]
     },
     "execution_count": 55,
     "metadata": {},
     "output_type": "execute_result"
    }
   ],
   "source": [
    "test['acceleration_0to100_sec'].unique()"
   ]
  },
  {
   "cell_type": "code",
   "execution_count": 56,
   "id": "a591d8f5",
   "metadata": {},
   "outputs": [],
   "source": [
    "acceleration_list= []\n",
    "\n",
    "for index, row in test.iterrows():\n",
    "    if row['torque_nm'] >= 200:\n",
    "        acceleration_list.append(13.6)\n",
    "    elif row['torque_nm'] >= 80:\n",
    "        acceleration_list.append(16.4)\n",
    "    else:\n",
    "        acceleration_list.append(row['acceleration_0to100_sec'])\n",
    "        \n",
    "acceleration_series = pd.Series(acceleration_list)\n",
    "\n",
    "test['acceleration_0to100_sec'] = test['acceleration_0to100_sec'].fillna(acceleration_series)"
   ]
  },
  {
   "cell_type": "code",
   "execution_count": 57,
   "id": "5c830ed6",
   "metadata": {},
   "outputs": [
    {
     "data": {
      "text/plain": [
       "13.6"
      ]
     },
     "execution_count": 57,
     "metadata": {},
     "output_type": "execute_result"
    }
   ],
   "source": [
    "acceleration_series[8]"
   ]
  },
  {
   "cell_type": "code",
   "execution_count": 58,
   "id": "06432880",
   "metadata": {},
   "outputs": [
    {
     "data": {
      "text/plain": [
       "13.6"
      ]
     },
     "execution_count": 58,
     "metadata": {},
     "output_type": "execute_result"
    }
   ],
   "source": [
    "test['acceleration_0to100_sec'][8]"
   ]
  },
  {
   "cell_type": "code",
   "execution_count": 59,
   "id": "3a4b130b",
   "metadata": {},
   "outputs": [
    {
     "data": {
      "text/plain": [
       "0"
      ]
     },
     "execution_count": 59,
     "metadata": {},
     "output_type": "execute_result"
    }
   ],
   "source": [
    "test['acceleration_0to100_sec'].isna().sum()"
   ]
  },
  {
   "cell_type": "code",
   "execution_count": 60,
   "id": "c38fca66",
   "metadata": {},
   "outputs": [
    {
     "data": {
      "text/plain": [
       "array([14.2, 12.9, 14. , 10.9, 16.4, 11.2, 12.5, 13.6, 11.7, 10.5, 14.7,\n",
       "       10. , 14.9, 16.5, 12.7,  9.5, 11.5, 10.3, 12.3,  9.8, 10.7,  7.8,\n",
       "       13.2,  9.1,  9.9, 11.1, 11. , 13.8, 10.8, 13.1, 11.8, 12.2, 16.2,\n",
       "       13.7, 13. , 14.6, 12.1, 11.9, 14.5, 15. , 10.2,  8.9, 13.5,  8.5,\n",
       "        9.7, 14.3, 12.6, 11.4,  9.3, 12. , 12.4, 14.1,  9.4, 15.1,  9. ,\n",
       "       10.4, 13.3, 11.3,  8.7,  8.3,  8.4,  7.6, 15.4, 10.6, 13.9, 15.2,\n",
       "        7.9,  8.2, 13.4, 14.8, 15.8, 17.8, 15.9,  9.6, 11.6, 17.1,  8.1,\n",
       "        9.2,  8.8,  8.6,  7.7, 16.8, 12.8, 10.1,  8. , 14.4, 19. ,  7.3,\n",
       "       16. , 17.9, 15.3])"
      ]
     },
     "execution_count": 60,
     "metadata": {},
     "output_type": "execute_result"
    }
   ],
   "source": [
    "test['acceleration_0to100_sec'].unique()"
   ]
  },
  {
   "cell_type": "markdown",
   "id": "89b8ef50",
   "metadata": {},
   "source": [
    "# -------------------------------------------------------------------------------------------"
   ]
  },
  {
   "cell_type": "code",
   "execution_count": 61,
   "id": "895796c7",
   "metadata": {},
   "outputs": [
    {
     "data": {
      "text/plain": [
       "array([182., 176., 170., 198.,  nan, 180., 186., 190., 191., 201., 195.,\n",
       "       164., 160., 192., 200., 188., 197., 187., 203., 222., 185., 166.,\n",
       "       175., 177., 206., 168., 163., 193., 171., 184., 161., 172., 167.,\n",
       "       179., 178., 202., 208., 150., 196., 217., 162., 173., 205., 220.,\n",
       "       189., 210., 194., 181., 207., 169., 165., 199., 223., 183., 215.,\n",
       "       155., 174., 213., 225., 230., 211., 218., 159., 153., 233., 226.,\n",
       "       214., 143., 232., 209., 145., 227., 156., 228., 204., 219.])"
      ]
     },
     "execution_count": 61,
     "metadata": {},
     "output_type": "execute_result"
    }
   ],
   "source": [
    "test['max_speed_kmh'].unique()"
   ]
  },
  {
   "cell_type": "code",
   "execution_count": 62,
   "id": "1876cb8c",
   "metadata": {},
   "outputs": [],
   "source": [
    "max_speed_list= []\n",
    "\n",
    "for index, row in test.iterrows():\n",
    "    if row['torque_nm'] >= 200:\n",
    "        max_speed_list.append(175)\n",
    "    elif row['torque_nm'] >= 80:\n",
    "        max_speed_list.append(150)\n",
    "    else:\n",
    "        max_speed_list.append(row['max_speed_kmh'])\n",
    "        \n",
    "max_speed_series = pd.Series(max_speed_list)\n",
    "\n",
    "test['max_speed_kmh'] = test['max_speed_kmh'].fillna(max_speed_series)"
   ]
  },
  {
   "cell_type": "code",
   "execution_count": 63,
   "id": "16db243b",
   "metadata": {},
   "outputs": [
    {
     "data": {
      "text/plain": [
       "175"
      ]
     },
     "execution_count": 63,
     "metadata": {},
     "output_type": "execute_result"
    }
   ],
   "source": [
    "max_speed_series[8]"
   ]
  },
  {
   "cell_type": "code",
   "execution_count": 64,
   "id": "3473176b",
   "metadata": {},
   "outputs": [
    {
     "data": {
      "text/plain": [
       "175.0"
      ]
     },
     "execution_count": 64,
     "metadata": {},
     "output_type": "execute_result"
    }
   ],
   "source": [
    "test['max_speed_kmh'][8]"
   ]
  },
  {
   "cell_type": "code",
   "execution_count": 65,
   "id": "1855181d",
   "metadata": {},
   "outputs": [],
   "source": [
    "test['max_speed_kmh'] = test['max_speed_kmh'].astype(int)"
   ]
  },
  {
   "cell_type": "code",
   "execution_count": 66,
   "id": "e8eaa4b7",
   "metadata": {},
   "outputs": [
    {
     "data": {
      "text/plain": [
       "0"
      ]
     },
     "execution_count": 66,
     "metadata": {},
     "output_type": "execute_result"
    }
   ],
   "source": [
    "test['max_speed_kmh'].isna().sum()"
   ]
  },
  {
   "cell_type": "code",
   "execution_count": 67,
   "id": "7bcd5452",
   "metadata": {},
   "outputs": [
    {
     "data": {
      "text/plain": [
       "array([182, 176, 170, 198, 150, 180, 186, 175, 190, 191, 201, 195, 164,\n",
       "       160, 192, 200, 188, 197, 187, 203, 222, 185, 166, 177, 206, 168,\n",
       "       163, 193, 171, 184, 161, 172, 167, 179, 178, 202, 208, 196, 217,\n",
       "       162, 173, 205, 220, 189, 210, 194, 181, 207, 169, 165, 199, 223,\n",
       "       183, 215, 155, 174, 213, 225, 230, 211, 218, 159, 153, 233, 226,\n",
       "       214, 143, 232, 209, 145, 227, 156, 228, 204, 219])"
      ]
     },
     "execution_count": 67,
     "metadata": {},
     "output_type": "execute_result"
    }
   ],
   "source": [
    "test['max_speed_kmh'].unique()"
   ]
  },
  {
   "cell_type": "markdown",
   "id": "ef092419",
   "metadata": {},
   "source": [
    "# -------------------------------------------------------------------------------------------"
   ]
  },
  {
   "cell_type": "code",
   "execution_count": 68,
   "id": "d997d50b",
   "metadata": {},
   "outputs": [],
   "source": [
    "test['average_fuel_consumption_lt'] = test['average_fuel_consumption_lt'].str.replace(',', '.').astype(float)"
   ]
  },
  {
   "cell_type": "code",
   "execution_count": 69,
   "id": "21eac561",
   "metadata": {},
   "outputs": [
    {
     "data": {
      "text/plain": [
       "array([ 6.7,  3.7,  6.2,  6. ,  nan,  4.2,  6.5,  6.8,  4.1,  4.3,  4.5,\n",
       "        7.7,  7.1,  3.9,  6.6,  7.2,  5.8,  3.5,  4.9,  4.6,  4. ,  7.8,\n",
       "        7.4,  4.7,  6.4,  4.4,  7.5,  5.1,  8.4,  5.9,  5.7,  5. ,  3.8,\n",
       "        5.3,  6.9,  8.1,  5.4,  3.6,  5.2,  6.1,  4.8,  5.6,  5.5,  8. ,\n",
       "        9.4, 10.3,  6.3,  7.3,  7.9,  7. ,  7.6, 10.2,  8.7,  8.3,  9.8,\n",
       "        8.2, 11.1,  9. ,  8.5,  9.7,  9.5,  8.9,  9.1])"
      ]
     },
     "execution_count": 69,
     "metadata": {},
     "output_type": "execute_result"
    }
   ],
   "source": [
    "test['average_fuel_consumption_lt'].unique()"
   ]
  },
  {
   "cell_type": "code",
   "execution_count": 70,
   "id": "d6543164",
   "metadata": {},
   "outputs": [],
   "source": [
    "fuel_consumption_list= []\n",
    "\n",
    "for index, row in test.iterrows():\n",
    "    if row['min_power_rpm'] >= 5000:\n",
    "        fuel_consumption_list.append(7.4)\n",
    "    elif row['min_power_rpm'] >= 4000:\n",
    "        fuel_consumption_list.append(6.6)\n",
    "    elif row['min_power_rpm'] >= 3000:\n",
    "        fuel_consumption_list.append(6.5)\n",
    "    elif row['min_power_rpm'] >= 2000:\n",
    "        fuel_consumption_list.append(6.2)\n",
    "    elif row['min_power_rpm'] >= 1000:\n",
    "        fuel_consumption_list.append(5.5)\n",
    "    else:\n",
    "        fuel_consumption_list.append(row['average_fuel_consumption_lt'])\n",
    "        \n",
    "fuel_consumption_series = pd.Series(fuel_consumption_list)\n",
    "\n",
    "test['average_fuel_consumption_lt'] = test['average_fuel_consumption_lt'].fillna(fuel_consumption_series)"
   ]
  },
  {
   "cell_type": "code",
   "execution_count": 71,
   "id": "16e26eaa",
   "metadata": {},
   "outputs": [
    {
     "data": {
      "text/plain": [
       "6.6"
      ]
     },
     "execution_count": 71,
     "metadata": {},
     "output_type": "execute_result"
    }
   ],
   "source": [
    "fuel_consumption_series[7]"
   ]
  },
  {
   "cell_type": "code",
   "execution_count": 72,
   "id": "cc5ee5e7",
   "metadata": {},
   "outputs": [
    {
     "data": {
      "text/plain": [
       "6.6"
      ]
     },
     "execution_count": 72,
     "metadata": {},
     "output_type": "execute_result"
    }
   ],
   "source": [
    "test['average_fuel_consumption_lt'][7]"
   ]
  },
  {
   "cell_type": "code",
   "execution_count": 73,
   "id": "3a6f502d",
   "metadata": {},
   "outputs": [
    {
     "data": {
      "text/plain": [
       "0"
      ]
     },
     "execution_count": 73,
     "metadata": {},
     "output_type": "execute_result"
    }
   ],
   "source": [
    "test['average_fuel_consumption_lt'].isna().sum()"
   ]
  },
  {
   "cell_type": "code",
   "execution_count": 74,
   "id": "1b159708",
   "metadata": {},
   "outputs": [
    {
     "data": {
      "text/plain": [
       "array([ 6.7,  3.7,  6.2,  6. ,  5.5,  4.2,  6.6,  6.5,  6.8,  4.1,  4.3,\n",
       "        4.5,  7.7,  7.1,  3.9,  7.2,  5.8,  3.5,  4.9,  4.6,  4. ,  7.8,\n",
       "        7.4,  4.7,  6.4,  4.4,  7.5,  5.1,  8.4,  5.9,  5.7,  5. ,  3.8,\n",
       "        5.3,  6.9,  8.1,  5.4,  3.6,  5.2,  6.1,  4.8,  5.6,  8. ,  9.4,\n",
       "       10.3,  6.3,  7.3,  7.9,  7. ,  7.6, 10.2,  8.7,  8.3,  9.8,  8.2,\n",
       "       11.1,  9. ,  8.5,  9.7,  9.5,  8.9,  9.1])"
      ]
     },
     "execution_count": 74,
     "metadata": {},
     "output_type": "execute_result"
    }
   ],
   "source": [
    "test['average_fuel_consumption_lt'].unique()"
   ]
  },
  {
   "cell_type": "code",
   "execution_count": 75,
   "id": "0818c8aa",
   "metadata": {},
   "outputs": [],
   "source": [
    "test['year'] = test['year'].str.extract('(\\d+)')\n",
    "test['year'] = test['year'].astype(int)"
   ]
  },
  {
   "cell_type": "code",
   "execution_count": 76,
   "id": "2f0d34be",
   "metadata": {},
   "outputs": [],
   "source": [
    "test.drop(columns='price_try', inplace=True)"
   ]
  },
  {
   "cell_type": "code",
   "execution_count": 77,
   "id": "9f06c778",
   "metadata": {},
   "outputs": [
    {
     "name": "stdout",
     "output_type": "stream",
     "text": [
      "<class 'pandas.core.frame.DataFrame'>\n",
      "RangeIndex: 1000 entries, 0 to 999\n",
      "Data columns (total 21 columns):\n",
      " #   Column                       Non-Null Count  Dtype  \n",
      "---  ------                       --------------  -----  \n",
      " 0   make                         1000 non-null   object \n",
      " 1   series                       1000 non-null   object \n",
      " 2   model                        999 non-null    object \n",
      " 3   year                         1000 non-null   int64  \n",
      " 4   km                           1000 non-null   int64  \n",
      " 5   transmission                 1000 non-null   object \n",
      " 6   fuel                         1000 non-null   object \n",
      " 7   body_type                    1000 non-null   object \n",
      " 8   warranty                     432 non-null    object \n",
      " 9   from_                        1000 non-null   object \n",
      " 10  wheel_drive                  963 non-null    object \n",
      " 11  cylinder_number              1000 non-null   int64  \n",
      " 12  torque_nm                    1000 non-null   int64  \n",
      " 13  engine_capacity_cc           1000 non-null   int64  \n",
      " 14  engine_power_hp              1000 non-null   int64  \n",
      " 15  max_power_rpm                1000 non-null   int64  \n",
      " 16  min_power_rpm                1000 non-null   int64  \n",
      " 17  acceleration_0to100_sec      1000 non-null   float64\n",
      " 18  max_speed_kmh                1000 non-null   int64  \n",
      " 19  average_fuel_consumption_lt  1000 non-null   float64\n",
      " 20  painted_changed              1000 non-null   object \n",
      "dtypes: float64(2), int64(9), object(10)\n",
      "memory usage: 164.2+ KB\n"
     ]
    }
   ],
   "source": [
    "test.info()"
   ]
  },
  {
   "cell_type": "markdown",
   "id": "cfada7ae",
   "metadata": {},
   "source": [
    "# -------------------------------------------------------------------------------------------\n",
    "# -------------------------------------------------------------------------------------------"
   ]
  },
  {
   "cell_type": "code",
   "execution_count": 78,
   "id": "93f4d227",
   "metadata": {},
   "outputs": [],
   "source": [
    "make_counts = test['make'].value_counts()\n",
    "\n",
    "other_makes = list(make_counts[make_counts <= 30].index)\n",
    "\n",
    "rmv = ['BMW', 'Honda', 'Mercedes - Benz', 'Tofaş', 'Seat', 'Audi']\n",
    "\n",
    "other_makes = [make for make in other_makes if make not in rmv]\n",
    "\n",
    "test['make'] = test['make'].replace(other_makes, 'Other')"
   ]
  },
  {
   "cell_type": "code",
   "execution_count": 79,
   "id": "f7d7329e",
   "metadata": {},
   "outputs": [],
   "source": [
    "series_counts = test['series'].value_counts()\n",
    "\n",
    "other_series = list(series_counts[series_counts <20].index)\n",
    "\n",
    "rem = ['3 Serisi', '5 Serisi']\n",
    "\n",
    "other_series = [series for series in other_series if series not in rem]\n",
    "\n",
    "test['series'] = test['series'].replace(other_series, 'Other')"
   ]
  },
  {
   "cell_type": "code",
   "execution_count": 80,
   "id": "f594dcb2",
   "metadata": {},
   "outputs": [],
   "source": [
    "series_list= []\n",
    "\n",
    "for index, row in test.iterrows():\n",
    "    if row['series'] == 'Other':\n",
    "        series_list.append('Other ' + row['make'])\n",
    "    else:\n",
    "        series_list.append(row['series'])\n",
    "        \n",
    "test['series'] = series_list"
   ]
  },
  {
   "cell_type": "code",
   "execution_count": 81,
   "id": "eb04f3e3",
   "metadata": {},
   "outputs": [],
   "source": [
    "test['series'] = test['series'].apply(lambda x : x.replace(\"3 Serisi\",\"3 Series\"))\n",
    "test['series'] = test['series'].apply(lambda x : x.replace(\"5 Serisi\",\"5 Series\"))"
   ]
  },
  {
   "cell_type": "code",
   "execution_count": 82,
   "id": "c608ea35",
   "metadata": {},
   "outputs": [],
   "source": [
    "test.drop(columns='model', inplace=True)"
   ]
  },
  {
   "cell_type": "code",
   "execution_count": 83,
   "id": "bb192b99",
   "metadata": {},
   "outputs": [],
   "source": [
    "transmission_dict = {\n",
    "    'Düz': 'Manual',\n",
    "    'Otomatik': 'Automatic',\n",
    "    'Yarı Otomatik': 'Semiautomatic'\n",
    "}\n",
    "\n",
    "test['transmission'] = test.transmission.map(transmission_dict)"
   ]
  },
  {
   "cell_type": "code",
   "execution_count": 84,
   "id": "10a3b440",
   "metadata": {},
   "outputs": [],
   "source": [
    "fuel_dict = {\n",
    "    'Dizel': 'Diesel',\n",
    "    'LPG & Benzin': 'LPG & Gasoline',\n",
    "    'Benzin': 'Gasoline',\n",
    "    'Hibrit': 'Hybrid'\n",
    "}\n",
    "\n",
    "test['fuel'] = test.fuel.map(fuel_dict)"
   ]
  },
  {
   "cell_type": "code",
   "execution_count": 85,
   "id": "71375e18",
   "metadata": {},
   "outputs": [],
   "source": [
    "body_dict = {\n",
    "    'Sedan': 'Sedan',\n",
    "    'Hatchback/5': 'Hatchback',\n",
    "    'Station wagon': 'Other',\n",
    "    'Hatchback/3': 'Hatchback',\n",
    "    'Coupe': 'Other',\n",
    "    'MPV': 'Other',\n",
    "    'Cabrio': 'Other'\n",
    "}\n",
    "\n",
    "test['body_type'] = test.body_type.map(body_dict)"
   ]
  },
  {
   "cell_type": "code",
   "execution_count": 86,
   "id": "96b1c5a2",
   "metadata": {},
   "outputs": [],
   "source": [
    "warranty_dict = {\n",
    "    'Garantisi Yok': 'Warrantless',\n",
    "    'Garantisi Var': 'Warranted',\n",
    "    '-': 'Warrantless'\n",
    "}\n",
    "\n",
    "test['warranty'] = test.warranty.map(warranty_dict)"
   ]
  },
  {
   "cell_type": "code",
   "execution_count": 87,
   "id": "8f2ad8c8",
   "metadata": {},
   "outputs": [],
   "source": [
    "test['warranty'].fillna('Warrantless', inplace=True)"
   ]
  },
  {
   "cell_type": "code",
   "execution_count": 88,
   "id": "96c3bde3",
   "metadata": {},
   "outputs": [],
   "source": [
    "from_dict = {\n",
    "    'Galeriden': 'Dealer',\n",
    "    'Sahibinden': 'Owner',\n",
    "    'Yetkili Bayiden': 'Authorized Dealer'\n",
    "}\n",
    "\n",
    "test['from_'] = test.from_.map(from_dict)"
   ]
  },
  {
   "cell_type": "code",
   "execution_count": 89,
   "id": "58b83689",
   "metadata": {},
   "outputs": [],
   "source": [
    "wheel_drive_dict = {\n",
    "    'Önden Çekiş': 'Front-Wheel Drive',\n",
    "    'Arkadan İtiş': 'Rear-Wheel Drive',\n",
    "    '4WD (Sürekli)': '4WD (Continuous)',\n",
    "    '-': 'Front-Wheel Drive'\n",
    "}\n",
    "\n",
    "test['wheel_drive'] = test.wheel_drive.map(wheel_drive_dict)"
   ]
  },
  {
   "cell_type": "code",
   "execution_count": 90,
   "id": "57fc85b7",
   "metadata": {},
   "outputs": [],
   "source": [
    "test['wheel_drive'].fillna('Front-Wheel Drive', inplace=True)"
   ]
  },
  {
   "cell_type": "code",
   "execution_count": 91,
   "id": "0395d0ad",
   "metadata": {},
   "outputs": [],
   "source": [
    "pc_counts = test['painted_changed'].value_counts()\n",
    "\n",
    "pc = list(pc_counts[pc_counts <= 51].index)\n",
    "\n",
    "test['painted_changed'] = test['painted_changed'].replace(pc, 'Painted or Changed')"
   ]
  },
  {
   "cell_type": "code",
   "execution_count": 92,
   "id": "bf6143af",
   "metadata": {},
   "outputs": [],
   "source": [
    "pc_dict = {\n",
    "    'Painted or Changed': 'Painted or Changed',\n",
    "    'Belirtilmemiş': 'Original',\n",
    "    'Tamamı orjinal': 'Original'\n",
    "}\n",
    "\n",
    "test['painted_changed'] = test.painted_changed.map(pc_dict)"
   ]
  },
  {
   "cell_type": "markdown",
   "id": "f7916c4c",
   "metadata": {},
   "source": [
    "# -------------------------------------------------------------------------------------------\n",
    "# -------------------------------------------------------------------------------------------"
   ]
  },
  {
   "cell_type": "code",
   "execution_count": 93,
   "id": "4a413376",
   "metadata": {},
   "outputs": [
    {
     "data": {
      "text/html": [
       "<div>\n",
       "<style scoped>\n",
       "    .dataframe tbody tr th:only-of-type {\n",
       "        vertical-align: middle;\n",
       "    }\n",
       "\n",
       "    .dataframe tbody tr th {\n",
       "        vertical-align: top;\n",
       "    }\n",
       "\n",
       "    .dataframe thead th {\n",
       "        text-align: right;\n",
       "    }\n",
       "</style>\n",
       "<table border=\"1\" class=\"dataframe\">\n",
       "  <thead>\n",
       "    <tr style=\"text-align: right;\">\n",
       "      <th></th>\n",
       "      <th>make</th>\n",
       "      <th>series</th>\n",
       "      <th>year</th>\n",
       "      <th>km</th>\n",
       "      <th>transmission</th>\n",
       "      <th>fuel</th>\n",
       "      <th>body_type</th>\n",
       "      <th>warranty</th>\n",
       "      <th>from_</th>\n",
       "      <th>wheel_drive</th>\n",
       "      <th>cylinder_number</th>\n",
       "      <th>torque_nm</th>\n",
       "      <th>engine_capacity_cc</th>\n",
       "      <th>engine_power_hp</th>\n",
       "      <th>max_power_rpm</th>\n",
       "      <th>min_power_rpm</th>\n",
       "      <th>acceleration_0to100_sec</th>\n",
       "      <th>max_speed_kmh</th>\n",
       "      <th>average_fuel_consumption_lt</th>\n",
       "      <th>painted_changed</th>\n",
       "    </tr>\n",
       "  </thead>\n",
       "  <tbody>\n",
       "    <tr>\n",
       "      <th>0</th>\n",
       "      <td>Ford</td>\n",
       "      <td>Focus</td>\n",
       "      <td>2009</td>\n",
       "      <td>281000</td>\n",
       "      <td>Automatic</td>\n",
       "      <td>LPG &amp; Gasoline</td>\n",
       "      <td>Sedan</td>\n",
       "      <td>Warrantless</td>\n",
       "      <td>Owner</td>\n",
       "      <td>Front-Wheel Drive</td>\n",
       "      <td>4</td>\n",
       "      <td>150</td>\n",
       "      <td>1596</td>\n",
       "      <td>100</td>\n",
       "      <td>6000</td>\n",
       "      <td>4000</td>\n",
       "      <td>14.2</td>\n",
       "      <td>182</td>\n",
       "      <td>6.7</td>\n",
       "      <td>Original</td>\n",
       "    </tr>\n",
       "    <tr>\n",
       "      <th>1</th>\n",
       "      <td>Renault</td>\n",
       "      <td>Clio</td>\n",
       "      <td>2017</td>\n",
       "      <td>162000</td>\n",
       "      <td>Semiautomatic</td>\n",
       "      <td>Diesel</td>\n",
       "      <td>Hatchback</td>\n",
       "      <td>Warrantless</td>\n",
       "      <td>Owner</td>\n",
       "      <td>Front-Wheel Drive</td>\n",
       "      <td>4</td>\n",
       "      <td>220</td>\n",
       "      <td>1461</td>\n",
       "      <td>90</td>\n",
       "      <td>4000</td>\n",
       "      <td>1750</td>\n",
       "      <td>12.9</td>\n",
       "      <td>176</td>\n",
       "      <td>3.7</td>\n",
       "      <td>Painted or Changed</td>\n",
       "    </tr>\n",
       "    <tr>\n",
       "      <th>2</th>\n",
       "      <td>Opel</td>\n",
       "      <td>Corsa</td>\n",
       "      <td>2003</td>\n",
       "      <td>205000</td>\n",
       "      <td>Semiautomatic</td>\n",
       "      <td>LPG &amp; Gasoline</td>\n",
       "      <td>Hatchback</td>\n",
       "      <td>Warrantless</td>\n",
       "      <td>Dealer</td>\n",
       "      <td>Front-Wheel Drive</td>\n",
       "      <td>4</td>\n",
       "      <td>110</td>\n",
       "      <td>1199</td>\n",
       "      <td>75</td>\n",
       "      <td>2500</td>\n",
       "      <td>1200</td>\n",
       "      <td>14.0</td>\n",
       "      <td>170</td>\n",
       "      <td>6.2</td>\n",
       "      <td>Painted or Changed</td>\n",
       "    </tr>\n",
       "    <tr>\n",
       "      <th>3</th>\n",
       "      <td>Ford</td>\n",
       "      <td>Focus</td>\n",
       "      <td>2014</td>\n",
       "      <td>209000</td>\n",
       "      <td>Manual</td>\n",
       "      <td>LPG &amp; Gasoline</td>\n",
       "      <td>Sedan</td>\n",
       "      <td>Warrantless</td>\n",
       "      <td>Owner</td>\n",
       "      <td>Front-Wheel Drive</td>\n",
       "      <td>4</td>\n",
       "      <td>158</td>\n",
       "      <td>1596</td>\n",
       "      <td>125</td>\n",
       "      <td>6300</td>\n",
       "      <td>4000</td>\n",
       "      <td>10.9</td>\n",
       "      <td>198</td>\n",
       "      <td>6.0</td>\n",
       "      <td>Original</td>\n",
       "    </tr>\n",
       "    <tr>\n",
       "      <th>4</th>\n",
       "      <td>Other</td>\n",
       "      <td>Other Other</td>\n",
       "      <td>1993</td>\n",
       "      <td>217000</td>\n",
       "      <td>Manual</td>\n",
       "      <td>LPG &amp; Gasoline</td>\n",
       "      <td>Hatchback</td>\n",
       "      <td>Warrantless</td>\n",
       "      <td>Owner</td>\n",
       "      <td>Front-Wheel Drive</td>\n",
       "      <td>4</td>\n",
       "      <td>130</td>\n",
       "      <td>1300</td>\n",
       "      <td>95</td>\n",
       "      <td>2500</td>\n",
       "      <td>1200</td>\n",
       "      <td>16.4</td>\n",
       "      <td>150</td>\n",
       "      <td>5.5</td>\n",
       "      <td>Original</td>\n",
       "    </tr>\n",
       "    <tr>\n",
       "      <th>...</th>\n",
       "      <td>...</td>\n",
       "      <td>...</td>\n",
       "      <td>...</td>\n",
       "      <td>...</td>\n",
       "      <td>...</td>\n",
       "      <td>...</td>\n",
       "      <td>...</td>\n",
       "      <td>...</td>\n",
       "      <td>...</td>\n",
       "      <td>...</td>\n",
       "      <td>...</td>\n",
       "      <td>...</td>\n",
       "      <td>...</td>\n",
       "      <td>...</td>\n",
       "      <td>...</td>\n",
       "      <td>...</td>\n",
       "      <td>...</td>\n",
       "      <td>...</td>\n",
       "      <td>...</td>\n",
       "      <td>...</td>\n",
       "    </tr>\n",
       "    <tr>\n",
       "      <th>994</th>\n",
       "      <td>Opel</td>\n",
       "      <td>Astra</td>\n",
       "      <td>2005</td>\n",
       "      <td>228000</td>\n",
       "      <td>Manual</td>\n",
       "      <td>LPG &amp; Gasoline</td>\n",
       "      <td>Hatchback</td>\n",
       "      <td>Warrantless</td>\n",
       "      <td>Owner</td>\n",
       "      <td>Front-Wheel Drive</td>\n",
       "      <td>4</td>\n",
       "      <td>150</td>\n",
       "      <td>1598</td>\n",
       "      <td>105</td>\n",
       "      <td>6000</td>\n",
       "      <td>3900</td>\n",
       "      <td>12.3</td>\n",
       "      <td>185</td>\n",
       "      <td>6.6</td>\n",
       "      <td>Painted or Changed</td>\n",
       "    </tr>\n",
       "    <tr>\n",
       "      <th>995</th>\n",
       "      <td>Renault</td>\n",
       "      <td>Other Renault</td>\n",
       "      <td>1997</td>\n",
       "      <td>370000</td>\n",
       "      <td>Manual</td>\n",
       "      <td>LPG &amp; Gasoline</td>\n",
       "      <td>Hatchback</td>\n",
       "      <td>Warrantless</td>\n",
       "      <td>Owner</td>\n",
       "      <td>Front-Wheel Drive</td>\n",
       "      <td>4</td>\n",
       "      <td>131</td>\n",
       "      <td>1598</td>\n",
       "      <td>90</td>\n",
       "      <td>5250</td>\n",
       "      <td>2500</td>\n",
       "      <td>14.8</td>\n",
       "      <td>187</td>\n",
       "      <td>6.2</td>\n",
       "      <td>Original</td>\n",
       "    </tr>\n",
       "    <tr>\n",
       "      <th>996</th>\n",
       "      <td>Fiat</td>\n",
       "      <td>Linea</td>\n",
       "      <td>2011</td>\n",
       "      <td>446000</td>\n",
       "      <td>Manual</td>\n",
       "      <td>Diesel</td>\n",
       "      <td>Sedan</td>\n",
       "      <td>Warrantless</td>\n",
       "      <td>Owner</td>\n",
       "      <td>Front-Wheel Drive</td>\n",
       "      <td>4</td>\n",
       "      <td>290</td>\n",
       "      <td>1598</td>\n",
       "      <td>105</td>\n",
       "      <td>4000</td>\n",
       "      <td>1500</td>\n",
       "      <td>11.0</td>\n",
       "      <td>190</td>\n",
       "      <td>5.0</td>\n",
       "      <td>Painted or Changed</td>\n",
       "    </tr>\n",
       "    <tr>\n",
       "      <th>997</th>\n",
       "      <td>Renault</td>\n",
       "      <td>Symbol</td>\n",
       "      <td>2011</td>\n",
       "      <td>60000</td>\n",
       "      <td>Manual</td>\n",
       "      <td>Gasoline</td>\n",
       "      <td>Sedan</td>\n",
       "      <td>Warrantless</td>\n",
       "      <td>Owner</td>\n",
       "      <td>Front-Wheel Drive</td>\n",
       "      <td>4</td>\n",
       "      <td>114</td>\n",
       "      <td>1390</td>\n",
       "      <td>75</td>\n",
       "      <td>5500</td>\n",
       "      <td>4250</td>\n",
       "      <td>12.5</td>\n",
       "      <td>170</td>\n",
       "      <td>7.1</td>\n",
       "      <td>Original</td>\n",
       "    </tr>\n",
       "    <tr>\n",
       "      <th>998</th>\n",
       "      <td>Fiat</td>\n",
       "      <td>Egea</td>\n",
       "      <td>2019</td>\n",
       "      <td>35000</td>\n",
       "      <td>Manual</td>\n",
       "      <td>Gasoline</td>\n",
       "      <td>Sedan</td>\n",
       "      <td>Warrantless</td>\n",
       "      <td>Owner</td>\n",
       "      <td>Front-Wheel Drive</td>\n",
       "      <td>4</td>\n",
       "      <td>127</td>\n",
       "      <td>1368</td>\n",
       "      <td>95</td>\n",
       "      <td>6000</td>\n",
       "      <td>4500</td>\n",
       "      <td>11.5</td>\n",
       "      <td>185</td>\n",
       "      <td>5.7</td>\n",
       "      <td>Painted or Changed</td>\n",
       "    </tr>\n",
       "  </tbody>\n",
       "</table>\n",
       "<p>999 rows × 20 columns</p>\n",
       "</div>"
      ],
      "text/plain": [
       "        make         series  year      km   transmission            fuel  \\\n",
       "0       Ford          Focus  2009  281000      Automatic  LPG & Gasoline   \n",
       "1    Renault           Clio  2017  162000  Semiautomatic          Diesel   \n",
       "2       Opel          Corsa  2003  205000  Semiautomatic  LPG & Gasoline   \n",
       "3       Ford          Focus  2014  209000         Manual  LPG & Gasoline   \n",
       "4      Other    Other Other  1993  217000         Manual  LPG & Gasoline   \n",
       "..       ...            ...   ...     ...            ...             ...   \n",
       "994     Opel          Astra  2005  228000         Manual  LPG & Gasoline   \n",
       "995  Renault  Other Renault  1997  370000         Manual  LPG & Gasoline   \n",
       "996     Fiat          Linea  2011  446000         Manual          Diesel   \n",
       "997  Renault         Symbol  2011   60000         Manual        Gasoline   \n",
       "998     Fiat           Egea  2019   35000         Manual        Gasoline   \n",
       "\n",
       "     body_type     warranty   from_        wheel_drive  cylinder_number  \\\n",
       "0        Sedan  Warrantless   Owner  Front-Wheel Drive                4   \n",
       "1    Hatchback  Warrantless   Owner  Front-Wheel Drive                4   \n",
       "2    Hatchback  Warrantless  Dealer  Front-Wheel Drive                4   \n",
       "3        Sedan  Warrantless   Owner  Front-Wheel Drive                4   \n",
       "4    Hatchback  Warrantless   Owner  Front-Wheel Drive                4   \n",
       "..         ...          ...     ...                ...              ...   \n",
       "994  Hatchback  Warrantless   Owner  Front-Wheel Drive                4   \n",
       "995  Hatchback  Warrantless   Owner  Front-Wheel Drive                4   \n",
       "996      Sedan  Warrantless   Owner  Front-Wheel Drive                4   \n",
       "997      Sedan  Warrantless   Owner  Front-Wheel Drive                4   \n",
       "998      Sedan  Warrantless   Owner  Front-Wheel Drive                4   \n",
       "\n",
       "     torque_nm  engine_capacity_cc  engine_power_hp  max_power_rpm  \\\n",
       "0          150                1596              100           6000   \n",
       "1          220                1461               90           4000   \n",
       "2          110                1199               75           2500   \n",
       "3          158                1596              125           6300   \n",
       "4          130                1300               95           2500   \n",
       "..         ...                 ...              ...            ...   \n",
       "994        150                1598              105           6000   \n",
       "995        131                1598               90           5250   \n",
       "996        290                1598              105           4000   \n",
       "997        114                1390               75           5500   \n",
       "998        127                1368               95           6000   \n",
       "\n",
       "     min_power_rpm  acceleration_0to100_sec  max_speed_kmh  \\\n",
       "0             4000                     14.2            182   \n",
       "1             1750                     12.9            176   \n",
       "2             1200                     14.0            170   \n",
       "3             4000                     10.9            198   \n",
       "4             1200                     16.4            150   \n",
       "..             ...                      ...            ...   \n",
       "994           3900                     12.3            185   \n",
       "995           2500                     14.8            187   \n",
       "996           1500                     11.0            190   \n",
       "997           4250                     12.5            170   \n",
       "998           4500                     11.5            185   \n",
       "\n",
       "     average_fuel_consumption_lt     painted_changed  \n",
       "0                            6.7            Original  \n",
       "1                            3.7  Painted or Changed  \n",
       "2                            6.2  Painted or Changed  \n",
       "3                            6.0            Original  \n",
       "4                            5.5            Original  \n",
       "..                           ...                 ...  \n",
       "994                          6.6  Painted or Changed  \n",
       "995                          6.2            Original  \n",
       "996                          5.0  Painted or Changed  \n",
       "997                          7.1            Original  \n",
       "998                          5.7  Painted or Changed  \n",
       "\n",
       "[999 rows x 20 columns]"
      ]
     },
     "execution_count": 93,
     "metadata": {},
     "output_type": "execute_result"
    }
   ],
   "source": [
    "test.drop_duplicates(inplace=True)\n",
    "test = test.reset_index(drop=True)\n",
    "test"
   ]
  },
  {
   "cell_type": "code",
   "execution_count": 94,
   "id": "f1be98c8",
   "metadata": {},
   "outputs": [
    {
     "name": "stdout",
     "output_type": "stream",
     "text": [
      "<class 'pandas.core.frame.DataFrame'>\n",
      "RangeIndex: 999 entries, 0 to 998\n",
      "Data columns (total 20 columns):\n",
      " #   Column                       Non-Null Count  Dtype  \n",
      "---  ------                       --------------  -----  \n",
      " 0   make                         999 non-null    object \n",
      " 1   series                       999 non-null    object \n",
      " 2   year                         999 non-null    int64  \n",
      " 3   km                           999 non-null    int64  \n",
      " 4   transmission                 999 non-null    object \n",
      " 5   fuel                         999 non-null    object \n",
      " 6   body_type                    999 non-null    object \n",
      " 7   warranty                     999 non-null    object \n",
      " 8   from_                        999 non-null    object \n",
      " 9   wheel_drive                  999 non-null    object \n",
      " 10  cylinder_number              999 non-null    int64  \n",
      " 11  torque_nm                    999 non-null    int64  \n",
      " 12  engine_capacity_cc           999 non-null    int64  \n",
      " 13  engine_power_hp              999 non-null    int64  \n",
      " 14  max_power_rpm                999 non-null    int64  \n",
      " 15  min_power_rpm                999 non-null    int64  \n",
      " 16  acceleration_0to100_sec      999 non-null    float64\n",
      " 17  max_speed_kmh                999 non-null    int64  \n",
      " 18  average_fuel_consumption_lt  999 non-null    float64\n",
      " 19  painted_changed              999 non-null    object \n",
      "dtypes: float64(2), int64(9), object(9)\n",
      "memory usage: 156.2+ KB\n"
     ]
    }
   ],
   "source": [
    "test.info()"
   ]
  },
  {
   "cell_type": "code",
   "execution_count": 95,
   "id": "f4aca528",
   "metadata": {},
   "outputs": [],
   "source": [
    "test.to_csv('arabam_test.csv')"
   ]
  }
 ],
 "metadata": {
  "kernelspec": {
   "display_name": "Python 3 (ipykernel)",
   "language": "python",
   "name": "python3"
  },
  "language_info": {
   "codemirror_mode": {
    "name": "ipython",
    "version": 3
   },
   "file_extension": ".py",
   "mimetype": "text/x-python",
   "name": "python",
   "nbconvert_exporter": "python",
   "pygments_lexer": "ipython3",
   "version": "3.11.4"
  }
 },
 "nbformat": 4,
 "nbformat_minor": 5
}
